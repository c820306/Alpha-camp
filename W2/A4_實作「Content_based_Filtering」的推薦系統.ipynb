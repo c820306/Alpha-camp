{
  "cells": [
    {
      "cell_type": "markdown",
      "metadata": {
        "id": "view-in-github",
        "colab_type": "text"
      },
      "source": [
        "<a href=\"https://colab.research.google.com/github/c820306/Alpha_camp_recommentation/blob/main/A4_%E5%AF%A6%E4%BD%9C%E3%80%8CContent_based_Filtering%E3%80%8D%E7%9A%84%E6%8E%A8%E8%96%A6%E7%B3%BB%E7%B5%B1.ipynb\" target=\"_parent\"><img src=\"https://colab.research.google.com/assets/colab-badge.svg\" alt=\"Open In Colab\"/></a>"
      ]
    },
    {
      "cell_type": "markdown",
      "metadata": {
        "id": "uayb_PWkpZlT"
      },
      "source": [
        "## 1.匯入資料"
      ]
    },
    {
      "cell_type": "code",
      "execution_count": null,
      "metadata": {
        "id": "AUzpFHYrpZla"
      },
      "outputs": [],
      "source": [
        "import re\n",
        "import numpy as np\n",
        "import matplotlib.pyplot as plt\n",
        "import seaborn as sns\n",
        "sns.set_theme(style=\"darkgrid\")"
      ]
    },
    {
      "cell_type": "code",
      "execution_count": 4,
      "metadata": {
        "id": "rEWbu3nLpZlc"
      },
      "outputs": [],
      "source": [
        "import pandas as pd\n",
        "import gzip, json\n",
        "def parse(path):\n",
        "    g = gzip.open(path, 'rb')\n",
        "    for l in g:\n",
        "        yield json.loads(l)\n",
        "def getDF(path):\n",
        "    i = 0\n",
        "    df = {}\n",
        "    for d in parse(path):\n",
        "        df[i] = d\n",
        "        i += 1\n",
        "    return pd.DataFrame.from_dict(df, orient='index')"
      ]
    },
    {
      "cell_type": "markdown",
      "metadata": {
        "id": "ZGMeQKFNpZlc"
      },
      "source": [
        "## 2.載入資料"
      ]
    },
    {
      "cell_type": "code",
      "execution_count": 1,
      "metadata": {
        "colab": {
          "base_uri": "https://localhost:8080/"
        },
        "id": "Y4RJsQtwpZld",
        "outputId": "b34f4a0d-93f1-499d-8e74-815e5980e710"
      },
      "outputs": [
        {
          "output_type": "stream",
          "name": "stdout",
          "text": [
            "--2022-01-02 02:37:13--  http://deepyeti.ucsd.edu/jianmo/amazon/categoryFilesSmall/All_Beauty.csv\n",
            "Resolving deepyeti.ucsd.edu (deepyeti.ucsd.edu)... 169.228.63.50\n",
            "Connecting to deepyeti.ucsd.edu (deepyeti.ucsd.edu)|169.228.63.50|:80... connected.\n",
            "HTTP request sent, awaiting response... 200 OK\n",
            "Length: 15499476 (15M) [application/octet-stream]\n",
            "Saving to: ‘All_Beauty.csv’\n",
            "\n",
            "All_Beauty.csv      100%[===================>]  14.78M  8.86MB/s    in 1.7s    \n",
            "\n",
            "2022-01-02 02:37:15 (8.86 MB/s) - ‘All_Beauty.csv’ saved [15499476/15499476]\n",
            "\n",
            "--2022-01-02 02:37:15--  http://deepyeti.ucsd.edu/jianmo/amazon/metaFiles2/meta_All_Beauty.json.gz\n",
            "Resolving deepyeti.ucsd.edu (deepyeti.ucsd.edu)... 169.228.63.50\n",
            "Connecting to deepyeti.ucsd.edu (deepyeti.ucsd.edu)|169.228.63.50|:80... connected.\n",
            "HTTP request sent, awaiting response... 200 OK\n",
            "Length: 10329961 (9.9M) [application/octet-stream]\n",
            "Saving to: ‘meta_All_Beauty.json.gz’\n",
            "\n",
            "meta_All_Beauty.jso 100%[===================>]   9.85M  6.56MB/s    in 1.5s    \n",
            "\n",
            "2022-01-02 02:37:17 (6.56 MB/s) - ‘meta_All_Beauty.json.gz’ saved [10329961/10329961]\n",
            "\n"
          ]
        }
      ],
      "source": [
        "!wget http://deepyeti.ucsd.edu/jianmo/amazon/categoryFilesSmall/All_Beauty.csv\n",
        "!wget http://deepyeti.ucsd.edu/jianmo/amazon/metaFiles2/meta_All_Beauty.json.gz"
      ]
    },
    {
      "cell_type": "code",
      "execution_count": 5,
      "metadata": {
        "id": "60PgEVpkpZld"
      },
      "outputs": [],
      "source": [
        "metadata = getDF('/content/meta_All_Beauty.json.gz')\n",
        "ratings = pd.read_csv('/content/All_Beauty.csv', names=['asin', 'reviewerID', 'overall', 'unixReviewTime'], header=None)"
      ]
    },
    {
      "cell_type": "code",
      "execution_count": null,
      "metadata": {
        "id": "3rrow0IspZle"
      },
      "outputs": [],
      "source": [
        "# metadata = getDF('./meta_All_Beauty.json.gz')\n",
        "# ratings = pd.read_csv('./All_Beauty.csv', names=['asin', 'reviewerID', 'overall', 'unixReviewTime'], header=None)"
      ]
    },
    {
      "cell_type": "code",
      "execution_count": null,
      "metadata": {
        "id": "MOVY7pFvpZlf",
        "outputId": "9f335430-da05-438e-d732-8095025f5fa2"
      },
      "outputs": [
        {
          "data": {
            "text/html": [
              "<div>\n",
              "<style scoped>\n",
              "    .dataframe tbody tr th:only-of-type {\n",
              "        vertical-align: middle;\n",
              "    }\n",
              "\n",
              "    .dataframe tbody tr th {\n",
              "        vertical-align: top;\n",
              "    }\n",
              "\n",
              "    .dataframe thead th {\n",
              "        text-align: right;\n",
              "    }\n",
              "</style>\n",
              "<table border=\"1\" class=\"dataframe\">\n",
              "  <thead>\n",
              "    <tr style=\"text-align: right;\">\n",
              "      <th></th>\n",
              "      <th>asin</th>\n",
              "      <th>reviewerID</th>\n",
              "      <th>overall</th>\n",
              "      <th>unixReviewTime</th>\n",
              "    </tr>\n",
              "  </thead>\n",
              "  <tbody>\n",
              "    <tr>\n",
              "      <th>0</th>\n",
              "      <td>0143026860</td>\n",
              "      <td>A1V6B6TNIC10QE</td>\n",
              "      <td>1.0</td>\n",
              "      <td>1424304000</td>\n",
              "    </tr>\n",
              "    <tr>\n",
              "      <th>1</th>\n",
              "      <td>0143026860</td>\n",
              "      <td>A2F5GHSXFQ0W6J</td>\n",
              "      <td>4.0</td>\n",
              "      <td>1418860800</td>\n",
              "    </tr>\n",
              "    <tr>\n",
              "      <th>2</th>\n",
              "      <td>0143026860</td>\n",
              "      <td>A1572GUYS7DGSR</td>\n",
              "      <td>4.0</td>\n",
              "      <td>1407628800</td>\n",
              "    </tr>\n",
              "  </tbody>\n",
              "</table>\n",
              "</div>"
            ],
            "text/plain": [
              "         asin      reviewerID  overall  unixReviewTime\n",
              "0  0143026860  A1V6B6TNIC10QE      1.0      1424304000\n",
              "1  0143026860  A2F5GHSXFQ0W6J      4.0      1418860800\n",
              "2  0143026860  A1572GUYS7DGSR      4.0      1407628800"
            ]
          },
          "execution_count": 7,
          "metadata": {},
          "output_type": "execute_result"
        }
      ],
      "source": [
        "ratings.head(3)"
      ]
    },
    {
      "cell_type": "code",
      "execution_count": null,
      "metadata": {
        "scrolled": true,
        "id": "bH-ooLyKpZlg",
        "outputId": "fea61af0-66d2-4281-aa45-8bb7fc859ee1"
      },
      "outputs": [
        {
          "data": {
            "text/html": [
              "<div>\n",
              "<style scoped>\n",
              "    .dataframe tbody tr th:only-of-type {\n",
              "        vertical-align: middle;\n",
              "    }\n",
              "\n",
              "    .dataframe tbody tr th {\n",
              "        vertical-align: top;\n",
              "    }\n",
              "\n",
              "    .dataframe thead th {\n",
              "        text-align: right;\n",
              "    }\n",
              "</style>\n",
              "<table border=\"1\" class=\"dataframe\">\n",
              "  <thead>\n",
              "    <tr style=\"text-align: right;\">\n",
              "      <th></th>\n",
              "      <th>category</th>\n",
              "      <th>tech1</th>\n",
              "      <th>description</th>\n",
              "      <th>fit</th>\n",
              "      <th>title</th>\n",
              "      <th>also_buy</th>\n",
              "      <th>tech2</th>\n",
              "      <th>brand</th>\n",
              "      <th>feature</th>\n",
              "      <th>rank</th>\n",
              "      <th>also_view</th>\n",
              "      <th>details</th>\n",
              "      <th>main_cat</th>\n",
              "      <th>similar_item</th>\n",
              "      <th>date</th>\n",
              "      <th>price</th>\n",
              "      <th>asin</th>\n",
              "      <th>imageURL</th>\n",
              "      <th>imageURLHighRes</th>\n",
              "    </tr>\n",
              "  </thead>\n",
              "  <tbody>\n",
              "    <tr>\n",
              "      <th>0</th>\n",
              "      <td>[]</td>\n",
              "      <td></td>\n",
              "      <td>[Loud 'N Clear Personal Sound Amplifier allows...</td>\n",
              "      <td></td>\n",
              "      <td>Loud 'N Clear&amp;trade; Personal Sound Amplifier</td>\n",
              "      <td>[]</td>\n",
              "      <td></td>\n",
              "      <td>idea village</td>\n",
              "      <td>[]</td>\n",
              "      <td>2,938,573 in Beauty &amp; Personal Care (</td>\n",
              "      <td>[]</td>\n",
              "      <td>{'ASIN: ': '6546546450'}</td>\n",
              "      <td>All Beauty</td>\n",
              "      <td></td>\n",
              "      <td></td>\n",
              "      <td></td>\n",
              "      <td>6546546450</td>\n",
              "      <td>[]</td>\n",
              "      <td>[]</td>\n",
              "    </tr>\n",
              "    <tr>\n",
              "      <th>1</th>\n",
              "      <td>[]</td>\n",
              "      <td></td>\n",
              "      <td>[No7 Lift &amp; Luminate Triple Action Serum 50ml ...</td>\n",
              "      <td></td>\n",
              "      <td>No7 Lift &amp;amp; Luminate Triple Action Serum 50...</td>\n",
              "      <td>[B01E7LCSL6, B008X5RVME]</td>\n",
              "      <td></td>\n",
              "      <td></td>\n",
              "      <td>[]</td>\n",
              "      <td>872,854 in Beauty &amp; Personal Care (</td>\n",
              "      <td>[]</td>\n",
              "      <td>{'Shipping Weight:': '0.3 ounces (', 'ASIN: ':...</td>\n",
              "      <td>All Beauty</td>\n",
              "      <td>class=\"a-bordered a-horizontal-stripes  a-spa...</td>\n",
              "      <td></td>\n",
              "      <td>$44.99</td>\n",
              "      <td>7178680776</td>\n",
              "      <td>[]</td>\n",
              "      <td>[]</td>\n",
              "    </tr>\n",
              "    <tr>\n",
              "      <th>2</th>\n",
              "      <td>[]</td>\n",
              "      <td></td>\n",
              "      <td>[No7 Stay Perfect Foundation now stays perfect...</td>\n",
              "      <td></td>\n",
              "      <td>No7 Stay Perfect Foundation Cool Vanilla by No7</td>\n",
              "      <td>[]</td>\n",
              "      <td></td>\n",
              "      <td>No7</td>\n",
              "      <td>[]</td>\n",
              "      <td>956,696 in Beauty &amp; Personal Care (</td>\n",
              "      <td>[B01B8BR0O8, B01B8BR0NO, B014MHXXM8]</td>\n",
              "      <td>{'Shipping Weight:': '3.5 ounces (', 'ASIN: ':...</td>\n",
              "      <td>All Beauty</td>\n",
              "      <td></td>\n",
              "      <td></td>\n",
              "      <td>$28.76</td>\n",
              "      <td>7250468162</td>\n",
              "      <td>[]</td>\n",
              "      <td>[]</td>\n",
              "    </tr>\n",
              "  </tbody>\n",
              "</table>\n",
              "</div>"
            ],
            "text/plain": [
              "  category tech1                                        description fit  \\\n",
              "0       []        [Loud 'N Clear Personal Sound Amplifier allows...       \n",
              "1       []        [No7 Lift & Luminate Triple Action Serum 50ml ...       \n",
              "2       []        [No7 Stay Perfect Foundation now stays perfect...       \n",
              "\n",
              "                                               title  \\\n",
              "0      Loud 'N Clear&trade; Personal Sound Amplifier   \n",
              "1  No7 Lift &amp; Luminate Triple Action Serum 50...   \n",
              "2    No7 Stay Perfect Foundation Cool Vanilla by No7   \n",
              "\n",
              "                   also_buy tech2         brand feature  \\\n",
              "0                        []        idea village      []   \n",
              "1  [B01E7LCSL6, B008X5RVME]                          []   \n",
              "2                        []                 No7      []   \n",
              "\n",
              "                                    rank  \\\n",
              "0  2,938,573 in Beauty & Personal Care (   \n",
              "1    872,854 in Beauty & Personal Care (   \n",
              "2    956,696 in Beauty & Personal Care (   \n",
              "\n",
              "                              also_view  \\\n",
              "0                                    []   \n",
              "1                                    []   \n",
              "2  [B01B8BR0O8, B01B8BR0NO, B014MHXXM8]   \n",
              "\n",
              "                                             details    main_cat  \\\n",
              "0                           {'ASIN: ': '6546546450'}  All Beauty   \n",
              "1  {'Shipping Weight:': '0.3 ounces (', 'ASIN: ':...  All Beauty   \n",
              "2  {'Shipping Weight:': '3.5 ounces (', 'ASIN: ':...  All Beauty   \n",
              "\n",
              "                                        similar_item date   price        asin  \\\n",
              "0                                                                  6546546450   \n",
              "1   class=\"a-bordered a-horizontal-stripes  a-spa...       $44.99  7178680776   \n",
              "2                                                          $28.76  7250468162   \n",
              "\n",
              "  imageURL imageURLHighRes  \n",
              "0       []              []  \n",
              "1       []              []  \n",
              "2       []              []  "
            ]
          },
          "execution_count": 8,
          "metadata": {},
          "output_type": "execute_result"
        }
      ],
      "source": [
        "metadata.head(3)"
      ]
    },
    {
      "cell_type": "code",
      "execution_count": null,
      "metadata": {
        "id": "7-3zxQutpZlh",
        "outputId": "694fb6c5-87af-4862-eb78-29e8409754f4"
      },
      "outputs": [
        {
          "name": "stdout",
          "output_type": "stream",
          "text": [
            "(32892, 19)\n",
            "(371345, 4)\n"
          ]
        }
      ],
      "source": [
        "print(metadata.shape)\n",
        "print(ratings.shape)"
      ]
    },
    {
      "cell_type": "markdown",
      "metadata": {
        "id": "wSLjnIlPpZli"
      },
      "source": [
        " ## 3.資料清洗與EDA"
      ]
    },
    {
      "cell_type": "code",
      "execution_count": null,
      "metadata": {
        "id": "dl2AdEjKpZli"
      },
      "outputs": [],
      "source": [
        "##去除重複資料\n",
        "metadata = metadata.loc[metadata.astype(str).drop_duplicates().index]"
      ]
    },
    {
      "cell_type": "code",
      "execution_count": null,
      "metadata": {
        "scrolled": true,
        "id": "BE_8Fde6pZlj"
      },
      "outputs": [],
      "source": [
        "metadata_clean = metadata.drop(['category','tech1','fit','tech2','imageURL','imageURLHighRes','main_cat'],axis=1)"
      ]
    },
    {
      "cell_type": "code",
      "execution_count": null,
      "metadata": {
        "id": "UTpsFTGbpZlj",
        "outputId": "e83ab45f-98a9-4a22-a74d-c93b8997c750"
      },
      "outputs": [
        {
          "data": {
            "text/plain": [
              "(32488, 12)"
            ]
          },
          "execution_count": 12,
          "metadata": {},
          "output_type": "execute_result"
        }
      ],
      "source": [
        "metadata_clean.shape"
      ]
    },
    {
      "cell_type": "code",
      "execution_count": null,
      "metadata": {
        "id": "0l3oLmFRpZlk"
      },
      "outputs": [],
      "source": [
        "metadata_clean['ranking'] = metadata_clean['rank'].str.split(expand=True)[0]\n",
        "metadata_clean['ranking'] = pd.to_numeric(metadata_clean['ranking'].str.replace(',',''))\n",
        "# metadata_clean.loc[metadata_clean['ranking'].isnull().index, ['ranking']] = np.nan"
      ]
    },
    {
      "cell_type": "code",
      "execution_count": null,
      "metadata": {
        "scrolled": true,
        "id": "zrhcH8eppZlk"
      },
      "outputs": [],
      "source": [
        "metadata_clean['sub_catagory'] = metadata_clean['rank'].str.split('in').str[1]\n",
        "metadata_clean['sub_catagory'] = metadata_clean['sub_catagory'].str.replace(r'(','', regex=True)\n",
        "metadata_clean['sub_catagory'] = metadata_clean['sub_catagory'].str.replace(r'&.*;','', regex=True)\n",
        "metadata_clean['sub_catagory'] = metadata_clean['sub_catagory'].str.replace(r'&','', regex=True)"
      ]
    },
    {
      "cell_type": "code",
      "execution_count": null,
      "metadata": {
        "id": "_ssEdnm8pZlk",
        "outputId": "1aebbec4-9b27-4645-a807-c0f77b2b51c9"
      },
      "outputs": [
        {
          "data": {
            "text/plain": [
              " Beauty  Personal Care       32015\n",
              " Grocery  Gourmet Food          37\n",
              " Health  Household              21\n",
              " Toys  Games                     3\n",
              " Sports  Outdoors                3\n",
              " Baby                            2\n",
              " Cloth                           2\n",
              " Tools  Home Improvement         1\n",
              " Automotive                      1\n",
              " Home  Kitchen                   1\n",
              "Name: sub_catagory, dtype: int64"
            ]
          },
          "execution_count": 15,
          "metadata": {},
          "output_type": "execute_result"
        }
      ],
      "source": [
        "# 檢視各子分類數量\n",
        "metadata_clean['sub_catagory'].value_counts()"
      ]
    },
    {
      "cell_type": "code",
      "execution_count": null,
      "metadata": {
        "id": "VKupAKIjpZll"
      },
      "outputs": [],
      "source": [
        "# 僅Beauty  Personal Care數量最多，只保留 Beauty Personal Care \n",
        "metadata_clean = metadata_clean[metadata_clean['sub_catagory'] ==' Beauty  Personal Care ']\n",
        "metadata_clean.reset_index(inplace=True, drop=True)"
      ]
    },
    {
      "cell_type": "code",
      "execution_count": null,
      "metadata": {
        "id": "EHzgnsJlpZll"
      },
      "outputs": [],
      "source": [
        "# 清洗 metadata_clean['price']\n",
        "metadata_clean['price_n'] = metadata_clean['price'].str.split('$', expand=True)[1]\n",
        "metadata_clean['price_n'] = metadata_clean['price_n'].str.replace(',','')\n",
        "metadata_clean['price_n'] = metadata_clean['price_n'].astype(float)"
      ]
    },
    {
      "cell_type": "code",
      "execution_count": null,
      "metadata": {
        "id": "UDybB7ZzpZll",
        "outputId": "9a347f42-d0bf-4a2f-d99b-bd768943f97c"
      },
      "outputs": [
        {
          "data": {
            "text/plain": [
              "<seaborn.axisgrid.FacetGrid at 0x7fe1fdff6730>"
            ]
          },
          "execution_count": 18,
          "metadata": {},
          "output_type": "execute_result"
        },
        {
          "data": {
            "image/png": "[encoded data removed]",
            "text/plain": [
              "<Figure size 360x360 with 1 Axes>"
            ]
          },
          "metadata": {},
          "output_type": "display_data"
        }
      ],
      "source": [
        "# check the distribution of price, \n",
        "sns.displot(\n",
        "    metadata_clean[metadata_clean['price_n']<100]['price_n'], bins = 3)"
      ]
    },
    {
      "cell_type": "code",
      "execution_count": null,
      "metadata": {
        "id": "RaWPY1uFpZlm"
      },
      "outputs": [],
      "source": [
        "# 將價格分類作為特徵值\n",
        "def price_catagory(x):\n",
        "    if np.isnan(x):\n",
        "        return 'No_price'\n",
        "    elif x <= 20:\n",
        "        return 'Low'\n",
        "    elif x > 20 and x <=40:\n",
        "        return 'Middle'\n",
        "    else:\n",
        "        return 'High'\n",
        "metadata_clean['price_catagory'] = metadata_clean['price_n'].apply(price_catagory)"
      ]
    },
    {
      "cell_type": "code",
      "execution_count": null,
      "metadata": {
        "scrolled": true,
        "id": "WBkEAIcIpZlm",
        "outputId": "4fd4b80d-c41c-4c1b-a31d-c1e9e43cc63a"
      },
      "outputs": [
        {
          "data": {
            "text/plain": [
              "<AxesSubplot:>"
            ]
          },
          "execution_count": 20,
          "metadata": {},
          "output_type": "execute_result"
        },
        {
          "data": {
            "image/png": "[encoded data removed]",
            "text/plain": [
              "<Figure size 720x864 with 1 Axes>"
            ]
          },
          "metadata": {},
          "output_type": "display_data"
        }
      ],
      "source": [
        "# 檢視各品牌資料量\n",
        "metadata_clean['brand'].value_counts(ascending=True).iloc[-40:-1].to_frame().plot(kind='barh',figsize=(10,12))"
      ]
    },
    {
      "cell_type": "code",
      "execution_count": null,
      "metadata": {
        "scrolled": true,
        "id": "xSffCofGpZlm",
        "outputId": "5c7a5192-0d14-4ea3-95f2-3c7e01bccc73"
      },
      "outputs": [
        {
          "name": "stdout",
          "output_type": "stream",
          "text": [
            "number of empty brand:  15388\n"
          ]
        }
      ],
      "source": [
        "# 檢查brand空值\n",
        "print(\"number of empty brand: \", len(metadata_clean[metadata_clean['brand']== '']))\n",
        "# brand空值補值\n",
        "metadata_clean.loc[metadata_clean[metadata_clean['brand']== ''].index, 'brand'] = 'no_brand'"
      ]
    },
    {
      "cell_type": "code",
      "execution_count": null,
      "metadata": {
        "id": "NZh8mzHRpZln"
      },
      "outputs": [],
      "source": [
        "from sklearn.preprocessing import LabelEncoder\n",
        "labelencoder = LabelEncoder()\n",
        "metadata_clean['brand_n'] = labelencoder.fit_transform(metadata_clean['brand'])"
      ]
    },
    {
      "cell_type": "code",
      "execution_count": null,
      "metadata": {
        "id": "xezCPTLspZln"
      },
      "outputs": [],
      "source": [
        "ratings['DATE'] = pd.to_datetime(ratings['unixReviewTime'], unit='s')"
      ]
    },
    {
      "cell_type": "code",
      "execution_count": null,
      "metadata": {
        "id": "uKDd07yIpZln",
        "outputId": "77e65d28-395c-4da2-c605-c6448d8116cb"
      },
      "outputs": [
        {
          "name": "stdout",
          "output_type": "stream",
          "text": [
            "date range of rating:  2000-01-10 00:00:00 2018-10-02 00:00:00\n"
          ]
        }
      ],
      "source": [
        "print(\"date range of rating: \", ratings['DATE'].min(),ratings['DATE'].max())"
      ]
    },
    {
      "cell_type": "code",
      "execution_count": null,
      "metadata": {
        "id": "mAm5dUeSpZlo"
      },
      "outputs": [],
      "source": [
        "ratings['YYYYMM'] = ratings['DATE'].apply(lambda x : x.strftime(\"%Y-%m\"))"
      ]
    },
    {
      "cell_type": "code",
      "execution_count": null,
      "metadata": {
        "id": "vprRK_iSpZlo",
        "outputId": "d8bdc952-a1fe-4e0e-aef2-eb2d81bd50ec"
      },
      "outputs": [
        {
          "data": {
            "text/plain": [
              "<AxesSubplot:xlabel='YYYYMM'>"
            ]
          },
          "execution_count": 25,
          "metadata": {},
          "output_type": "execute_result"
        },
        {
          "data": {
            "image/png": "[encoded data removed]",
            "text/plain": [
              "<Figure size 432x288 with 1 Axes>"
            ]
          },
          "metadata": {},
          "output_type": "display_data"
        }
      ],
      "source": [
        "## 每月銷售量有減少跡象\n",
        "ratings.groupby(['YYYYMM']).agg(count =('asin','count')).plot()"
      ]
    },
    {
      "cell_type": "code",
      "execution_count": null,
      "metadata": {
        "id": "I9cmm_AWpZlp",
        "outputId": "de12a188-98da-4001-f81e-74d9aa6bb03b"
      },
      "outputs": [
        {
          "data": {
            "text/html": [
              "<div>\n",
              "<style scoped>\n",
              "    .dataframe tbody tr th:only-of-type {\n",
              "        vertical-align: middle;\n",
              "    }\n",
              "\n",
              "    .dataframe tbody tr th {\n",
              "        vertical-align: top;\n",
              "    }\n",
              "\n",
              "    .dataframe thead th {\n",
              "        text-align: right;\n",
              "    }\n",
              "</style>\n",
              "<table border=\"1\" class=\"dataframe\">\n",
              "  <thead>\n",
              "    <tr style=\"text-align: right;\">\n",
              "      <th>YYYYMM</th>\n",
              "      <th>2000-01</th>\n",
              "      <th>2000-05</th>\n",
              "      <th>2000-06</th>\n",
              "      <th>2000-10</th>\n",
              "      <th>2000-11</th>\n",
              "      <th>2000-12</th>\n",
              "      <th>2001-01</th>\n",
              "      <th>2001-02</th>\n",
              "      <th>2001-03</th>\n",
              "      <th>2001-04</th>\n",
              "      <th>...</th>\n",
              "      <th>2018-01</th>\n",
              "      <th>2018-02</th>\n",
              "      <th>2018-03</th>\n",
              "      <th>2018-04</th>\n",
              "      <th>2018-05</th>\n",
              "      <th>2018-06</th>\n",
              "      <th>2018-07</th>\n",
              "      <th>2018-08</th>\n",
              "      <th>2018-09</th>\n",
              "      <th>2018-10</th>\n",
              "    </tr>\n",
              "  </thead>\n",
              "  <tbody>\n",
              "    <tr>\n",
              "      <th>count</th>\n",
              "      <td>1</td>\n",
              "      <td>1</td>\n",
              "      <td>1</td>\n",
              "      <td>1</td>\n",
              "      <td>4</td>\n",
              "      <td>5</td>\n",
              "      <td>3</td>\n",
              "      <td>4</td>\n",
              "      <td>4</td>\n",
              "      <td>4</td>\n",
              "      <td>...</td>\n",
              "      <td>4870</td>\n",
              "      <td>4470</td>\n",
              "      <td>4966</td>\n",
              "      <td>4644</td>\n",
              "      <td>3807</td>\n",
              "      <td>2978</td>\n",
              "      <td>2387</td>\n",
              "      <td>1662</td>\n",
              "      <td>590</td>\n",
              "      <td>3</td>\n",
              "    </tr>\n",
              "  </tbody>\n",
              "</table>\n",
              "<p>1 rows × 220 columns</p>\n",
              "</div>"
            ],
            "text/plain": [
              "YYYYMM  2000-01  2000-05  2000-06  2000-10  2000-11  2000-12  2001-01  \\\n",
              "count         1        1        1        1        4        5        3   \n",
              "\n",
              "YYYYMM  2001-02  2001-03  2001-04  ...  2018-01  2018-02  2018-03  2018-04  \\\n",
              "count         4        4        4  ...     4870     4470     4966     4644   \n",
              "\n",
              "YYYYMM  2018-05  2018-06  2018-07  2018-08  2018-09  2018-10  \n",
              "count      3807     2978     2387     1662      590        3  \n",
              "\n",
              "[1 rows x 220 columns]"
            ]
          },
          "execution_count": 26,
          "metadata": {},
          "output_type": "execute_result"
        }
      ],
      "source": [
        "ratings.groupby(['YYYYMM']).agg(count =('asin','count')).T"
      ]
    },
    {
      "cell_type": "markdown",
      "metadata": {
        "id": "T1c17FZWpZlp"
      },
      "source": [
        "## TF/IDF處理"
      ]
    },
    {
      "cell_type": "code",
      "execution_count": null,
      "metadata": {
        "id": "jwhYOJT3pZlp",
        "outputId": "72b2d1b3-2ae0-4216-fb0a-912bf70e6f90"
      },
      "outputs": [
        {
          "name": "stderr",
          "output_type": "stream",
          "text": [
            "[nltk_data] Downloading package punkt to /Users/c820306/nltk_data...\n",
            "[nltk_data]   Package punkt is already up-to-date!\n"
          ]
        }
      ],
      "source": [
        "import nltk\n",
        "from nltk.corpus import stopwords\n",
        "from sklearn.feature_extraction.text import TfidfVectorizer\n",
        "# nltk.download(\"stopwords\")\n",
        "nltk.download('punkt')\n",
        "stopword = stopwords.words('english')"
      ]
    },
    {
      "cell_type": "code",
      "execution_count": null,
      "metadata": {
        "scrolled": true,
        "id": "N8eb63ILpZlp",
        "outputId": "ed88c6d9-c6c0-45e2-9ab5-c81ae2eeb2f3"
      },
      "outputs": [
        {
          "name": "stdout",
          "output_type": "stream",
          "text": [
            "the number of stopword:  179\n",
            "['i', 'me', 'my', 'myself', 'we', 'our', 'ours', 'ourselves', 'you', \"you're\"]\n"
          ]
        }
      ],
      "source": [
        "print(\"the number of stopword: \",len(stopword))\n",
        "print(stopword[:10])"
      ]
    },
    {
      "cell_type": "code",
      "execution_count": null,
      "metadata": {
        "id": "_KjCGNu8pZlp"
      },
      "outputs": [],
      "source": [
        "# 合併 title / description/ brand/ price 當作特徵值\n",
        "def txt_clean(x):\n",
        "    words = f'{x[\"title\"]}, {\" \".join(x[\"description\"])}, {\"\".join(str(x[\"brand\"]))}, {\"\".join(x[\"price_catagory\"])}'\n",
        "    words = words.lower()\n",
        "    tokens = nltk.word_tokenize(words)  # --> return list\n",
        "#     print(\"tokens\", tokens)\n",
        "    word_filter = [token for token in tokens if token not in stopword]\n",
        "    #排除重複文字\n",
        "    word_filter = list(set(word_filter))\n",
        "    word_filter = \" \".join(word_filter)\n",
        "    return word_filter"
      ]
    },
    {
      "cell_type": "code",
      "execution_count": null,
      "metadata": {
        "scrolled": true,
        "id": "e2mcCmiNpZlq"
      },
      "outputs": [],
      "source": [
        "metadata_clean['title_description'] = metadata_clean.apply(txt_clean, axis =1)"
      ]
    },
    {
      "cell_type": "code",
      "execution_count": null,
      "metadata": {
        "scrolled": true,
        "id": "T7B99p6qpZlq"
      },
      "outputs": [],
      "source": [
        "# 計算商品用標題所表示的 tfidf 矩陣\n",
        "vectorizer = TfidfVectorizer(min_df = 100) ## min_df = 100 限制字頻>100\n",
        "tfidf_matrix = vectorizer.fit_transform(metadata_clean['title_description'])"
      ]
    },
    {
      "cell_type": "code",
      "execution_count": null,
      "metadata": {
        "id": "gJ8zmvBZpZlq",
        "outputId": "c2df5fa2-4ef8-4829-faeb-ab77721d97bc"
      },
      "outputs": [
        {
          "data": {
            "text/plain": [
              "(32015, 1502)"
            ]
          },
          "execution_count": 32,
          "metadata": {},
          "output_type": "execute_result"
        }
      ],
      "source": [
        "tfidf_matrix.shape"
      ]
    },
    {
      "cell_type": "markdown",
      "metadata": {
        "id": "BGOnBlEupZlq"
      },
      "source": [
        "## 4.切割資料"
      ]
    },
    {
      "cell_type": "code",
      "execution_count": null,
      "metadata": {
        "id": "jnKRKM0zpZlq",
        "outputId": "a317163e-4359-4eac-f872-f146b9857050"
      },
      "outputs": [
        {
          "name": "stdout",
          "output_type": "stream",
          "text": [
            "ratings_trainings1: (370752, 6)\n",
            "ratings_testings: (590, 6)\n"
          ]
        }
      ],
      "source": [
        "ratings_trainings = ratings[(ratings['DATE'] < '2018-09-01')]\n",
        "ratings_testings = ratings[(ratings['DATE'] >= '2018-09-01') &  (ratings['DATE'] <= '2018-09-30')]\n",
        "\n",
        "print(\"ratings_trainings1:\", ratings_trainings.shape)\n",
        "print(\"ratings_testings:\", ratings_testings.shape)"
      ]
    },
    {
      "cell_type": "code",
      "execution_count": null,
      "metadata": {
        "id": "BS57sGiapZlr",
        "outputId": "90a223a4-71f6-49ab-8ea3-615cc56cab46"
      },
      "outputs": [
        {
          "name": "stdout",
          "output_type": "stream",
          "text": [
            "The number of old customer: 38\n",
            "The number of new customer: 546\n",
            "The percentage of old customer stands for: 6.96%\n"
          ]
        }
      ],
      "source": [
        "old_customer = set(ratings_testings['reviewerID'])&set(ratings_trainings['reviewerID'])\n",
        "print(\"The number of old customer:\", len(old_customer))\n",
        "new_customer = set(ratings_testings['reviewerID'])- set(ratings_trainings['reviewerID'])\n",
        "print(\"The number of new customer:\", len(new_customer))\n",
        "print(f'The percentage of old customer stands for: {round(100* (len(old_customer)/len(new_customer)),2)}%')\n"
      ]
    },
    {
      "cell_type": "markdown",
      "metadata": {
        "id": "EWA8Ze0dpZlr"
      },
      "source": [
        "## 5.計算相似度"
      ]
    },
    {
      "cell_type": "code",
      "execution_count": null,
      "metadata": {
        "scrolled": true,
        "id": "ZxN4_HZJpZlr"
      },
      "outputs": [],
      "source": [
        "from sklearn.metrics.pairwise import cosine_similarity\n",
        "similarity_matrix = cosine_similarity(tfidf_matrix)"
      ]
    },
    {
      "cell_type": "markdown",
      "metadata": {
        "id": "Oi1_P0s6pZlr"
      },
      "source": [
        "## 6.推薦系統"
      ]
    },
    {
      "cell_type": "markdown",
      "metadata": {
        "id": "teEc6pq6pZlr"
      },
      "source": [
        "### A. Content-based"
      ]
    },
    {
      "cell_type": "markdown",
      "metadata": {
        "id": "Xxk7PJo_pZlr"
      },
      "source": [
        "使用Content_based分析，將各testing user過去產品推薦k個商品，比較recall"
      ]
    },
    {
      "cell_type": "code",
      "execution_count": null,
      "metadata": {
        "scrolled": true,
        "id": "1jDUDybipZls"
      },
      "outputs": [],
      "source": [
        "asin2index_mapping = pd.Series(metadata_clean.index,index = metadata_clean['asin'])  # title -> index, metadata_clean.index -> column"
      ]
    },
    {
      "cell_type": "code",
      "execution_count": null,
      "metadata": {
        "scrolled": true,
        "id": "RKJxPOecpZls",
        "outputId": "6f543a1c-a8a9-4ce5-f811-cb6f393fefe1"
      },
      "outputs": [
        {
          "name": "stdout",
          "output_type": "stream",
          "text": [
            "【每個商品找最相似2個...】\n",
            "產出每個客戶推薦名單中...\n",
            "產出每個客戶推薦名單：已完成\n",
            "評估結果中...\n",
            "評估結果：已完成\n",
            "\n",
            "【每個商品找最相似5個...】\n",
            "產出每個客戶推薦名單中...\n",
            "產出每個客戶推薦名單：已完成\n",
            "評估結果中...\n",
            "評估結果：已完成\n",
            "\n",
            "【每個商品找最相似10個...】\n",
            "產出每個客戶推薦名單中...\n",
            "產出每個客戶推薦名單：已完成\n",
            "評估結果中...\n",
            "評估結果：已完成\n",
            "\n",
            "【每個商品找最相似15個...】\n",
            "產出每個客戶推薦名單中...\n",
            "產出每個客戶推薦名單：已完成\n",
            "評估結果中...\n",
            "評估結果：已完成\n",
            "\n",
            "【每個商品找最相似20個...】\n",
            "產出每個客戶推薦名單中...\n",
            "產出每個客戶推薦名單：已完成\n",
            "評估結果中...\n",
            "評估結果：已完成\n",
            "\n",
            "【每個商品找最相似25個...】\n",
            "產出每個客戶推薦名單中...\n",
            "產出每個客戶推薦名單：已完成\n",
            "評估結果中...\n",
            "評估結果：已完成\n",
            "\n",
            "【每個商品找最相似30個...】\n",
            "產出每個客戶推薦名單中...\n",
            "產出每個客戶推薦名單：已完成\n",
            "評估結果中...\n",
            "評估結果：已完成\n",
            "\n"
          ]
        }
      ],
      "source": [
        "# 產生資料\n",
        "def create_ratings_data():\n",
        "    \n",
        "    ratings_trainings = ratings[(ratings['DATE'] < '2018-09-01')]\n",
        "    ratings_testings = ratings[(ratings['DATE'] >= '2018-09-01') &  (ratings['DATE'] <= '2018-09-30')]\n",
        "    ratings_testings_by_user = ratings_testings.groupby('reviewerID').agg(list).reset_index()[['reviewerID', 'asin']].to_dict('records') #‘records’ : list like [{column -> value}, … , {column -> value}]\n",
        "    ratings_testings_by_user = { rating['reviewerID']: rating['asin'] for rating in ratings_testings_by_user }\n",
        "    testings_users = list(ratings_testings_by_user.keys())\n",
        "    \n",
        "    return ratings_trainings, ratings_testings, ratings_testings_by_user, testings_users\n",
        "\n",
        "\n",
        "# 推薦相似產品\n",
        "def recommend_similar_item(asin, k=2):\n",
        "    \n",
        "    try:\n",
        "        item_index = asin2index_mapping[asin]\n",
        "        # print(\"asin\", asin)\n",
        "        similarity_score = list(enumerate(similarity_matrix[item_index]))  \n",
        "        similarity_score = sorted(similarity_score, key=lambda x: x[1], reverse=True)\n",
        "        similarity_score = similarity_score[:k]\n",
        "        # print(\"similarity_score\", similarity_score)\n",
        "        item_indices = [i[0] for i in similarity_score]\n",
        "\n",
        "        return (metadata_clean['asin'].iloc[item_indices].tolist())\n",
        "        \n",
        "    except:\n",
        "        return []\n",
        "\n",
        "# 每個客戶的推薦產品清單\n",
        "def recommender(testings_users, ratings_trainings, k):\n",
        "    \n",
        "    recommend_dict_by_user = {}\n",
        "    for user in testings_users:\n",
        "        recommend_list_by_user = []\n",
        "        # 找出測試集客戶過去有買的產品有哪些，藉此依據過去消費商品特徵推薦產品\n",
        "        purchase_record_asin_list = metadata_clean[metadata_clean['asin'].isin(ratings_trainings[ratings_trainings['reviewerID']== user]['asin'].tolist())]['asin'].to_list()\n",
        "        for asin in purchase_record_asin_list:\n",
        "            recommend_list_by_user.extend(recommend_similar_item(asin, k))\n",
        "        # print(user, recommend_list_by_user)\n",
        "        recommend_dict_by_user[user] = recommend_list_by_user\n",
        "    \n",
        "    return recommend_dict_by_user\n",
        "\n",
        "\n",
        "def evaluate(ratings_testings_by_user={}, recommend_dict_by_user={}):\n",
        "\n",
        "    total = 0\n",
        "    for d in ratings_testings_by_user:\n",
        "        if d in recommend_dict_by_user:\n",
        "            total += len(set(recommend_dict_by_user[d]) & set(ratings_testings_by_user[d]))\n",
        "\n",
        "    score = total / len(ratings_testings)\n",
        "    \n",
        "    return score\n",
        "\n",
        "recommendation_nums = [2, 5, 10, 15, 20, 25, 30]\n",
        "\n",
        "score_result_dict = {}\n",
        "\n",
        "for k in recommendation_nums:\n",
        "    score_result = []\n",
        "    \n",
        "    print(f\"【每個商品找最相似{ k }個...】\")\n",
        "    ratings_trainings, ratings_testings, ratings_testings_by_user, testings_users = create_ratings_data()\n",
        "    \n",
        "    print(\"產出每個客戶推薦名單中...\")\n",
        "    recommend_dict_by_user = recommender(testings_users, ratings_trainings, k)\n",
        "    print(\"產出每個客戶推薦名單：已完成\")\n",
        "    \n",
        "    print(\"評估結果中...\")\n",
        "    score_result.append(evaluate(ratings_testings_by_user, recommend_dict_by_user))\n",
        "    print(f\"評估結果：已完成\\n\")\n",
        "    score_result_dict[k] = score_result\n",
        "\n",
        "score_result_df = pd.DataFrame(data = score_result_dict)\n"
      ]
    },
    {
      "cell_type": "code",
      "execution_count": null,
      "metadata": {
        "id": "ce6dpdDEpZls",
        "outputId": "b5612618-882c-4130-a8e1-09a34344d7c6"
      },
      "outputs": [
        {
          "data": {
            "text/html": [
              "<div>\n",
              "<style scoped>\n",
              "    .dataframe tbody tr th:only-of-type {\n",
              "        vertical-align: middle;\n",
              "    }\n",
              "\n",
              "    .dataframe tbody tr th {\n",
              "        vertical-align: top;\n",
              "    }\n",
              "\n",
              "    .dataframe thead th {\n",
              "        text-align: right;\n",
              "    }\n",
              "</style>\n",
              "<table border=\"1\" class=\"dataframe\">\n",
              "  <thead>\n",
              "    <tr style=\"text-align: right;\">\n",
              "      <th></th>\n",
              "      <th>2</th>\n",
              "      <th>5</th>\n",
              "      <th>10</th>\n",
              "      <th>15</th>\n",
              "      <th>20</th>\n",
              "      <th>25</th>\n",
              "      <th>30</th>\n",
              "    </tr>\n",
              "  </thead>\n",
              "  <tbody>\n",
              "    <tr>\n",
              "      <th>0</th>\n",
              "      <td>0.001695</td>\n",
              "      <td>0.001695</td>\n",
              "      <td>0.005085</td>\n",
              "      <td>0.005085</td>\n",
              "      <td>0.005085</td>\n",
              "      <td>0.005085</td>\n",
              "      <td>0.005085</td>\n",
              "    </tr>\n",
              "  </tbody>\n",
              "</table>\n",
              "</div>"
            ],
            "text/plain": [
              "         2         5         10        15        20        25        30\n",
              "0  0.001695  0.001695  0.005085  0.005085  0.005085  0.005085  0.005085"
            ]
          },
          "execution_count": 43,
          "metadata": {},
          "output_type": "execute_result"
        }
      ],
      "source": [
        "score_result_df"
      ]
    },
    {
      "cell_type": "markdown",
      "metadata": {
        "id": "5OEpidqppZls"
      },
      "source": [
        "### B. Content-based + Rule-based"
      ]
    },
    {
      "cell_type": "markdown",
      "metadata": {
        "id": "ypZzuST7pZlt"
      },
      "source": [
        "#### 確認Ruled-based最合適參數"
      ]
    },
    {
      "cell_type": "code",
      "execution_count": null,
      "metadata": {
        "scrolled": true,
        "id": "Z37-O8GFpZlt",
        "outputId": "8c3016e1-e03c-4cac-e839-5883e70b2403"
      },
      "outputs": [
        {
          "name": "stdout",
          "output_type": "stream",
          "text": [
            "【每個商品找最相似2個...】\n"
          ]
        },
        {
          "name": "stderr",
          "output_type": "stream",
          "text": [
            "<ipython-input-37-1ebfe81b5207>:30: FutureWarning: The pandas.datetime class is deprecated and will be removed from pandas in a future version. Import from datetime module instead.\n",
            "  end = pd.datetime(2018, 9, 1).strftime(\"%Y-%m-%d\")\n",
            "<ipython-input-37-1ebfe81b5207>:31: FutureWarning: The pandas.datetime class is deprecated and will be removed from pandas in a future version. Import from datetime module instead.\n",
            "  start_list = [(pd.datetime(2018, 9, 1)- relativedelta(months= month)).strftime(\"%Y-%m-%d\") for month in month_ranges]\n"
          ]
        },
        {
          "name": "stdout",
          "output_type": "stream",
          "text": [
            "【每個商品找最相似5個...】\n",
            "【每個商品找最相似10個...】\n",
            "【每個商品找最相似15個...】\n",
            "【每個商品找最相似20個...】\n",
            "【每個商品找最相似25個...】\n",
            "【每個商品找最相似30個...】\n"
          ]
        }
      ],
      "source": [
        " # 依時間區間產生資料區間，觀察推薦成效\n",
        "def create_ratings_data_RB(start, end):\n",
        "    \n",
        "    ratings_trainings = ratings[(ratings['DATE'] >= start) & (ratings['DATE'] < end)]\n",
        "    ratings_testings = ratings[(ratings['DATE'] >= '2018-09-01') &  (ratings['DATE'] <= '2018-09-30')]\n",
        "    ratings_testings_by_user = ratings_testings.groupby('reviewerID').agg(list).reset_index()[['reviewerID', 'asin']].to_dict('records') #‘records’ : list like [{column -> value}, … , {column -> value}]\n",
        "    ratings_testings_by_user = { rating['reviewerID']: rating['asin'] for rating in ratings_testings_by_user }\n",
        "    testings_users = list(ratings_testings_by_user.keys())\n",
        "    \n",
        "    return ratings_trainings, ratings_testings, ratings_testings_by_user, testings_users\n",
        "\n",
        "# 產出推薦商品\n",
        "def recommender_RB(ratings_trainings, k):    \n",
        "    ## product_count\n",
        "    ratings_compare = ratings_trainings.groupby(['asin'], as_index=False).agg(product_count=(\"asin\", 'count'),avg_rating=(\"overall\", 'mean'), nearest_date=('DATE','max'))\n",
        "    rating_sorting = ratings_compare.sort_values(by=['product_count'], ascending=(False))\n",
        "    rating_sorting['ranking'] = rating_sorting['product_count'].rank(ascending=False)\n",
        "    rating_sorting.reset_index(drop=True, inplace=True)\n",
        "    recom = rating_sorting['asin'].tolist()[:k]\n",
        "    return recom\n",
        "\n",
        "# 計算recall\n",
        "def evaluate_RB(recom , recommend_dict_by_user={}): \n",
        "\n",
        "    total = 0\n",
        "    for d in ratings_testings_by_user.keys():\n",
        "        total += len(set(recom)& set(ratings_testings_by_user[d]))\n",
        "    score = total / len(ratings_testings)    \n",
        "    return score\n",
        "\n",
        "\n",
        "from dateutil.relativedelta import relativedelta\n",
        "\n",
        "month_ranges = [1 if i == 0 else i*3 for i in range(0,13)]\n",
        "end = pd.datetime(2018, 9, 1).strftime(\"%Y-%m-%d\")\n",
        "start_list = [(pd.datetime(2018, 9, 1)- relativedelta(months= month)).strftime(\"%Y-%m-%d\") for month in month_ranges]\n",
        "period_range = [[start, end] for start in start_list]\n",
        "\n",
        "recommendation_nums = [2, 5, 10, 15, 20, 25, 30]\n",
        "score_result_dict = {}\n",
        "\n",
        "for k in recommendation_nums:\n",
        "    print(f\"【每個商品找最相似{ k }個...】\")\n",
        "    score_result = []\n",
        "    for period in period_range:\n",
        "#         print(f\"檢視{period}區間\\n\")\n",
        "        ratings_trainings, ratings_testings, ratings_testings_by_user, testings_users = create_ratings_data_RB(period[0], period[1])\n",
        "        recom = recommender_RB(ratings_trainings, k)\n",
        "        score_result.append(evaluate_RB(recom , recommend_dict_by_user))\n",
        "#         print(f\"評估結果：已完成, score: {evaluate_RB(recom , recommend_dict_by_user)}\\n\")\n",
        "        \n",
        "    score_result_dict[k] = score_result\n",
        "        \n",
        "score_result_df = pd.DataFrame(data = score_result_dict ,index= [f'{period[0]} - {period[1]}' for period in period_range])\n",
        "\n"
      ]
    },
    {
      "cell_type": "code",
      "execution_count": null,
      "metadata": {
        "id": "PNGnRz0JpZlt",
        "outputId": "20d885b3-9875-4408-9f66-cd2955be18a2"
      },
      "outputs": [
        {
          "data": {
            "text/html": [
              "<div>\n",
              "<style scoped>\n",
              "    .dataframe tbody tr th:only-of-type {\n",
              "        vertical-align: middle;\n",
              "    }\n",
              "\n",
              "    .dataframe tbody tr th {\n",
              "        vertical-align: top;\n",
              "    }\n",
              "\n",
              "    .dataframe thead th {\n",
              "        text-align: right;\n",
              "    }\n",
              "</style>\n",
              "<table border=\"1\" class=\"dataframe\">\n",
              "  <thead>\n",
              "    <tr style=\"text-align: right;\">\n",
              "      <th></th>\n",
              "      <th>2</th>\n",
              "      <th>5</th>\n",
              "      <th>10</th>\n",
              "      <th>15</th>\n",
              "      <th>20</th>\n",
              "      <th>25</th>\n",
              "      <th>30</th>\n",
              "    </tr>\n",
              "  </thead>\n",
              "  <tbody>\n",
              "    <tr>\n",
              "      <th>2018-08-01 - 2018-09-01</th>\n",
              "      <td>0.083051</td>\n",
              "      <td>0.088136</td>\n",
              "      <td>0.154237</td>\n",
              "      <td>0.169492</td>\n",
              "      <td>0.193220</td>\n",
              "      <td>0.235593</td>\n",
              "      <td>0.264407</td>\n",
              "    </tr>\n",
              "    <tr>\n",
              "      <th>2018-06-01 - 2018-09-01</th>\n",
              "      <td>0.083051</td>\n",
              "      <td>0.098305</td>\n",
              "      <td>0.133898</td>\n",
              "      <td>0.154237</td>\n",
              "      <td>0.203390</td>\n",
              "      <td>0.216949</td>\n",
              "      <td>0.249153</td>\n",
              "    </tr>\n",
              "    <tr>\n",
              "      <th>2018-03-01 - 2018-09-01</th>\n",
              "      <td>0.083051</td>\n",
              "      <td>0.096610</td>\n",
              "      <td>0.096610</td>\n",
              "      <td>0.116949</td>\n",
              "      <td>0.123729</td>\n",
              "      <td>0.150847</td>\n",
              "      <td>0.150847</td>\n",
              "    </tr>\n",
              "    <tr>\n",
              "      <th>2017-12-01 - 2018-09-01</th>\n",
              "      <td>0.083051</td>\n",
              "      <td>0.096610</td>\n",
              "      <td>0.098305</td>\n",
              "      <td>0.115254</td>\n",
              "      <td>0.123729</td>\n",
              "      <td>0.123729</td>\n",
              "      <td>0.130508</td>\n",
              "    </tr>\n",
              "    <tr>\n",
              "      <th>2017-09-01 - 2018-09-01</th>\n",
              "      <td>0.083051</td>\n",
              "      <td>0.096610</td>\n",
              "      <td>0.098305</td>\n",
              "      <td>0.098305</td>\n",
              "      <td>0.105085</td>\n",
              "      <td>0.127119</td>\n",
              "      <td>0.130508</td>\n",
              "    </tr>\n",
              "    <tr>\n",
              "      <th>2017-06-01 - 2018-09-01</th>\n",
              "      <td>0.083051</td>\n",
              "      <td>0.083051</td>\n",
              "      <td>0.098305</td>\n",
              "      <td>0.098305</td>\n",
              "      <td>0.098305</td>\n",
              "      <td>0.123729</td>\n",
              "      <td>0.140678</td>\n",
              "    </tr>\n",
              "    <tr>\n",
              "      <th>2017-03-01 - 2018-09-01</th>\n",
              "      <td>0.083051</td>\n",
              "      <td>0.083051</td>\n",
              "      <td>0.096610</td>\n",
              "      <td>0.098305</td>\n",
              "      <td>0.100000</td>\n",
              "      <td>0.108475</td>\n",
              "      <td>0.125424</td>\n",
              "    </tr>\n",
              "    <tr>\n",
              "      <th>2016-12-01 - 2018-09-01</th>\n",
              "      <td>0.083051</td>\n",
              "      <td>0.083051</td>\n",
              "      <td>0.096610</td>\n",
              "      <td>0.098305</td>\n",
              "      <td>0.098305</td>\n",
              "      <td>0.100000</td>\n",
              "      <td>0.125424</td>\n",
              "    </tr>\n",
              "    <tr>\n",
              "      <th>2016-09-01 - 2018-09-01</th>\n",
              "      <td>0.083051</td>\n",
              "      <td>0.083051</td>\n",
              "      <td>0.083051</td>\n",
              "      <td>0.098305</td>\n",
              "      <td>0.098305</td>\n",
              "      <td>0.100000</td>\n",
              "      <td>0.113559</td>\n",
              "    </tr>\n",
              "    <tr>\n",
              "      <th>2016-06-01 - 2018-09-01</th>\n",
              "      <td>0.083051</td>\n",
              "      <td>0.083051</td>\n",
              "      <td>0.083051</td>\n",
              "      <td>0.096610</td>\n",
              "      <td>0.098305</td>\n",
              "      <td>0.098305</td>\n",
              "      <td>0.106780</td>\n",
              "    </tr>\n",
              "    <tr>\n",
              "      <th>2016-03-01 - 2018-09-01</th>\n",
              "      <td>0.083051</td>\n",
              "      <td>0.083051</td>\n",
              "      <td>0.083051</td>\n",
              "      <td>0.096610</td>\n",
              "      <td>0.096610</td>\n",
              "      <td>0.098305</td>\n",
              "      <td>0.098305</td>\n",
              "    </tr>\n",
              "    <tr>\n",
              "      <th>2015-12-01 - 2018-09-01</th>\n",
              "      <td>0.083051</td>\n",
              "      <td>0.083051</td>\n",
              "      <td>0.083051</td>\n",
              "      <td>0.096610</td>\n",
              "      <td>0.096610</td>\n",
              "      <td>0.096610</td>\n",
              "      <td>0.098305</td>\n",
              "    </tr>\n",
              "    <tr>\n",
              "      <th>2015-09-01 - 2018-09-01</th>\n",
              "      <td>0.083051</td>\n",
              "      <td>0.083051</td>\n",
              "      <td>0.083051</td>\n",
              "      <td>0.096610</td>\n",
              "      <td>0.096610</td>\n",
              "      <td>0.105085</td>\n",
              "      <td>0.105085</td>\n",
              "    </tr>\n",
              "  </tbody>\n",
              "</table>\n",
              "</div>"
            ],
            "text/plain": [
              "                               2         5         10        15        20  \\\n",
              "2018-08-01 - 2018-09-01  0.083051  0.088136  0.154237  0.169492  0.193220   \n",
              "2018-06-01 - 2018-09-01  0.083051  0.098305  0.133898  0.154237  0.203390   \n",
              "2018-03-01 - 2018-09-01  0.083051  0.096610  0.096610  0.116949  0.123729   \n",
              "2017-12-01 - 2018-09-01  0.083051  0.096610  0.098305  0.115254  0.123729   \n",
              "2017-09-01 - 2018-09-01  0.083051  0.096610  0.098305  0.098305  0.105085   \n",
              "2017-06-01 - 2018-09-01  0.083051  0.083051  0.098305  0.098305  0.098305   \n",
              "2017-03-01 - 2018-09-01  0.083051  0.083051  0.096610  0.098305  0.100000   \n",
              "2016-12-01 - 2018-09-01  0.083051  0.083051  0.096610  0.098305  0.098305   \n",
              "2016-09-01 - 2018-09-01  0.083051  0.083051  0.083051  0.098305  0.098305   \n",
              "2016-06-01 - 2018-09-01  0.083051  0.083051  0.083051  0.096610  0.098305   \n",
              "2016-03-01 - 2018-09-01  0.083051  0.083051  0.083051  0.096610  0.096610   \n",
              "2015-12-01 - 2018-09-01  0.083051  0.083051  0.083051  0.096610  0.096610   \n",
              "2015-09-01 - 2018-09-01  0.083051  0.083051  0.083051  0.096610  0.096610   \n",
              "\n",
              "                               25        30  \n",
              "2018-08-01 - 2018-09-01  0.235593  0.264407  \n",
              "2018-06-01 - 2018-09-01  0.216949  0.249153  \n",
              "2018-03-01 - 2018-09-01  0.150847  0.150847  \n",
              "2017-12-01 - 2018-09-01  0.123729  0.130508  \n",
              "2017-09-01 - 2018-09-01  0.127119  0.130508  \n",
              "2017-06-01 - 2018-09-01  0.123729  0.140678  \n",
              "2017-03-01 - 2018-09-01  0.108475  0.125424  \n",
              "2016-12-01 - 2018-09-01  0.100000  0.125424  \n",
              "2016-09-01 - 2018-09-01  0.100000  0.113559  \n",
              "2016-06-01 - 2018-09-01  0.098305  0.106780  \n",
              "2016-03-01 - 2018-09-01  0.098305  0.098305  \n",
              "2015-12-01 - 2018-09-01  0.096610  0.098305  \n",
              "2015-09-01 - 2018-09-01  0.105085  0.105085  "
            ]
          },
          "execution_count": 38,
          "metadata": {},
          "output_type": "execute_result"
        }
      ],
      "source": [
        "score_result_df"
      ]
    },
    {
      "cell_type": "markdown",
      "metadata": {
        "id": "952L9tjfpZlu"
      },
      "source": [
        "結論： rule-based的時間區間與推薦數， 選擇時間區間：'2018-08-01 - 2018-09-01' 、 k=30"
      ]
    },
    {
      "cell_type": "markdown",
      "metadata": {
        "id": "QScDmLVzpZlu"
      },
      "source": [
        "#### 製作兩者content_based 與 rule_based之推薦系統"
      ]
    },
    {
      "cell_type": "code",
      "execution_count": null,
      "metadata": {
        "id": "uU6erJWPpZlu"
      },
      "outputs": [],
      "source": [
        "def rule_based(start= '2018-08-01',end ='2018-09-01', k=30):\n",
        "    \n",
        "    ratings_trainings = ratings[(ratings['DATE'] >= start) & (ratings['DATE'] < end)]\n",
        "    ratings_testings = ratings[(ratings['DATE'] >= '2018-09-01') &  (ratings['DATE'] <= '2018-09-30')]\n",
        "    ratings_testings_by_user = ratings_testings.groupby('reviewerID').agg(list).reset_index()[['reviewerID', 'asin']].to_dict('records') #‘records’ : list like [{column -> value}, … , {column -> value}]\n",
        "    ratings_testings_by_user = { rating['reviewerID']: rating['asin'] for rating in ratings_testings_by_user }\n",
        "    testings_users = list(ratings_testings_by_user.keys())\n",
        "        \n",
        "    ## product_count\n",
        "    ratings_compare = ratings_trainings.groupby(['asin'], as_index=False).agg(product_count=(\"asin\", 'count'),avg_rating=(\"overall\", 'mean'), nearest_date=('DATE','max'))\n",
        "    rating_sorting = ratings_compare.sort_values(by=['product_count'], ascending=(False))\n",
        "    rating_sorting['ranking'] = rating_sorting['product_count'].rank(ascending=False)\n",
        "    rating_sorting.reset_index(drop=True, inplace=True)\n",
        "    recom = rating_sorting['asin'].tolist()[:k]\n",
        "    return recom\n"
      ]
    },
    {
      "cell_type": "code",
      "execution_count": null,
      "metadata": {
        "scrolled": true,
        "id": "SGSAQPWYpZlu",
        "outputId": "33910630-84e4-42e2-faae-0722db5002f5"
      },
      "outputs": [
        {
          "name": "stdout",
          "output_type": "stream",
          "text": [
            "【每個商品找最相似2個...】\n",
            "產出每個客戶推薦名單中...\n",
            "產出每個客戶推薦名單：已完成\n",
            "評估結果中...\n",
            "評估結果：已完成\n",
            "\n",
            "【每個商品找最相似5個...】\n",
            "產出每個客戶推薦名單中...\n",
            "產出每個客戶推薦名單：已完成\n",
            "評估結果中...\n",
            "評估結果：已完成\n",
            "\n",
            "【每個商品找最相似10個...】\n",
            "產出每個客戶推薦名單中...\n",
            "產出每個客戶推薦名單：已完成\n",
            "評估結果中...\n",
            "評估結果：已完成\n",
            "\n",
            "【每個商品找最相似15個...】\n",
            "產出每個客戶推薦名單中...\n",
            "產出每個客戶推薦名單：已完成\n",
            "評估結果中...\n",
            "評估結果：已完成\n",
            "\n",
            "【每個商品找最相似20個...】\n",
            "產出每個客戶推薦名單中...\n",
            "產出每個客戶推薦名單：已完成\n",
            "評估結果中...\n",
            "評估結果：已完成\n",
            "\n",
            "【每個商品找最相似25個...】\n",
            "產出每個客戶推薦名單中...\n",
            "產出每個客戶推薦名單：已完成\n",
            "評估結果中...\n",
            "評估結果：已完成\n",
            "\n",
            "【每個商品找最相似30個...】\n",
            "產出每個客戶推薦名單中...\n",
            "產出每個客戶推薦名單：已完成\n",
            "評估結果中...\n",
            "評估結果：已完成\n",
            "\n"
          ]
        }
      ],
      "source": [
        "# 產生資料\n",
        "def create_ratings_data():\n",
        "    \n",
        "    ratings_trainings = ratings[(ratings['DATE'] < '2018-09-01')]\n",
        "    ratings_testings = ratings[(ratings['DATE'] >= '2018-09-01') &  (ratings['DATE'] <= '2018-09-30')]\n",
        "    ratings_testings_by_user = ratings_testings.groupby('reviewerID').agg(list).reset_index()[['reviewerID', 'asin']].to_dict('records') #‘records’ : list like [{column -> value}, … , {column -> value}]\n",
        "    ratings_testings_by_user = { rating['reviewerID']: rating['asin'] for rating in ratings_testings_by_user }\n",
        "    testings_users = list(ratings_testings_by_user.keys())\n",
        "    \n",
        "    return ratings_trainings, ratings_testings, ratings_testings_by_user, testings_users\n",
        "\n",
        "\n",
        "# 推薦相似產品\n",
        "def recommend_similar_item(asin, k=2):\n",
        "    \n",
        "    try:\n",
        "        item_index = asin2index_mapping[asin]\n",
        "        # print(\"asin\", asin)\n",
        "        similarity_score = list(enumerate(similarity_matrix[item_index]))  \n",
        "        similarity_score = sorted(similarity_score, key=lambda x: x[1], reverse=True)\n",
        "        similarity_score = similarity_score[:k]\n",
        "        # print(\"similarity_score\", similarity_score)\n",
        "        item_indices = [i[0] for i in similarity_score]\n",
        "\n",
        "        return (metadata_clean['asin'].iloc[item_indices].tolist())\n",
        "        \n",
        "    except:\n",
        "        return []\n",
        "\n",
        "# 每個客戶的推薦產品清單\n",
        "def recommender(testings_users, ratings_trainings, k):\n",
        "    \n",
        "    recommend_dict_by_user = {}\n",
        "    for user in testings_users:\n",
        "        recommend_list_by_user = []\n",
        "        \n",
        "        # 找出測試集客戶過去有買的產品有哪些，藉此依據過去消費商品特徵推薦產品\n",
        "        purchase_record_asin_list = metadata_clean[metadata_clean['asin'].isin(ratings_trainings[ratings_trainings['reviewerID']== user]['asin'].tolist())]['asin'].to_list()\n",
        "        for asin in purchase_record_asin_list:\n",
        "            recommend_list_by_user.extend(recommend_similar_item(asin, k))\n",
        "        \n",
        "        if recommend_list_by_user == []: # rule-based \n",
        "            recom = rule_based(start= '2018-08-01',end ='2018-09-01', k=30)\n",
        "            recommend_dict_by_user[user] = recom\n",
        "        else:  # content-based \n",
        "            recommend_dict_by_user[user] = recommend_list_by_user\n",
        "    \n",
        "    return recommend_dict_by_user\n",
        "\n",
        "# 計算recall\n",
        "def evaluate(ratings_testings_by_user={}, recommend_dict_by_user={}):\n",
        "\n",
        "    total = 0\n",
        "    for d in ratings_testings_by_user:\n",
        "        if d in recommend_dict_by_user:\n",
        "            total += len(set(recommend_dict_by_user[d]) & set(ratings_testings_by_user[d]))\n",
        "\n",
        "    score = total / len(ratings_testings)\n",
        "    \n",
        "    return score\n",
        "\n",
        "\n",
        "recommendation_nums = [2, 5, 10, 15, 20, 25, 30]\n",
        "score_result_dict = {}\n",
        "\n",
        "for k in recommendation_nums:\n",
        "    score_result = []\n",
        "    \n",
        "    print(f\"【每個商品找最相似{ k }個...】\")\n",
        "    ratings_trainings, ratings_testings, ratings_testings_by_user, testings_users = create_ratings_data()\n",
        "    \n",
        "    print(\"產出每個客戶推薦名單中...\")\n",
        "    recommend_dict_by_user = recommender(testings_users, ratings_trainings, k)\n",
        "    print(\"產出每個客戶推薦名單：已完成\")\n",
        "    \n",
        "    print(\"評估結果中...\")\n",
        "    score_result.append(evaluate(ratings_testings_by_user, recommend_dict_by_user))\n",
        "    print(f\"評估結果：已完成\\n\")\n",
        "    score_result_dict[k] = score_result\n",
        "\n",
        "score_result_df = pd.DataFrame(data = score_result_dict)\n"
      ]
    },
    {
      "cell_type": "code",
      "execution_count": null,
      "metadata": {
        "id": "QlS0CJBypZlv",
        "outputId": "18bba92b-f0e5-4ccf-ce8d-974f44cc957e"
      },
      "outputs": [
        {
          "data": {
            "text/html": [
              "<div>\n",
              "<style scoped>\n",
              "    .dataframe tbody tr th:only-of-type {\n",
              "        vertical-align: middle;\n",
              "    }\n",
              "\n",
              "    .dataframe tbody tr th {\n",
              "        vertical-align: top;\n",
              "    }\n",
              "\n",
              "    .dataframe thead th {\n",
              "        text-align: right;\n",
              "    }\n",
              "</style>\n",
              "<table border=\"1\" class=\"dataframe\">\n",
              "  <thead>\n",
              "    <tr style=\"text-align: right;\">\n",
              "      <th></th>\n",
              "      <th>2</th>\n",
              "      <th>5</th>\n",
              "      <th>10</th>\n",
              "      <th>15</th>\n",
              "      <th>20</th>\n",
              "      <th>25</th>\n",
              "      <th>30</th>\n",
              "    </tr>\n",
              "  </thead>\n",
              "  <tbody>\n",
              "    <tr>\n",
              "      <th>0</th>\n",
              "      <td>0.252542</td>\n",
              "      <td>0.252542</td>\n",
              "      <td>0.255932</td>\n",
              "      <td>0.255932</td>\n",
              "      <td>0.255932</td>\n",
              "      <td>0.255932</td>\n",
              "      <td>0.255932</td>\n",
              "    </tr>\n",
              "  </tbody>\n",
              "</table>\n",
              "</div>"
            ],
            "text/plain": [
              "         2         5         10        15        20        25        30\n",
              "0  0.252542  0.252542  0.255932  0.255932  0.255932  0.255932  0.255932"
            ]
          },
          "execution_count": 45,
          "metadata": {},
          "output_type": "execute_result"
        }
      ],
      "source": [
        "score_result_df"
      ]
    },
    {
      "cell_type": "markdown",
      "metadata": {
        "id": "tU2Dk9UzpZlv"
      },
      "source": [
        "## 7. Conclusion"
      ]
    },
    {
      "cell_type": "markdown",
      "metadata": {
        "id": "2N8z5FvOpZlv"
      },
      "source": [
        ">1. 僅38位於9月前有購買產品，若單純以conten-based去做推薦，最好的recall分數僅為 0.005085，因此決定結合rule-based做推薦\n",
        "\n",
        ">2. rule-based先透過時間/推薦產品數雙維度找出最適參數測試，選出時間區間：'2018-08-01 - 2018-09-01' 、 k=30，其recall表現最佳，可達 0.264407\n",
        "\n",
        ">3. conten-based & rule-based 結果中， conten-based從不同產品數推薦的recall中，差異不大，主要落在0.252542~ 0.255932，整體表現也比第一次作業佳。"
      ]
    }
  ],
  "metadata": {
    "kernelspec": {
      "display_name": "Python 3",
      "language": "python",
      "name": "python3"
    },
    "language_info": {
      "codemirror_mode": {
        "name": "ipython",
        "version": 3
      },
      "file_extension": ".py",
      "mimetype": "text/x-python",
      "name": "python",
      "nbconvert_exporter": "python",
      "pygments_lexer": "ipython3",
      "version": "3.8.5"
    },
    "colab": {
      "name": "A4.實作「Content-based Filtering」的推薦系統.ipynb",
      "provenance": [],
      "collapsed_sections": [
        "T1c17FZWpZlp",
        "BGOnBlEupZlq",
        "EWA8Ze0dpZlr",
        "Oi1_P0s6pZlr",
        "teEc6pq6pZlr",
        "5OEpidqppZls",
        "ypZzuST7pZlt",
        "tU2Dk9UzpZlv"
      ],
      "include_colab_link": true
    }
  },
  "nbformat": 4,
  "nbformat_minor": 0
}
