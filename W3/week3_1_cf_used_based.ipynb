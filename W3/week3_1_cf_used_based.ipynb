{
  "cells": [
    {
      "cell_type": "markdown",
      "metadata": {
        "id": "view-in-github",
        "colab_type": "text"
      },
      "source": [
        "<a href=\"https://colab.research.google.com/github/c820306/Alpha_camp_recommentation/blob/main/week3_1_cf_used_based.ipynb\" target=\"_parent\"><img src=\"https://colab.research.google.com/assets/colab-badge.svg\" alt=\"Open In Colab\"/></a>"
      ]
    },
    {
      "cell_type": "markdown",
      "metadata": {
        "id": "84de56a8"
      },
      "source": [
        "# Sample Code"
      ],
      "id": "84de56a8"
    },
    {
      "cell_type": "markdown",
      "metadata": {
        "id": "688675f5"
      },
      "source": [
        "## 基礎建設"
      ],
      "id": "688675f5"
    },
    {
      "cell_type": "code",
      "execution_count": null,
      "metadata": {
        "id": "b32226db",
        "scrolled": true
      },
      "outputs": [],
      "source": [
        "import pandas as pd\n",
        "import gzip, json\n",
        "\n",
        "def parse(path):\n",
        "    g = gzip.open(path, 'rb')\n",
        "    for l in g:\n",
        "        yield json.loads(l)\n",
        "\n",
        "def getDF(path):\n",
        "    i = 0\n",
        "    df = {}\n",
        "    for d in parse(path):\n",
        "        df[i] = d\n",
        "        i += 1\n",
        "    return pd.DataFrame.from_dict(df, orient='index')"
      ],
      "id": "b32226db"
    },
    {
      "cell_type": "markdown",
      "metadata": {
        "id": "84ff0f9d"
      },
      "source": [
        "## 載入資料"
      ],
      "id": "84ff0f9d"
    },
    {
      "cell_type": "code",
      "execution_count": null,
      "metadata": {
        "id": "9402e9c7"
      },
      "outputs": [],
      "source": [
        "# !wget http://deepyeti.ucsd.edu/jianmo/amazon/categoryFilesSmall/All_Beauty.csv\n",
        "# !wget http://deepyeti.ucsd.edu/jianmo/amazon/metaFiles2/meta_All_Beauty.json.gz"
      ],
      "id": "9402e9c7"
    },
    {
      "cell_type": "code",
      "execution_count": null,
      "metadata": {
        "id": "84b66cc7"
      },
      "outputs": [],
      "source": [
        "# metadata = getDF('/content/meta_All_Beauty.json.gz')\n",
        "# ratings = pd.read_csv('/content/All_Beauty.csv', names=['asin', 'reviewerID', 'overall', 'unixReviewTime'], header=None)"
      ],
      "id": "84b66cc7"
    },
    {
      "cell_type": "code",
      "execution_count": null,
      "metadata": {
        "id": "epqeNgv4EEAD"
      },
      "outputs": [],
      "source": [
        "metadata = getDF('./meta_All_Beauty.json.gz')\n",
        "ratings = pd.read_csv('./All_Beauty.csv', names=['asin', 'reviewerID', 'overall', 'unixReviewTime'], header=None)"
      ],
      "id": "epqeNgv4EEAD"
    },
    {
      "cell_type": "code",
      "execution_count": null,
      "metadata": {
        "id": "9fd77203",
        "outputId": "493b72e4-fa3c-4c5c-bc3b-d7da1e2a4ade"
      },
      "outputs": [
        {
          "data": {
            "text/html": [
              "<div>\n",
              "<style scoped>\n",
              "    .dataframe tbody tr th:only-of-type {\n",
              "        vertical-align: middle;\n",
              "    }\n",
              "\n",
              "    .dataframe tbody tr th {\n",
              "        vertical-align: top;\n",
              "    }\n",
              "\n",
              "    .dataframe thead th {\n",
              "        text-align: right;\n",
              "    }\n",
              "</style>\n",
              "<table border=\"1\" class=\"dataframe\">\n",
              "  <thead>\n",
              "    <tr style=\"text-align: right;\">\n",
              "      <th></th>\n",
              "      <th>category</th>\n",
              "      <th>tech1</th>\n",
              "      <th>description</th>\n",
              "      <th>fit</th>\n",
              "      <th>title</th>\n",
              "      <th>also_buy</th>\n",
              "      <th>tech2</th>\n",
              "      <th>brand</th>\n",
              "      <th>feature</th>\n",
              "      <th>rank</th>\n",
              "      <th>also_view</th>\n",
              "      <th>details</th>\n",
              "      <th>main_cat</th>\n",
              "      <th>similar_item</th>\n",
              "      <th>date</th>\n",
              "      <th>price</th>\n",
              "      <th>asin</th>\n",
              "      <th>imageURL</th>\n",
              "      <th>imageURLHighRes</th>\n",
              "    </tr>\n",
              "  </thead>\n",
              "  <tbody>\n",
              "    <tr>\n",
              "      <th>0</th>\n",
              "      <td>[]</td>\n",
              "      <td></td>\n",
              "      <td>[Loud 'N Clear Personal Sound Amplifier allows...</td>\n",
              "      <td></td>\n",
              "      <td>Loud 'N Clear&amp;trade; Personal Sound Amplifier</td>\n",
              "      <td>[]</td>\n",
              "      <td></td>\n",
              "      <td>idea village</td>\n",
              "      <td>[]</td>\n",
              "      <td>2,938,573 in Beauty &amp; Personal Care (</td>\n",
              "      <td>[]</td>\n",
              "      <td>{'ASIN: ': '6546546450'}</td>\n",
              "      <td>All Beauty</td>\n",
              "      <td></td>\n",
              "      <td></td>\n",
              "      <td></td>\n",
              "      <td>6546546450</td>\n",
              "      <td>[]</td>\n",
              "      <td>[]</td>\n",
              "    </tr>\n",
              "    <tr>\n",
              "      <th>1</th>\n",
              "      <td>[]</td>\n",
              "      <td></td>\n",
              "      <td>[No7 Lift &amp; Luminate Triple Action Serum 50ml ...</td>\n",
              "      <td></td>\n",
              "      <td>No7 Lift &amp;amp; Luminate Triple Action Serum 50...</td>\n",
              "      <td>[B01E7LCSL6, B008X5RVME]</td>\n",
              "      <td></td>\n",
              "      <td></td>\n",
              "      <td>[]</td>\n",
              "      <td>872,854 in Beauty &amp; Personal Care (</td>\n",
              "      <td>[]</td>\n",
              "      <td>{'Shipping Weight:': '0.3 ounces (', 'ASIN: ':...</td>\n",
              "      <td>All Beauty</td>\n",
              "      <td>class=\"a-bordered a-horizontal-stripes  a-spa...</td>\n",
              "      <td></td>\n",
              "      <td>$44.99</td>\n",
              "      <td>7178680776</td>\n",
              "      <td>[]</td>\n",
              "      <td>[]</td>\n",
              "    </tr>\n",
              "    <tr>\n",
              "      <th>2</th>\n",
              "      <td>[]</td>\n",
              "      <td></td>\n",
              "      <td>[No7 Stay Perfect Foundation now stays perfect...</td>\n",
              "      <td></td>\n",
              "      <td>No7 Stay Perfect Foundation Cool Vanilla by No7</td>\n",
              "      <td>[]</td>\n",
              "      <td></td>\n",
              "      <td>No7</td>\n",
              "      <td>[]</td>\n",
              "      <td>956,696 in Beauty &amp; Personal Care (</td>\n",
              "      <td>[B01B8BR0O8, B01B8BR0NO, B014MHXXM8]</td>\n",
              "      <td>{'Shipping Weight:': '3.5 ounces (', 'ASIN: ':...</td>\n",
              "      <td>All Beauty</td>\n",
              "      <td></td>\n",
              "      <td></td>\n",
              "      <td>$28.76</td>\n",
              "      <td>7250468162</td>\n",
              "      <td>[]</td>\n",
              "      <td>[]</td>\n",
              "    </tr>\n",
              "  </tbody>\n",
              "</table>\n",
              "</div>"
            ],
            "text/plain": [
              "  category tech1                                        description fit  \\\n",
              "0       []        [Loud 'N Clear Personal Sound Amplifier allows...       \n",
              "1       []        [No7 Lift & Luminate Triple Action Serum 50ml ...       \n",
              "2       []        [No7 Stay Perfect Foundation now stays perfect...       \n",
              "\n",
              "                                               title  \\\n",
              "0      Loud 'N Clear&trade; Personal Sound Amplifier   \n",
              "1  No7 Lift &amp; Luminate Triple Action Serum 50...   \n",
              "2    No7 Stay Perfect Foundation Cool Vanilla by No7   \n",
              "\n",
              "                   also_buy tech2         brand feature  \\\n",
              "0                        []        idea village      []   \n",
              "1  [B01E7LCSL6, B008X5RVME]                          []   \n",
              "2                        []                 No7      []   \n",
              "\n",
              "                                    rank  \\\n",
              "0  2,938,573 in Beauty & Personal Care (   \n",
              "1    872,854 in Beauty & Personal Care (   \n",
              "2    956,696 in Beauty & Personal Care (   \n",
              "\n",
              "                              also_view  \\\n",
              "0                                    []   \n",
              "1                                    []   \n",
              "2  [B01B8BR0O8, B01B8BR0NO, B014MHXXM8]   \n",
              "\n",
              "                                             details    main_cat  \\\n",
              "0                           {'ASIN: ': '6546546450'}  All Beauty   \n",
              "1  {'Shipping Weight:': '0.3 ounces (', 'ASIN: ':...  All Beauty   \n",
              "2  {'Shipping Weight:': '3.5 ounces (', 'ASIN: ':...  All Beauty   \n",
              "\n",
              "                                        similar_item date   price        asin  \\\n",
              "0                                                                  6546546450   \n",
              "1   class=\"a-bordered a-horizontal-stripes  a-spa...       $44.99  7178680776   \n",
              "2                                                          $28.76  7250468162   \n",
              "\n",
              "  imageURL imageURLHighRes  \n",
              "0       []              []  \n",
              "1       []              []  \n",
              "2       []              []  "
            ]
          },
          "execution_count": 133,
          "metadata": {},
          "output_type": "execute_result"
        }
      ],
      "source": [
        "metadata.head(3)"
      ],
      "id": "9fd77203"
    },
    {
      "cell_type": "code",
      "execution_count": null,
      "metadata": {
        "id": "b402792c",
        "outputId": "548de499-30bf-446c-f1fa-f39bdb219105"
      },
      "outputs": [
        {
          "data": {
            "text/html": [
              "<div>\n",
              "<style scoped>\n",
              "    .dataframe tbody tr th:only-of-type {\n",
              "        vertical-align: middle;\n",
              "    }\n",
              "\n",
              "    .dataframe tbody tr th {\n",
              "        vertical-align: top;\n",
              "    }\n",
              "\n",
              "    .dataframe thead th {\n",
              "        text-align: right;\n",
              "    }\n",
              "</style>\n",
              "<table border=\"1\" class=\"dataframe\">\n",
              "  <thead>\n",
              "    <tr style=\"text-align: right;\">\n",
              "      <th></th>\n",
              "      <th>asin</th>\n",
              "      <th>reviewerID</th>\n",
              "      <th>overall</th>\n",
              "      <th>unixReviewTime</th>\n",
              "    </tr>\n",
              "  </thead>\n",
              "  <tbody>\n",
              "    <tr>\n",
              "      <th>0</th>\n",
              "      <td>0143026860</td>\n",
              "      <td>A1V6B6TNIC10QE</td>\n",
              "      <td>1.0</td>\n",
              "      <td>1424304000</td>\n",
              "    </tr>\n",
              "    <tr>\n",
              "      <th>1</th>\n",
              "      <td>0143026860</td>\n",
              "      <td>A2F5GHSXFQ0W6J</td>\n",
              "      <td>4.0</td>\n",
              "      <td>1418860800</td>\n",
              "    </tr>\n",
              "    <tr>\n",
              "      <th>2</th>\n",
              "      <td>0143026860</td>\n",
              "      <td>A1572GUYS7DGSR</td>\n",
              "      <td>4.0</td>\n",
              "      <td>1407628800</td>\n",
              "    </tr>\n",
              "  </tbody>\n",
              "</table>\n",
              "</div>"
            ],
            "text/plain": [
              "         asin      reviewerID  overall  unixReviewTime\n",
              "0  0143026860  A1V6B6TNIC10QE      1.0      1424304000\n",
              "1  0143026860  A2F5GHSXFQ0W6J      4.0      1418860800\n",
              "2  0143026860  A1572GUYS7DGSR      4.0      1407628800"
            ]
          },
          "execution_count": 134,
          "metadata": {},
          "output_type": "execute_result"
        }
      ],
      "source": [
        "ratings.head(3)"
      ],
      "id": "b402792c"
    },
    {
      "cell_type": "markdown",
      "metadata": {
        "id": "695362e3"
      },
      "source": [
        "## 資料整理"
      ],
      "id": "695362e3"
    },
    {
      "cell_type": "code",
      "execution_count": null,
      "metadata": {
        "id": "b552fb23"
      },
      "outputs": [],
      "source": [
        "ratings['DATE'] = pd.to_datetime(ratings['unixReviewTime'], unit='s')"
      ],
      "id": "b552fb23"
    },
    {
      "cell_type": "markdown",
      "metadata": {
        "id": "054eeba4"
      },
      "source": [
        "## 資料切分"
      ],
      "id": "054eeba4"
    },
    {
      "cell_type": "markdown",
      "metadata": {
        "id": "m6PUnlaPEEAI"
      },
      "source": [
        "### 發現有客戶曾多次買同個商品"
      ],
      "id": "m6PUnlaPEEAI"
    },
    {
      "cell_type": "markdown",
      "metadata": {
        "id": "bgyTPTD-EEAI"
      },
      "source": [
        "* 發現ratings有同一個客戶有同天同產品評價分數相同的狀況： 共9,070筆"
      ],
      "id": "bgyTPTD-EEAI"
    },
    {
      "cell_type": "code",
      "execution_count": null,
      "metadata": {
        "id": "I8Ud5u8_EEAJ",
        "outputId": "dcb0261b-ede3-4162-eac7-a5cdbf37a427"
      },
      "outputs": [
        {
          "name": "stdout",
          "output_type": "stream",
          "text": [
            "repeated rating of product:  9070\n"
          ]
        }
      ],
      "source": [
        "print(f\"repeated rating of product:  {ratings.shape[0]- ratings.drop_duplicates().shape[0]}\")\n"
      ],
      "id": "I8Ud5u8_EEAJ"
    },
    {
      "cell_type": "markdown",
      "metadata": {
        "id": "iGbTNoe7EEAJ"
      },
      "source": [
        "* 排除重複評價資料"
      ],
      "id": "iGbTNoe7EEAJ"
    },
    {
      "cell_type": "code",
      "execution_count": null,
      "metadata": {
        "id": "-wm3O5ckEEAK"
      },
      "outputs": [],
      "source": [
        "ratings = ratings.drop_duplicates()"
      ],
      "id": "-wm3O5ckEEAK"
    },
    {
      "cell_type": "code",
      "execution_count": null,
      "metadata": {
        "id": "jlRW07qqEEAK"
      },
      "outputs": [],
      "source": [
        "df = ratings.groupby(['reviewerID','asin'],as_index=False).agg(count=('reviewerID','count'))\n",
        "repeated_purchase_product_users = df[ df['count']> 1]['reviewerID'].unique()\n",
        "repeated_purchase_product = df[df['count']>1]['asin'].unique()"
      ],
      "id": "jlRW07qqEEAK"
    },
    {
      "cell_type": "markdown",
      "metadata": {
        "id": "XLcPwbjvEEAK"
      },
      "source": [
        "* 共603位客戶曾購買同一個商品(not on same day), 被重複購買商品數有153個\n",
        "* 重複評價分數會影響後續user_to_item、item_to_user，採用最近的商品評價，共670筆排除"
      ],
      "id": "XLcPwbjvEEAK"
    },
    {
      "cell_type": "code",
      "execution_count": null,
      "metadata": {
        "id": "0twW0KDsEEAK",
        "outputId": "7f044ed7-8ad3-4754-883d-6532d0339354"
      },
      "outputs": [
        {
          "name": "stdout",
          "output_type": "stream",
          "text": [
            "the number of user for repeated purchase the same product: 603\n",
            "the number of product for being repeated purchased: 153\n"
          ]
        }
      ],
      "source": [
        "print(f\"the number of user for repeated purchase the same product: {len(repeated_purchase_product_users)}\")\n",
        "print(f\"the number of product for being repeated purchased: {len(repeated_purchase_product)}\")"
      ],
      "id": "0twW0KDsEEAK"
    },
    {
      "cell_type": "code",
      "execution_count": null,
      "metadata": {
        "scrolled": true,
        "id": "1HHwwF0OEEAL",
        "outputId": "1d7cbcf3-7788-4689-d8c3-6287b8a752b5"
      },
      "outputs": [
        {
          "data": {
            "text/html": [
              "<div>\n",
              "<style scoped>\n",
              "    .dataframe tbody tr th:only-of-type {\n",
              "        vertical-align: middle;\n",
              "    }\n",
              "\n",
              "    .dataframe tbody tr th {\n",
              "        vertical-align: top;\n",
              "    }\n",
              "\n",
              "    .dataframe thead th {\n",
              "        text-align: right;\n",
              "    }\n",
              "</style>\n",
              "<table border=\"1\" class=\"dataframe\">\n",
              "  <thead>\n",
              "    <tr style=\"text-align: right;\">\n",
              "      <th></th>\n",
              "      <th>asin</th>\n",
              "      <th>reviewerID</th>\n",
              "      <th>overall</th>\n",
              "      <th>unixReviewTime</th>\n",
              "      <th>DATE</th>\n",
              "    </tr>\n",
              "  </thead>\n",
              "  <tbody>\n",
              "    <tr>\n",
              "      <th>12244</th>\n",
              "      <td>B00011QUDE</td>\n",
              "      <td>A108DY5IC7OVWT</td>\n",
              "      <td>3.0</td>\n",
              "      <td>1473552000</td>\n",
              "      <td>2016-09-11</td>\n",
              "    </tr>\n",
              "    <tr>\n",
              "      <th>12245</th>\n",
              "      <td>B00011QUDE</td>\n",
              "      <td>A108DY5IC7OVWT</td>\n",
              "      <td>1.0</td>\n",
              "      <td>1473552000</td>\n",
              "      <td>2016-09-11</td>\n",
              "    </tr>\n",
              "    <tr>\n",
              "      <th>74633</th>\n",
              "      <td>B001E5PLCM</td>\n",
              "      <td>A10CKOFTMAV45W</td>\n",
              "      <td>3.0</td>\n",
              "      <td>1356393600</td>\n",
              "      <td>2012-12-25</td>\n",
              "    </tr>\n",
              "    <tr>\n",
              "      <th>74634</th>\n",
              "      <td>B001E5PLCM</td>\n",
              "      <td>A10CKOFTMAV45W</td>\n",
              "      <td>4.0</td>\n",
              "      <td>1355270400</td>\n",
              "      <td>2012-12-12</td>\n",
              "    </tr>\n",
              "    <tr>\n",
              "      <th>90436</th>\n",
              "      <td>B002OITLG0</td>\n",
              "      <td>A10DOJIAIUIAEB</td>\n",
              "      <td>5.0</td>\n",
              "      <td>1519948800</td>\n",
              "      <td>2018-03-02</td>\n",
              "    </tr>\n",
              "    <tr>\n",
              "      <th>...</th>\n",
              "      <td>...</td>\n",
              "      <td>...</td>\n",
              "      <td>...</td>\n",
              "      <td>...</td>\n",
              "      <td>...</td>\n",
              "    </tr>\n",
              "    <tr>\n",
              "      <th>226967</th>\n",
              "      <td>B01AAVIO38</td>\n",
              "      <td>AZBLP8S3CHH3</td>\n",
              "      <td>4.0</td>\n",
              "      <td>1460160000</td>\n",
              "      <td>2016-04-09</td>\n",
              "    </tr>\n",
              "    <tr>\n",
              "      <th>193603</th>\n",
              "      <td>B00W259T7G</td>\n",
              "      <td>AZBOC8H7QQGJC</td>\n",
              "      <td>3.0</td>\n",
              "      <td>1436313600</td>\n",
              "      <td>2015-07-08</td>\n",
              "    </tr>\n",
              "    <tr>\n",
              "      <th>193749</th>\n",
              "      <td>B00W259T7G</td>\n",
              "      <td>AZBOC8H7QQGJC</td>\n",
              "      <td>4.0</td>\n",
              "      <td>1422489600</td>\n",
              "      <td>2015-01-29</td>\n",
              "    </tr>\n",
              "    <tr>\n",
              "      <th>194060</th>\n",
              "      <td>B00W259T7G</td>\n",
              "      <td>AZWIAYHWL2FWE</td>\n",
              "      <td>4.0</td>\n",
              "      <td>1395100800</td>\n",
              "      <td>2014-03-18</td>\n",
              "    </tr>\n",
              "    <tr>\n",
              "      <th>194279</th>\n",
              "      <td>B00W259T7G</td>\n",
              "      <td>AZWIAYHWL2FWE</td>\n",
              "      <td>5.0</td>\n",
              "      <td>1365638400</td>\n",
              "      <td>2013-04-11</td>\n",
              "    </tr>\n",
              "  </tbody>\n",
              "</table>\n",
              "<p>1397 rows × 5 columns</p>\n",
              "</div>"
            ],
            "text/plain": [
              "              asin      reviewerID  overall  unixReviewTime       DATE\n",
              "12244   B00011QUDE  A108DY5IC7OVWT      3.0      1473552000 2016-09-11\n",
              "12245   B00011QUDE  A108DY5IC7OVWT      1.0      1473552000 2016-09-11\n",
              "74633   B001E5PLCM  A10CKOFTMAV45W      3.0      1356393600 2012-12-25\n",
              "74634   B001E5PLCM  A10CKOFTMAV45W      4.0      1355270400 2012-12-12\n",
              "90436   B002OITLG0  A10DOJIAIUIAEB      5.0      1519948800 2018-03-02\n",
              "...            ...             ...      ...             ...        ...\n",
              "226967  B01AAVIO38    AZBLP8S3CHH3      4.0      1460160000 2016-04-09\n",
              "193603  B00W259T7G   AZBOC8H7QQGJC      3.0      1436313600 2015-07-08\n",
              "193749  B00W259T7G   AZBOC8H7QQGJC      4.0      1422489600 2015-01-29\n",
              "194060  B00W259T7G   AZWIAYHWL2FWE      4.0      1395100800 2014-03-18\n",
              "194279  B00W259T7G   AZWIAYHWL2FWE      5.0      1365638400 2013-04-11\n",
              "\n",
              "[1397 rows x 5 columns]"
            ]
          },
          "execution_count": 140,
          "metadata": {},
          "output_type": "execute_result"
        }
      ],
      "source": [
        "df = ratings[ratings['reviewerID'].isin(repeated_purchase_product_users)&\n",
        "                  ratings['asin'].isin(repeated_purchase_product)\n",
        "                 ].sort_values(['reviewerID','asin','DATE'], ascending=[True,True,False])\n",
        "df"
      ],
      "id": "1HHwwF0OEEAL"
    },
    {
      "cell_type": "code",
      "execution_count": null,
      "metadata": {
        "id": "JkwyvXCREEAM",
        "outputId": "95cc3b22-7359-48c6-f0f8-fea5df02eb80"
      },
      "outputs": [
        {
          "name": "stdout",
          "output_type": "stream",
          "text": [
            "the number of repeated purchase not recently--> delete: 670\n"
          ]
        }
      ],
      "source": [
        "keep = df.drop_duplicates(subset=['asin','reviewerID'],keep='first').index\n",
        "repeated_drop_set = set(df.index) - set(keep)\n",
        "keep_list = list(set(ratings.index) - repeated_drop_set)\n",
        "\n",
        "print(f\"the number of repeated purchase not recently--> delete: {len(repeated_drop_set)}\")"
      ],
      "id": "JkwyvXCREEAM"
    },
    {
      "cell_type": "code",
      "execution_count": null,
      "metadata": {
        "id": "mpWLVcGLEEAM",
        "outputId": "09b97adf-37f0-4d67-b65c-b853501b2e56"
      },
      "outputs": [
        {
          "data": {
            "text/plain": [
              "(361605, 5)"
            ]
          },
          "execution_count": 144,
          "metadata": {},
          "output_type": "execute_result"
        }
      ],
      "source": [
        "ratings = ratings.loc[keep_list]\n",
        "ratings.shape"
      ],
      "id": "mpWLVcGLEEAM"
    },
    {
      "cell_type": "code",
      "execution_count": null,
      "metadata": {
        "id": "284b14a8"
      },
      "outputs": [],
      "source": [
        "ratings_trainings = ratings[\n",
        "    (ratings['DATE'] < '2018-09-01')\n",
        "]\n",
        "ratings_testings = ratings[\n",
        "    (ratings['DATE'] >= '2018-09-01') & \n",
        "    (ratings['DATE'] <= '2018-09-30')\n",
        "]\n",
        "ratings_testings_by_user = ratings_testings.groupby('reviewerID').agg(list).reset_index()[['reviewerID', 'asin']].to_dict('records')\n",
        "ratings_testings_by_user = { rating['reviewerID']: rating['asin'] for rating in ratings_testings_by_user }\n",
        "users = list(ratings_testings_by_user.keys())"
      ],
      "id": "284b14a8"
    },
    {
      "cell_type": "code",
      "execution_count": null,
      "metadata": {
        "id": "QUOwEWGAEEAN",
        "outputId": "1f2b6b2b-4730-475d-b876-2638a94b0821"
      },
      "outputs": [
        {
          "name": "stdout",
          "output_type": "stream",
          "text": [
            "(361012, 5)\n",
            "(590, 5)\n"
          ]
        }
      ],
      "source": [
        "print(ratings_trainings.shape)\n",
        "print(ratings_testings.shape)"
      ],
      "id": "QUOwEWGAEEAN"
    },
    {
      "cell_type": "markdown",
      "metadata": {
        "id": "GRnCHxauEEAN"
      },
      "source": [
        "## EDA"
      ],
      "id": "GRnCHxauEEAN"
    },
    {
      "cell_type": "code",
      "execution_count": null,
      "metadata": {
        "id": "uZXjL4EFEEAN"
      },
      "outputs": [],
      "source": [
        "import matplotlib.pyplot as plt\n",
        "import seaborn as sns\n",
        "sns.set_style('ticks')"
      ],
      "id": "uZXjL4EFEEAN"
    },
    {
      "cell_type": "markdown",
      "metadata": {
        "id": "m2CDSImFEEAN"
      },
      "source": [
        "### 整體客戶之評分分布"
      ],
      "id": "m2CDSImFEEAN"
    },
    {
      "cell_type": "markdown",
      "metadata": {
        "id": "nhpFNUVNEEAO"
      },
      "source": [
        "- 75.8% rating分數 >= 4，客戶的商品評分都給蠻高的"
      ],
      "id": "nhpFNUVNEEAO"
    },
    {
      "cell_type": "code",
      "execution_count": null,
      "metadata": {
        "id": "1UCwrwM0EEAO",
        "outputId": "e3dd3ee7-01d2-4fff-9c3a-8ae8ce615231"
      },
      "outputs": [
        {
          "data": {
            "image/png": "[encoded data removed]",
            "text/plain": [
              "<Figure size 360x360 with 1 Axes>"
            ]
          },
          "metadata": {},
          "output_type": "display_data"
        }
      ],
      "source": [
        "colors = sns.color_palette(\"BuGn\")[:5]\n",
        "fig, ax = plt.subplots(figsize=(5, 5))\n",
        "ax = ratings['overall'].value_counts().plot.pie(autopct='%.1f%%',\n",
        "       wedgeprops={'linewidth': 3.0, 'edgecolor': 'white'},\n",
        "       colors = colors )\n",
        "ax.set_title(\"The distribution of rating\")\n",
        "plt.show()"
      ],
      "id": "1UCwrwM0EEAO"
    },
    {
      "cell_type": "code",
      "execution_count": null,
      "metadata": {
        "id": "IbvPen-ZEEAP",
        "outputId": "627d255b-060f-44c1-fa36-52fbe9c15ad2"
      },
      "outputs": [
        {
          "data": {
            "text/html": [
              "<div>\n",
              "<style scoped>\n",
              "    .dataframe tbody tr th:only-of-type {\n",
              "        vertical-align: middle;\n",
              "    }\n",
              "\n",
              "    .dataframe tbody tr th {\n",
              "        vertical-align: top;\n",
              "    }\n",
              "\n",
              "    .dataframe thead th {\n",
              "        text-align: right;\n",
              "    }\n",
              "</style>\n",
              "<table border=\"1\" class=\"dataframe\">\n",
              "  <thead>\n",
              "    <tr style=\"text-align: right;\">\n",
              "      <th></th>\n",
              "      <th>overall</th>\n",
              "    </tr>\n",
              "  </thead>\n",
              "  <tbody>\n",
              "    <tr>\n",
              "      <th>5.0</th>\n",
              "      <td>222891</td>\n",
              "    </tr>\n",
              "    <tr>\n",
              "      <th>4.0</th>\n",
              "      <td>51411</td>\n",
              "    </tr>\n",
              "    <tr>\n",
              "      <th>1.0</th>\n",
              "      <td>38539</td>\n",
              "    </tr>\n",
              "    <tr>\n",
              "      <th>3.0</th>\n",
              "      <td>28875</td>\n",
              "    </tr>\n",
              "    <tr>\n",
              "      <th>2.0</th>\n",
              "      <td>19889</td>\n",
              "    </tr>\n",
              "  </tbody>\n",
              "</table>\n",
              "</div>"
            ],
            "text/plain": [
              "     overall\n",
              "5.0   222891\n",
              "4.0    51411\n",
              "1.0    38539\n",
              "3.0    28875\n",
              "2.0    19889"
            ]
          },
          "execution_count": 149,
          "metadata": {},
          "output_type": "execute_result"
        }
      ],
      "source": [
        "ratings['overall'].value_counts().to_frame()"
      ],
      "id": "IbvPen-ZEEAP"
    },
    {
      "cell_type": "markdown",
      "metadata": {
        "id": "PW4apynVEEAP"
      },
      "source": [
        "### 客戶評分分布 vs 時間"
      ],
      "id": "PW4apynVEEAP"
    },
    {
      "cell_type": "markdown",
      "metadata": {
        "id": "eGuQrjDsEEAQ"
      },
      "source": [
        "* 綜觀時間維度，其分佈與整體差異不大，4分以上為主要佔比(70~80%)"
      ],
      "id": "eGuQrjDsEEAQ"
    },
    {
      "cell_type": "code",
      "execution_count": null,
      "metadata": {
        "scrolled": true,
        "id": "8TaznqQyEEAQ",
        "outputId": "9b1f403d-2c45-42ea-dcf8-63264eb1c700"
      },
      "outputs": [
        {
          "data": {
            "image/png": "[encoded data removed]",
            "text/plain": [
              "<Figure size 360x360 with 1 Axes>"
            ]
          },
          "metadata": {},
          "output_type": "display_data"
        }
      ],
      "source": [
        "fig, ax = plt.subplots(figsize=(5, 5))\n",
        "ax = sns.histplot(\n",
        "    data = ratings,\n",
        "    x=\"DATE\", hue=\"overall\",\n",
        "    multiple=\"fill\",\n",
        "    palette=\"BuGn\",\n",
        "    edgecolor=\".3\",\n",
        "    linewidth=.2,\n",
        "    binwidth = (100)\n",
        ")\n",
        "ax.set_title('The distribution of yearly rating')\n",
        "plt.show()"
      ],
      "id": "8TaznqQyEEAQ"
    },
    {
      "cell_type": "markdown",
      "metadata": {
        "id": "LHmsu7QbEEAQ"
      },
      "source": [
        "### 每個客戶之購買次數分佈"
      ],
      "id": "LHmsu7QbEEAQ"
    },
    {
      "cell_type": "markdown",
      "metadata": {
        "id": "SgBROeUeEEAQ"
      },
      "source": [
        "* 客戶主要購買次數為1次（佔90.9%)"
      ],
      "id": "SgBROeUeEEAQ"
    },
    {
      "cell_type": "code",
      "execution_count": null,
      "metadata": {
        "id": "IizBIn7JEEAR",
        "outputId": "bb1b8ebb-766c-413c-d9de-1192cda7b923"
      },
      "outputs": [
        {
          "data": {
            "text/html": [
              "<div>\n",
              "<style scoped>\n",
              "    .dataframe tbody tr th:only-of-type {\n",
              "        vertical-align: middle;\n",
              "    }\n",
              "\n",
              "    .dataframe tbody tr th {\n",
              "        vertical-align: top;\n",
              "    }\n",
              "\n",
              "    .dataframe thead th {\n",
              "        text-align: right;\n",
              "    }\n",
              "</style>\n",
              "<table border=\"1\" class=\"dataframe\">\n",
              "  <thead>\n",
              "    <tr style=\"text-align: right;\">\n",
              "      <th></th>\n",
              "      <th>reviewerID</th>\n",
              "    </tr>\n",
              "  </thead>\n",
              "  <tbody>\n",
              "    <tr>\n",
              "      <th>A2GJX2KCUSR0EI</th>\n",
              "      <td>24</td>\n",
              "    </tr>\n",
              "    <tr>\n",
              "      <th>A1KSC91G9AIY2Z</th>\n",
              "      <td>22</td>\n",
              "    </tr>\n",
              "    <tr>\n",
              "      <th>AENH50GW3OKDA</th>\n",
              "      <td>20</td>\n",
              "    </tr>\n",
              "    <tr>\n",
              "      <th>A22CW0ZHY3NJH8</th>\n",
              "      <td>18</td>\n",
              "    </tr>\n",
              "    <tr>\n",
              "      <th>A1UQBFCERIP7VJ</th>\n",
              "      <td>16</td>\n",
              "    </tr>\n",
              "    <tr>\n",
              "      <th>...</th>\n",
              "      <td>...</td>\n",
              "    </tr>\n",
              "    <tr>\n",
              "      <th>A3VF3RO1P1VA71</th>\n",
              "      <td>1</td>\n",
              "    </tr>\n",
              "    <tr>\n",
              "      <th>A3OVQO2WWU4VS7</th>\n",
              "      <td>1</td>\n",
              "    </tr>\n",
              "    <tr>\n",
              "      <th>A1SOTHUZHXEBJV</th>\n",
              "      <td>1</td>\n",
              "    </tr>\n",
              "    <tr>\n",
              "      <th>A1ICKAWVLDNURL</th>\n",
              "      <td>1</td>\n",
              "    </tr>\n",
              "    <tr>\n",
              "      <th>A1Q5AHWLJSHDTN</th>\n",
              "      <td>1</td>\n",
              "    </tr>\n",
              "  </tbody>\n",
              "</table>\n",
              "<p>324038 rows × 1 columns</p>\n",
              "</div>"
            ],
            "text/plain": [
              "                reviewerID\n",
              "A2GJX2KCUSR0EI          24\n",
              "A1KSC91G9AIY2Z          22\n",
              "AENH50GW3OKDA           20\n",
              "A22CW0ZHY3NJH8          18\n",
              "A1UQBFCERIP7VJ          16\n",
              "...                    ...\n",
              "A3VF3RO1P1VA71           1\n",
              "A3OVQO2WWU4VS7           1\n",
              "A1SOTHUZHXEBJV           1\n",
              "A1ICKAWVLDNURL           1\n",
              "A1Q5AHWLJSHDTN           1\n",
              "\n",
              "[324038 rows x 1 columns]"
            ]
          },
          "execution_count": 151,
          "metadata": {},
          "output_type": "execute_result"
        }
      ],
      "source": [
        "ratings['reviewerID'].value_counts().to_frame()"
      ],
      "id": "IizBIn7JEEAR"
    },
    {
      "cell_type": "code",
      "execution_count": null,
      "metadata": {
        "scrolled": false,
        "id": "ZUb2CDnwEEAR",
        "outputId": "b004f056-408e-4716-9afd-b9acaca57738"
      },
      "outputs": [
        {
          "data": {
            "image/png": "[encoded data removed]",
            "text/plain": [
              "<Figure size 360x360 with 1 Axes>"
            ]
          },
          "metadata": {},
          "output_type": "display_data"
        }
      ],
      "source": [
        "def range_tag(x):\n",
        "    if x == 1:\n",
        "        return '1 time'\n",
        "    elif x == 2:\n",
        "        return '2 times'\n",
        "    elif x > 2 and x <=5 :\n",
        "        return '3~5 times'\n",
        "    else:\n",
        "        return 'more than 5 times' \n",
        "    \n",
        "fig, ax = plt.subplots(figsize=(5, 5))\n",
        "reviewerID_count = ratings['reviewerID'].value_counts().to_frame()\n",
        "\n",
        "ax = sns.boxplot(x='reviewerID', data=reviewerID_count,\n",
        "            whis=[0, 100], width=.6, palette=\"vlag\"\n",
        "                )\n",
        "sns.stripplot(x= 'reviewerID', data=reviewerID_count,\n",
        "              size=4, color=\".3\", linewidth=0)\n",
        "\n",
        "ax.set_title('The distribution of purchase count per person')\n",
        "plt.show()"
      ],
      "id": "ZUb2CDnwEEAR"
    },
    {
      "cell_type": "code",
      "execution_count": null,
      "metadata": {
        "id": "rdHHqgV9EEAR",
        "outputId": "b07113a5-910d-4ee0-e059-3f905b73d6bf"
      },
      "outputs": [
        {
          "data": {
            "image/png": "[encoded data removed]",
            "text/plain": [
              "<Figure size 432x288 with 1 Axes>"
            ]
          },
          "metadata": {},
          "output_type": "display_data"
        }
      ],
      "source": [
        "colors = sns.color_palette(\"BuGn\")[:5]\n",
        "reviewerID_count_df = reviewerID_count['reviewerID'].apply(range_tag).value_counts()\n",
        "ax = reviewerID_count_df.plot.pie(autopct='%.1f%%',\n",
        "       wedgeprops={'linewidth': 3.0, 'edgecolor': 'white'}, colors=colors)\n",
        "ax.set_title('The distribution of purchase count per person', fontsize=12)\n",
        "plt.tight_layout()"
      ],
      "id": "rdHHqgV9EEAR"
    },
    {
      "cell_type": "markdown",
      "metadata": {
        "id": "5V8OFCU6EEAS"
      },
      "source": [
        "### 每位客戶購買次數分佈 vs 時間"
      ],
      "id": "5V8OFCU6EEAS"
    },
    {
      "cell_type": "markdown",
      "metadata": {
        "id": "iae6oDKXEEAS"
      },
      "source": [
        "* 從2008年後開始明顯有客戶購買3次以上，但2016年開始客戶購買之次數開始有走下坡趨勢"
      ],
      "id": "iae6oDKXEEAS"
    },
    {
      "cell_type": "code",
      "execution_count": null,
      "metadata": {
        "id": "fL9u293uEEAS",
        "outputId": "377d7286-3d7c-4b4c-d68b-c450773d3bb5"
      },
      "outputs": [
        {
          "data": {
            "image/png": "[encoded data removed]",
            "text/plain": [
              "<Figure size 360x360 with 1 Axes>"
            ]
          },
          "metadata": {},
          "output_type": "display_data"
        }
      ],
      "source": [
        "df = ratings.groupby(['DATE','reviewerID'], as_index=False).agg(count =('reviewerID','count'))\n",
        "df['range_tag'] = df['count'].apply(range_tag)\n",
        "df = df.groupby(['DATE','range_tag'], as_index=False).agg(count =('range_tag','count'))\n",
        "\n",
        "fig, ax = plt.subplots(figsize=(5, 5))\n",
        "ax = sns.histplot(\n",
        "    data = df,\n",
        "    x=\"DATE\", hue=\"range_tag\",\n",
        "    multiple=\"fill\",\n",
        "    palette=\"BuGn\",\n",
        "    edgecolor=\".3\",\n",
        "    linewidth=.2,\n",
        ")\n",
        "\n",
        "ax.set_title('The distribution of yearly count - customer purchase ')\n",
        "plt.show()"
      ],
      "id": "fL9u293uEEAS"
    },
    {
      "cell_type": "markdown",
      "metadata": {
        "id": "yOH0TXRJEEAS"
      },
      "source": [
        "### 整體商品之購買次數分佈"
      ],
      "id": "yOH0TXRJEEAS"
    },
    {
      "cell_type": "markdown",
      "metadata": {
        "id": "XPGr7Ml3EEAT"
      },
      "source": [
        "* 每個商品總購買次數區間主要落在1～2000之間"
      ],
      "id": "XPGr7Ml3EEAT"
    },
    {
      "cell_type": "code",
      "execution_count": null,
      "metadata": {
        "id": "a8hSl0h8EEAT",
        "outputId": "2d0077ed-8c8c-4e6b-e6c8-547efc1a5e08"
      },
      "outputs": [
        {
          "data": {
            "text/html": [
              "<div>\n",
              "<style scoped>\n",
              "    .dataframe tbody tr th:only-of-type {\n",
              "        vertical-align: middle;\n",
              "    }\n",
              "\n",
              "    .dataframe tbody tr th {\n",
              "        vertical-align: top;\n",
              "    }\n",
              "\n",
              "    .dataframe thead th {\n",
              "        text-align: right;\n",
              "    }\n",
              "</style>\n",
              "<table border=\"1\" class=\"dataframe\">\n",
              "  <thead>\n",
              "    <tr style=\"text-align: right;\">\n",
              "      <th></th>\n",
              "      <th>index</th>\n",
              "      <th>asin</th>\n",
              "    </tr>\n",
              "  </thead>\n",
              "  <tbody>\n",
              "    <tr>\n",
              "      <th>0</th>\n",
              "      <td>B000FOI48G</td>\n",
              "      <td>8656</td>\n",
              "    </tr>\n",
              "    <tr>\n",
              "      <th>1</th>\n",
              "      <td>B000GLRREU</td>\n",
              "      <td>8341</td>\n",
              "    </tr>\n",
              "    <tr>\n",
              "      <th>2</th>\n",
              "      <td>1620213982</td>\n",
              "      <td>4791</td>\n",
              "    </tr>\n",
              "    <tr>\n",
              "      <th>3</th>\n",
              "      <td>B001QY8QXM</td>\n",
              "      <td>4505</td>\n",
              "    </tr>\n",
              "    <tr>\n",
              "      <th>4</th>\n",
              "      <td>B01DKQAXC0</td>\n",
              "      <td>4240</td>\n",
              "    </tr>\n",
              "    <tr>\n",
              "      <th>5</th>\n",
              "      <td>B006IB5T4W</td>\n",
              "      <td>2789</td>\n",
              "    </tr>\n",
              "    <tr>\n",
              "      <th>6</th>\n",
              "      <td>B00W259T7G</td>\n",
              "      <td>2603</td>\n",
              "    </tr>\n",
              "    <tr>\n",
              "      <th>7</th>\n",
              "      <td>B00005JS5C</td>\n",
              "      <td>2249</td>\n",
              "    </tr>\n",
              "    <tr>\n",
              "      <th>8</th>\n",
              "      <td>B00VF344X0</td>\n",
              "      <td>1964</td>\n",
              "    </tr>\n",
              "    <tr>\n",
              "      <th>9</th>\n",
              "      <td>B0067F28ZW</td>\n",
              "      <td>1850</td>\n",
              "    </tr>\n",
              "  </tbody>\n",
              "</table>\n",
              "</div>"
            ],
            "text/plain": [
              "        index  asin\n",
              "0  B000FOI48G  8656\n",
              "1  B000GLRREU  8341\n",
              "2  1620213982  4791\n",
              "3  B001QY8QXM  4505\n",
              "4  B01DKQAXC0  4240\n",
              "5  B006IB5T4W  2789\n",
              "6  B00W259T7G  2603\n",
              "7  B00005JS5C  2249\n",
              "8  B00VF344X0  1964\n",
              "9  B0067F28ZW  1850"
            ]
          },
          "execution_count": 155,
          "metadata": {},
          "output_type": "execute_result"
        }
      ],
      "source": [
        "asin_count = ratings['asin'].value_counts().to_frame().reset_index()\n",
        "asin_count[:10]"
      ],
      "id": "a8hSl0h8EEAT"
    },
    {
      "cell_type": "code",
      "execution_count": null,
      "metadata": {
        "id": "0ReZVwtLEEAT",
        "outputId": "b91813f6-9497-42b5-9cba-6757417ed434"
      },
      "outputs": [
        {
          "data": {
            "text/plain": [
              "<AxesSubplot:xlabel='asin'>"
            ]
          },
          "execution_count": 159,
          "metadata": {},
          "output_type": "execute_result"
        },
        {
          "data": {
            "image/png": "[encoded data removed]",
            "text/plain": [
              "<Figure size 432x288 with 1 Axes>"
            ]
          },
          "metadata": {},
          "output_type": "display_data"
        }
      ],
      "source": [
        "ax = sns.boxplot(x='asin', data=asin_count,\n",
        "            whis=[0, 100], width=.6, palette=\"vlag\"\n",
        "                )\n",
        "sns.stripplot(x='asin', data=asin_count,\n",
        "              size=4, color=\".3\", linewidth=0)\n"
      ],
      "id": "0ReZVwtLEEAT"
    },
    {
      "cell_type": "code",
      "execution_count": null,
      "metadata": {
        "id": "FgdsEETKEEAT",
        "outputId": "e1c4aa53-ef71-462c-91cf-62e32c8e120b"
      },
      "outputs": [
        {
          "data": {
            "text/plain": [
              "1~10              28038\n",
              "11~50              3435\n",
              "50~100              571\n",
              "100~300             411\n",
              "300~1000            111\n",
              "1000~4000            15\n",
              "more than 4000        5\n",
              "Name: range_tag, dtype: int64"
            ]
          },
          "execution_count": 201,
          "metadata": {},
          "output_type": "execute_result"
        }
      ],
      "source": [
        "def range_tag(x):\n",
        "    if x > 0 and x <=10:\n",
        "        return '1~10'\n",
        "    elif x > 10 and x <=50 :\n",
        "        return '11~50'\n",
        "    elif x > 50 and x <=100 :\n",
        "        return '50~100'\n",
        "    elif x > 100 and x <=300 :\n",
        "        return '100~300'\n",
        "    elif x > 300 and x <=1000 :\n",
        "        return '300~1000'\n",
        "    elif x > 1000 and x <=4000 :\n",
        "        return '1000~4000'\n",
        "    else:\n",
        "        return 'more than 4000' \n",
        "\n",
        "asin_count['range_tag']= asin_count['asin'].apply(range_tag)\n",
        "asin_count['range_tag'].value_counts()"
      ],
      "id": "FgdsEETKEEAT"
    },
    {
      "cell_type": "code",
      "execution_count": null,
      "metadata": {
        "id": "t7z8VgBAEEAU",
        "outputId": "77156cfd-56c3-4bbc-f073-61874a5b62e0"
      },
      "outputs": [
        {
          "data": {
            "image/png": "[encoded data removed]",
            "text/plain": [
              "<Figure size 432x288 with 1 Axes>"
            ]
          },
          "metadata": {},
          "output_type": "display_data"
        }
      ],
      "source": [
        "colors = sns.color_palette(\"BuGn\")[:5]\n",
        "asin_count['range_tag'].value_counts().plot.pie(autopct='%.1f%%',\n",
        "       wedgeprops={'linewidth': 3.0, 'edgecolor': 'white'}, colors=colors)\n",
        "ax.set_title('The distribution of purchase count per person', fontsize=12)\n",
        "plt.tight_layout()"
      ],
      "id": "t7z8VgBAEEAU"
    },
    {
      "cell_type": "markdown",
      "metadata": {
        "id": "muv1iAF6EEAU"
      },
      "source": [
        "### 商品的購買次數分佈 vs 時間"
      ],
      "id": "muv1iAF6EEAU"
    },
    {
      "cell_type": "markdown",
      "metadata": {
        "id": "-Pn6IG7_EEAU"
      },
      "source": [
        "* 每月商品購買次數主要1~2次（約佔80%)"
      ],
      "id": "-Pn6IG7_EEAU"
    },
    {
      "cell_type": "code",
      "execution_count": null,
      "metadata": {
        "scrolled": false,
        "id": "52-6cQkTEEAU",
        "outputId": "b103cb16-c069-4374-85a9-bf473f13ea3a"
      },
      "outputs": [
        {
          "data": {
            "image/png": "[encoded data removed]",
            "text/plain": [
              "<Figure size 864x432 with 1 Axes>"
            ]
          },
          "metadata": {},
          "output_type": "display_data"
        }
      ],
      "source": [
        "from datetime import datetime \n",
        "from matplotlib.ticker import MultipleLocator\n",
        "import matplotlib.ticker as ticker\n",
        "\n",
        "def range_tag(x):\n",
        "    if x == 1:\n",
        "        return '1 time'\n",
        "    elif x == 2:\n",
        "        return '2 times'\n",
        "    elif x > 2 and x <=5 :\n",
        "        return '3~5 times'\n",
        "    elif x > 5 and x <=10 :\n",
        "        return '6~10 times'\n",
        "    elif x > 10 and x <=15 :\n",
        "        return '11~15 times'\n",
        "    elif x > 15 and x <=20 :\n",
        "        return '16~20 times'\n",
        "    else:\n",
        "        return 'more than 21 times' \n",
        "\n",
        "ratings['YYYYMM'] = ratings['DATE'].dt.strftime('%Y-%m')\n",
        "df = ratings.groupby(['YYYYMM','asin'], as_index=False).agg(count =('asin','count'))\n",
        "df['range_tag'] = df['count'].apply(range_tag)\n",
        "df['range_tag'] = df['count'].apply(lambda x : range_tag(x))\n",
        "\n",
        "tickspacing=3\n",
        "fig, ax = plt.subplots(figsize=(12, 6))\n",
        "ax = sns.histplot(\n",
        "    data = df,\n",
        "    x=\"YYYYMM\", hue=\"range_tag\",\n",
        "    multiple=\"fill\",\n",
        "    palette=\"Set2\",\n",
        "    edgecolor=\".3\",\n",
        "    linewidth=.2,\n",
        "    binwidth = (500)\n",
        ")\n",
        "\n",
        "ax.set_title('The distribution of yearly purchase count')\n",
        "ax.xaxis.set_major_locator(MultipleLocator(6))\n",
        "ax.tick_params(axis='x', labelrotation=45 )\n",
        "plt.tight_layout()\n",
        "plt.show()"
      ],
      "id": "52-6cQkTEEAU"
    },
    {
      "cell_type": "markdown",
      "metadata": {
        "id": "LKiFGDpjEEAV"
      },
      "source": [
        "### 評價與銷量關係"
      ],
      "id": "LKiFGDpjEEAV"
    },
    {
      "cell_type": "markdown",
      "metadata": {
        "id": "iO2THhy2EEAV"
      },
      "source": [
        "* 商品平均評價越高，不一定與商品銷量有正向或負向關係，因此決定評價不納入相似度篩選條件"
      ],
      "id": "iO2THhy2EEAV"
    },
    {
      "cell_type": "code",
      "execution_count": null,
      "metadata": {
        "id": "Ho3IaLItEEAV"
      },
      "outputs": [],
      "source": [
        "df = ratings.groupby(['asin'],as_index=False).agg(sale_count=('asin','count'), avg_overall=('overall','mean'))\n",
        "df = df[df['sale_count']<=1000]"
      ],
      "id": "Ho3IaLItEEAV"
    },
    {
      "cell_type": "code",
      "execution_count": null,
      "metadata": {
        "scrolled": false,
        "id": "k8IflrTUEEAV",
        "outputId": "fab36683-ad6d-445c-99c8-31ec12c341e0"
      },
      "outputs": [
        {
          "data": {
            "text/plain": [
              "<seaborn.axisgrid.FacetGrid at 0x7ffc4ba28100>"
            ]
          },
          "execution_count": 189,
          "metadata": {},
          "output_type": "execute_result"
        },
        {
          "data": {
            "image/png": "[encoded data removed]",
            "text/plain": [
              "<Figure size 360x360 with 1 Axes>"
            ]
          },
          "metadata": {},
          "output_type": "display_data"
        }
      ],
      "source": [
        "import seaborn as sns\n",
        "import matplotlib.pyplot as plt\n",
        "\n",
        "sns.lmplot(x=\"sale_count\", y=\"avg_overall\", data=df,\n",
        "           scatter_kws={\"s\": 50, \"alpha\": 1})\n"
      ],
      "id": "k8IflrTUEEAV"
    },
    {
      "cell_type": "markdown",
      "metadata": {
        "id": "a6c76061"
      },
      "source": [
        "## 產生推薦"
      ],
      "id": "a6c76061"
    },
    {
      "cell_type": "code",
      "execution_count": null,
      "metadata": {
        "id": "9280a043",
        "outputId": "7c34bd9d-f9d6-4131-8232-fced7da943a1"
      },
      "outputs": [
        {
          "name": "stdout",
          "output_type": "stream",
          "text": [
            "total users before filtering:  323489\n",
            "total users  after filtering:  4793\n",
            "total items :  4853\n"
          ]
        }
      ],
      "source": [
        "import pandas as pd\n",
        "from itertools import combinations\n",
        "from collections import defaultdict\n",
        "\n",
        "# header: user_id,item_id,rating,timestamp\n",
        "\n",
        "def recommender(training_data, users=[], k=10):\n",
        "\n",
        "    # loading data from dataframe\n",
        "    # user_to_items dict:\n",
        "    # {\n",
        "    #   'user': {\n",
        "    #       'item': ratings...\n",
        "    #   }...\n",
        "    # }\n",
        "    user_to_items = defaultdict(dict)\n",
        "    for _, row in training_data.iterrows():\n",
        "        \n",
        "        row = dict(row)\n",
        "        user = row['reviewerID']\n",
        "        item = row['asin']\n",
        "        rating = float(row['overall'])\n",
        "\n",
        "        user_to_items[user][item] = rating\n",
        "\n",
        "    print(\"total users before filtering: \", len(user_to_items))\n",
        "\n",
        "    # remove obscure user to decrease data size\n",
        "    # filtering params\n",
        "    remove_obscure_user = True\n",
        "    user_rating_threshold = 3   \n",
        "    all_users = list(user_to_items.keys())\n",
        "    for user in all_users:\n",
        "        ratings = user_to_items[user]\n",
        "        if remove_obscure_user and len(ratings) < user_rating_threshold:\n",
        "            del user_to_items[user]\n",
        "\n",
        "    print(\"total users  after filtering: \", len(user_to_items))\n",
        "\n",
        "    # generate item to user mapping dict\n",
        "    # {\n",
        "    #   'item': {\n",
        "    #       'user': ratings...\n",
        "    #   }...\n",
        "    # }\n",
        "    item_to_users = defaultdict(dict)\n",
        "    for user, items in user_to_items.items():\n",
        "        for item, rating in items.items():\n",
        "            item_to_users[item][user] = rating\n",
        "    \n",
        "    print(\"total items : \", len(item_to_users))\n",
        "\n",
        "    # prepare data of computing user similarity\n",
        "    # generate pre_user_similarity dict\n",
        "    # {\n",
        "    #   'user1': {\n",
        "    #       'user2': [xy, xx, yy ],\n",
        "    #.      'user3': [xy, xx, yy ]...\n",
        "    #   }...\n",
        "    # }\n",
        "    init_sim = lambda: [0 for _ in range(3)]\n",
        "    factory = lambda: defaultdict(init_sim)\n",
        "    pre_user_similarity = defaultdict(factory)\n",
        "    n = len(item_to_users)\n",
        "    index = 0\n",
        "    for item, user_ratings in item_to_users.items():\n",
        "        if len(user_ratings) > 1:\n",
        "            # print(f\"item: {item} have been rated by {len(user_ratings)} users progress: {index}/{n}\")\n",
        "            for user1, user2 in combinations(user_ratings.keys(), 2):\n",
        "                xy = user_ratings[user1] * user_ratings[user2]\n",
        "                xx = user_ratings[user1] ** 2\n",
        "                yy = user_ratings[user2] ** 2\n",
        "                pre_user_similarity[user1][user2][0] += xy\n",
        "                pre_user_similarity[user1][user2][1] += xx\n",
        "                pre_user_similarity[user1][user2][2] += yy\n",
        "\n",
        "                pre_user_similarity[user2][user1][0] += xy\n",
        "                pre_user_similarity[user2][user1][1] += xx\n",
        "                pre_user_similarity[user2][user1][2] += yy\n",
        "        index += 1\n",
        "\n",
        "    user_similarity = {}\n",
        "    for src_user in pre_user_similarity:\n",
        "        user_similarity_order = []\n",
        "        for dst_user, val in pre_user_similarity[src_user].items():\n",
        "            xy = val[0]\n",
        "            xx = val[1]\n",
        "            yy = val[2]\n",
        "            div = ((xx*yy) ** 0.5)\n",
        "            if div == 0:\n",
        "                continue\n",
        "            similarity = xy / div\n",
        "            if similarity < 0:\n",
        "                continue\n",
        "            for i, s in enumerate(user_similarity_order):\n",
        "                target_similarity = s[1]\n",
        "                if target_similarity < similarity:\n",
        "                    user_similarity_order.insert(i, (dst_user, similarity))\n",
        "                    break\n",
        "            else: # 有當迴圈裡沒有遇到 break 時，else 塊才會執行，當最後一個similarlity比target_similarity會執行\n",
        "                user_similarity_order.append((dst_user, similarity))\n",
        "        user_similarity[src_user] = user_similarity_order\n",
        "\n",
        "    recommendation = {}\n",
        "    for user in users:  # testing data user\n",
        "        if user in user_similarity: #if testing in user_similarity\n",
        "            sim_users = user_similarity[user] #[(dst_user, similarity),(dst_user, similarity)...]\n",
        "            recommended_items = []\n",
        "            recommended_items_set = set() \n",
        "            user_have_rated = set(user_to_items[user])  #{item1, item2, ...} 避免key重複，用戶評的商品清單\n",
        "            stop_recommend = False\n",
        "            for sim_user, _ in sim_users: #[(dst_user, similarity),(dst_user, similarity)...]\n",
        "                items_from_sim_user = sorted(list(user_to_items[sim_user].items()), key=lambda item: item[1]) #user_to_items針對用戶商品的評分，由小排到大，[(item1:1),(item2:2)...]\n",
        "                for item, rating in items_from_sim_user: #item, _ --> item, rating\n",
        "                    if item not in user_have_rated and item not in recommended_items_set:\n",
        "                        recommended_items.append(item)\n",
        "                        recommended_items_set.add(item)\n",
        "                    if len(recommended_items) >= k: #recommended_items_set why not?\n",
        "                        stop_recommend = True\n",
        "                        break\n",
        "                if stop_recommend:\n",
        "                    break\n",
        "            recommendation[user] = recommended_items\n",
        "        else:\n",
        "            recommendation[user] = []\n",
        "    return recommendation\n",
        "\n",
        "ratings_by_user = recommender(ratings_trainings, users)"
      ],
      "id": "9280a043"
    },
    {
      "cell_type": "markdown",
      "metadata": {
        "id": "04a4ca9e"
      },
      "source": [
        "## 結果評估"
      ],
      "id": "04a4ca9e"
    },
    {
      "cell_type": "code",
      "execution_count": null,
      "metadata": {
        "id": "ee763747",
        "outputId": "56f21125-8b5b-4bbc-a74a-3cb699d25366"
      },
      "outputs": [
        {
          "name": "stdout",
          "output_type": "stream",
          "text": [
            "user: A1SA3N793WT2LM , Not match!!!\n",
            "recommendation:  ['B0007QKY80', 'B0001TMDF0', 'B0021YV3C2', 'B01BZV6VVY', 'B015ZVFK1W', 'B019Z9JUC0', 'B019Z9L8PW', 'B00NPJVLYW', 'B00CR6X0IY', 'B00L5E74VS']\n",
            "real buy:  ['B01GAFCQOQ']\n",
            "\n",
            "user: ACE1ZIOI3U6PY , Not match!!!\n",
            "recommendation:  ['B00PMRE5A2', 'B00QHX7NT0', 'B01E7UKR38', 'B005IZD7BG', 'B000067E30', 'B006WZ9ZHQ']\n",
            "real buy:  ['B01GOSELHE']\n",
            "\n",
            "user: ASGIVOW34XNQS , Not match!!!\n",
            "recommendation:  ['1620213982', 'B000KNELAW', 'B01DJI7796', 'B00006IGL2', 'B0001WXTPA', 'B0002JHI1I', 'B00120VWTK', 'B01DEDYWD0', 'B00021DJ32', 'B003I5SDJO']\n",
            "real buy:  ['B01CGPN2D8']\n",
            "\n",
            "The evaluation result is 0.0\n"
          ]
        }
      ],
      "source": [
        "def evaluate(ratings_testings_by_user={}, ratings_by_user={}, method=None):\n",
        "    '''\n",
        "    * ratings_testings_by_user: dict 真實被購買的商品資料（2018-09-01 以後資料）\n",
        "    * ratings_by_user: dict 利用訓練資料學習的推薦商品\n",
        "    * method: str\n",
        "    * score: float\n",
        "    '''\n",
        "    total = 0\n",
        "    for d in ratings_testings_by_user:\n",
        "        if d in ratings_by_user:\n",
        "            total += len(set(ratings_by_user[d]) & set(ratings_testings_by_user[d]))\n",
        "            if len(set(ratings_by_user[d])) > 0:\n",
        "                if len(set(ratings_by_user[d]) & set(ratings_testings_by_user[d]))> 0:\n",
        "                    print(f'user: {d} , Match!!!')\n",
        "                    print(\"recommendation: \",  ratings_by_user[d])\n",
        "                    print(\"real buy: \",  ratings_testings_by_user[d] )\n",
        "                    print()\n",
        "                else: \n",
        "                    print(f'user: {d} , Not match!!!')\n",
        "                    print(\"recommendation: \",  ratings_by_user[d])\n",
        "                    print(\"real buy: \",  ratings_testings_by_user[d] )\n",
        "                    print()\n",
        "\n",
        "    score = total / len(ratings_testings)\n",
        "    return score\n",
        "\n",
        "score = evaluate(ratings_testings_by_user, ratings_by_user)\n",
        "\n",
        "print(f\"The evaluation result is {score}\")"
      ],
      "id": "ee763747"
    },
    {
      "cell_type": "code",
      "execution_count": null,
      "metadata": {
        "id": "v74whVpKEEAY",
        "outputId": "825cb86e-9442-4cf2-8b80-47afb3378ce8"
      },
      "outputs": [
        {
          "name": "stdout",
          "output_type": "stream",
          "text": [
            "3 users have recommendations\n"
          ]
        }
      ],
      "source": [
        "print(f'{len([user for user in ratings_by_user if len(ratings_by_user[user])>0 ])} users have recommendations')"
      ],
      "id": "v74whVpKEEAY"
    },
    {
      "cell_type": "markdown",
      "metadata": {
        "id": "1LTIBHs3EEAZ"
      },
      "source": [
        "### 為何user-based表現不佳"
      ],
      "id": "1LTIBHs3EEAZ"
    },
    {
      "cell_type": "code",
      "execution_count": null,
      "metadata": {
        "scrolled": true,
        "id": "tZ_ut4j8EEAZ"
      },
      "outputs": [],
      "source": [
        "users_38_df = ratings_trainings[ratings_trainings['reviewerID'].isin(ratings_testings['reviewerID'])]\n",
        "users_38_user = users_38_df['reviewerID'].unique()"
      ],
      "id": "tZ_ut4j8EEAZ"
    },
    {
      "cell_type": "code",
      "execution_count": null,
      "metadata": {
        "id": "_dC3OBLAEEAZ",
        "outputId": "094fc3d3-5307-4502-8899-bd8844cf8fe1"
      },
      "outputs": [
        {
          "name": "stdout",
          "output_type": "stream",
          "text": [
            "First, among 584 testing users, there are only 38 user have purchase records between 2000 and 2018.\n"
          ]
        }
      ],
      "source": [
        "print(f\"First, among {len(ratings_by_user)} testing users, there are only {len(users_38_user)} user have purchase records between 2000 and 2018.\")"
      ],
      "id": "_dC3OBLAEEAZ"
    },
    {
      "cell_type": "code",
      "execution_count": null,
      "metadata": {
        "id": "erQuifNaEEAZ"
      },
      "outputs": [],
      "source": [
        "users_38_df = users_38_df.groupby(['reviewerID']).agg(list).reset_index()[['reviewerID','asin']]\n",
        "users_38_df['count'] = users_38_df['asin'].apply(lambda x : len(x))"
      ],
      "id": "erQuifNaEEAZ"
    },
    {
      "cell_type": "code",
      "execution_count": null,
      "metadata": {
        "scrolled": true,
        "id": "H81bz1-rEEAZ",
        "outputId": "3289c688-a181-4a78-f78f-8195577cd75d"
      },
      "outputs": [
        {
          "data": {
            "text/html": [
              "<div>\n",
              "<style scoped>\n",
              "    .dataframe tbody tr th:only-of-type {\n",
              "        vertical-align: middle;\n",
              "    }\n",
              "\n",
              "    .dataframe tbody tr th {\n",
              "        vertical-align: top;\n",
              "    }\n",
              "\n",
              "    .dataframe thead th {\n",
              "        text-align: right;\n",
              "    }\n",
              "</style>\n",
              "<table border=\"1\" class=\"dataframe\">\n",
              "  <thead>\n",
              "    <tr style=\"text-align: right;\">\n",
              "      <th></th>\n",
              "      <th>reviewerID</th>\n",
              "      <th>asin</th>\n",
              "      <th>count</th>\n",
              "    </tr>\n",
              "  </thead>\n",
              "  <tbody>\n",
              "    <tr>\n",
              "      <th>0</th>\n",
              "      <td>A13JU88JAHN72I</td>\n",
              "      <td>[B009YDVB6Q]</td>\n",
              "      <td>1</td>\n",
              "    </tr>\n",
              "    <tr>\n",
              "      <th>1</th>\n",
              "      <td>A16Y7V1CZCWKFV</td>\n",
              "      <td>[B015ZOWER2]</td>\n",
              "      <td>1</td>\n",
              "    </tr>\n",
              "    <tr>\n",
              "      <th>2</th>\n",
              "      <td>A19503XX7GU6J2</td>\n",
              "      <td>[B019Z9LD98, B019Z9LAPK]</td>\n",
              "      <td>2</td>\n",
              "    </tr>\n",
              "    <tr>\n",
              "      <th>3</th>\n",
              "      <td>A1EY751AUVO5NZ</td>\n",
              "      <td>[B01ENDFXJW]</td>\n",
              "      <td>1</td>\n",
              "    </tr>\n",
              "    <tr>\n",
              "      <th>4</th>\n",
              "      <td>A1PR178735XC70</td>\n",
              "      <td>[B00NNLURMY]</td>\n",
              "      <td>1</td>\n",
              "    </tr>\n",
              "    <tr>\n",
              "      <th>5</th>\n",
              "      <td>A1SA3N793WT2LM</td>\n",
              "      <td>[B0054H0NZ6, B007EITOSK, B0075OYLKY, B012TQ6AXS]</td>\n",
              "      <td>4</td>\n",
              "    </tr>\n",
              "    <tr>\n",
              "      <th>6</th>\n",
              "      <td>A1TP9JHTIY468V</td>\n",
              "      <td>[B01E6NITSG, B01CTKQL56]</td>\n",
              "      <td>2</td>\n",
              "    </tr>\n",
              "    <tr>\n",
              "      <th>7</th>\n",
              "      <td>A1UAOE8KO7Q1DZ</td>\n",
              "      <td>[B006NXZ7TC]</td>\n",
              "      <td>1</td>\n",
              "    </tr>\n",
              "    <tr>\n",
              "      <th>8</th>\n",
              "      <td>A1WEFBEJ7OHSVZ</td>\n",
              "      <td>[B002OITLG0]</td>\n",
              "      <td>1</td>\n",
              "    </tr>\n",
              "    <tr>\n",
              "      <th>9</th>\n",
              "      <td>A1WSZED2O5MA5T</td>\n",
              "      <td>[B000WYJTZG]</td>\n",
              "      <td>1</td>\n",
              "    </tr>\n",
              "    <tr>\n",
              "      <th>10</th>\n",
              "      <td>A28E3FNV1BYC94</td>\n",
              "      <td>[B00U1VSN98]</td>\n",
              "      <td>1</td>\n",
              "    </tr>\n",
              "    <tr>\n",
              "      <th>11</th>\n",
              "      <td>A29834GBB4DOP1</td>\n",
              "      <td>[B01COREXYA]</td>\n",
              "      <td>1</td>\n",
              "    </tr>\n",
              "    <tr>\n",
              "      <th>12</th>\n",
              "      <td>A2AAQWBJJTK3E1</td>\n",
              "      <td>[B00NFUXX6K]</td>\n",
              "      <td>1</td>\n",
              "    </tr>\n",
              "    <tr>\n",
              "      <th>13</th>\n",
              "      <td>A2BU6N5956T9NH</td>\n",
              "      <td>[B00W259T7G]</td>\n",
              "      <td>1</td>\n",
              "    </tr>\n",
              "    <tr>\n",
              "      <th>14</th>\n",
              "      <td>A2GFPTQ4VWDX96</td>\n",
              "      <td>[B012BG2TIG]</td>\n",
              "      <td>1</td>\n",
              "    </tr>\n",
              "    <tr>\n",
              "      <th>15</th>\n",
              "      <td>A2IMJV0CQMZLGC</td>\n",
              "      <td>[B0195R1FT8]</td>\n",
              "      <td>1</td>\n",
              "    </tr>\n",
              "    <tr>\n",
              "      <th>16</th>\n",
              "      <td>A2IOBG1ERS4JP3</td>\n",
              "      <td>[B00JIN3QEM]</td>\n",
              "      <td>1</td>\n",
              "    </tr>\n",
              "    <tr>\n",
              "      <th>17</th>\n",
              "      <td>A2JCBLTLYDPQLW</td>\n",
              "      <td>[B00NE5ZHB0]</td>\n",
              "      <td>1</td>\n",
              "    </tr>\n",
              "    <tr>\n",
              "      <th>18</th>\n",
              "      <td>A2M4YSOJZELJ6N</td>\n",
              "      <td>[B01H6W0UH2]</td>\n",
              "      <td>1</td>\n",
              "    </tr>\n",
              "    <tr>\n",
              "      <th>19</th>\n",
              "      <td>A2XFJ8CTY7VDNN</td>\n",
              "      <td>[B0067F28ZW]</td>\n",
              "      <td>1</td>\n",
              "    </tr>\n",
              "    <tr>\n",
              "      <th>20</th>\n",
              "      <td>A2XY3CJ3ZCAD03</td>\n",
              "      <td>[B00015XAQA]</td>\n",
              "      <td>1</td>\n",
              "    </tr>\n",
              "    <tr>\n",
              "      <th>21</th>\n",
              "      <td>A3BE6JK97CYAGA</td>\n",
              "      <td>[B00005JS5C]</td>\n",
              "      <td>1</td>\n",
              "    </tr>\n",
              "    <tr>\n",
              "      <th>22</th>\n",
              "      <td>A3BT1WLPENXMD6</td>\n",
              "      <td>[B0013NB7DW, B019809F9Y]</td>\n",
              "      <td>2</td>\n",
              "    </tr>\n",
              "    <tr>\n",
              "      <th>23</th>\n",
              "      <td>A3DXW3542E4QUC</td>\n",
              "      <td>[B000V5PC70]</td>\n",
              "      <td>1</td>\n",
              "    </tr>\n",
              "    <tr>\n",
              "      <th>24</th>\n",
              "      <td>A3GRQ9WMP4OXFE</td>\n",
              "      <td>[B00D7C9YQ4]</td>\n",
              "      <td>1</td>\n",
              "    </tr>\n",
              "    <tr>\n",
              "      <th>25</th>\n",
              "      <td>A3H8Z7JS7XJHJJ</td>\n",
              "      <td>[B00R8J13W0, B015TAM2LK]</td>\n",
              "      <td>2</td>\n",
              "    </tr>\n",
              "    <tr>\n",
              "      <th>26</th>\n",
              "      <td>A3JEQJCEMX20GI</td>\n",
              "      <td>[B007Z5RTRK, B01BUNDOIA]</td>\n",
              "      <td>2</td>\n",
              "    </tr>\n",
              "    <tr>\n",
              "      <th>27</th>\n",
              "      <td>A4IQXCCXDEAKW</td>\n",
              "      <td>[B001860E92, B013L9TX22]</td>\n",
              "      <td>2</td>\n",
              "    </tr>\n",
              "    <tr>\n",
              "      <th>28</th>\n",
              "      <td>A7JUHUYLXIUVQ</td>\n",
              "      <td>[B00BOJKTM0]</td>\n",
              "      <td>1</td>\n",
              "    </tr>\n",
              "    <tr>\n",
              "      <th>29</th>\n",
              "      <td>A7Y4ETTLARUGI</td>\n",
              "      <td>[B00IUOH3KS]</td>\n",
              "      <td>1</td>\n",
              "    </tr>\n",
              "    <tr>\n",
              "      <th>30</th>\n",
              "      <td>ACE1ZIOI3U6PY</td>\n",
              "      <td>[B00JY0PHJQ, B007NIR2C6, B00PZBBVZM]</td>\n",
              "      <td>3</td>\n",
              "    </tr>\n",
              "    <tr>\n",
              "      <th>31</th>\n",
              "      <td>AGRZQOBCF8H87</td>\n",
              "      <td>[B00OPTR5GE]</td>\n",
              "      <td>1</td>\n",
              "    </tr>\n",
              "    <tr>\n",
              "      <th>32</th>\n",
              "      <td>AITF34BGBMVJJ</td>\n",
              "      <td>[B01GLA54SA]</td>\n",
              "      <td>1</td>\n",
              "    </tr>\n",
              "    <tr>\n",
              "      <th>33</th>\n",
              "      <td>AK7YIZE6ZZ1N9</td>\n",
              "      <td>[B00M2J4HXI]</td>\n",
              "      <td>1</td>\n",
              "    </tr>\n",
              "    <tr>\n",
              "      <th>34</th>\n",
              "      <td>ANR73TPVBCQ9K</td>\n",
              "      <td>[B010USX5S0]</td>\n",
              "      <td>1</td>\n",
              "    </tr>\n",
              "    <tr>\n",
              "      <th>35</th>\n",
              "      <td>AQYL4TDY2HU8Z</td>\n",
              "      <td>[B003B6QR5M]</td>\n",
              "      <td>1</td>\n",
              "    </tr>\n",
              "    <tr>\n",
              "      <th>36</th>\n",
              "      <td>ASGIVOW34XNQS</td>\n",
              "      <td>[B0006O10P4, B000FQVJXQ, B01EGT3NNG]</td>\n",
              "      <td>3</td>\n",
              "    </tr>\n",
              "    <tr>\n",
              "      <th>37</th>\n",
              "      <td>ATJRZUXNWAWIK</td>\n",
              "      <td>[B01DKQAXC0]</td>\n",
              "      <td>1</td>\n",
              "    </tr>\n",
              "  </tbody>\n",
              "</table>\n",
              "</div>"
            ],
            "text/plain": [
              "        reviewerID                                              asin  count\n",
              "0   A13JU88JAHN72I                                      [B009YDVB6Q]      1\n",
              "1   A16Y7V1CZCWKFV                                      [B015ZOWER2]      1\n",
              "2   A19503XX7GU6J2                          [B019Z9LD98, B019Z9LAPK]      2\n",
              "3   A1EY751AUVO5NZ                                      [B01ENDFXJW]      1\n",
              "4   A1PR178735XC70                                      [B00NNLURMY]      1\n",
              "5   A1SA3N793WT2LM  [B0054H0NZ6, B007EITOSK, B0075OYLKY, B012TQ6AXS]      4\n",
              "6   A1TP9JHTIY468V                          [B01E6NITSG, B01CTKQL56]      2\n",
              "7   A1UAOE8KO7Q1DZ                                      [B006NXZ7TC]      1\n",
              "8   A1WEFBEJ7OHSVZ                                      [B002OITLG0]      1\n",
              "9   A1WSZED2O5MA5T                                      [B000WYJTZG]      1\n",
              "10  A28E3FNV1BYC94                                      [B00U1VSN98]      1\n",
              "11  A29834GBB4DOP1                                      [B01COREXYA]      1\n",
              "12  A2AAQWBJJTK3E1                                      [B00NFUXX6K]      1\n",
              "13  A2BU6N5956T9NH                                      [B00W259T7G]      1\n",
              "14  A2GFPTQ4VWDX96                                      [B012BG2TIG]      1\n",
              "15  A2IMJV0CQMZLGC                                      [B0195R1FT8]      1\n",
              "16  A2IOBG1ERS4JP3                                      [B00JIN3QEM]      1\n",
              "17  A2JCBLTLYDPQLW                                      [B00NE5ZHB0]      1\n",
              "18  A2M4YSOJZELJ6N                                      [B01H6W0UH2]      1\n",
              "19  A2XFJ8CTY7VDNN                                      [B0067F28ZW]      1\n",
              "20  A2XY3CJ3ZCAD03                                      [B00015XAQA]      1\n",
              "21  A3BE6JK97CYAGA                                      [B00005JS5C]      1\n",
              "22  A3BT1WLPENXMD6                          [B0013NB7DW, B019809F9Y]      2\n",
              "23  A3DXW3542E4QUC                                      [B000V5PC70]      1\n",
              "24  A3GRQ9WMP4OXFE                                      [B00D7C9YQ4]      1\n",
              "25  A3H8Z7JS7XJHJJ                          [B00R8J13W0, B015TAM2LK]      2\n",
              "26  A3JEQJCEMX20GI                          [B007Z5RTRK, B01BUNDOIA]      2\n",
              "27   A4IQXCCXDEAKW                          [B001860E92, B013L9TX22]      2\n",
              "28   A7JUHUYLXIUVQ                                      [B00BOJKTM0]      1\n",
              "29   A7Y4ETTLARUGI                                      [B00IUOH3KS]      1\n",
              "30   ACE1ZIOI3U6PY              [B00JY0PHJQ, B007NIR2C6, B00PZBBVZM]      3\n",
              "31   AGRZQOBCF8H87                                      [B00OPTR5GE]      1\n",
              "32   AITF34BGBMVJJ                                      [B01GLA54SA]      1\n",
              "33   AK7YIZE6ZZ1N9                                      [B00M2J4HXI]      1\n",
              "34   ANR73TPVBCQ9K                                      [B010USX5S0]      1\n",
              "35   AQYL4TDY2HU8Z                                      [B003B6QR5M]      1\n",
              "36   ASGIVOW34XNQS              [B0006O10P4, B000FQVJXQ, B01EGT3NNG]      3\n",
              "37   ATJRZUXNWAWIK                                      [B01DKQAXC0]      1"
            ]
          },
          "execution_count": 196,
          "metadata": {},
          "output_type": "execute_result"
        }
      ],
      "source": [
        "users_38_df"
      ],
      "id": "H81bz1-rEEAZ"
    },
    {
      "cell_type": "code",
      "execution_count": null,
      "metadata": {
        "id": "Mmhaq5TOEEAa",
        "outputId": "89ce95ea-07cf-4ac9-80b1-0e3e4e732f24"
      },
      "outputs": [
        {
          "name": "stdout",
          "output_type": "stream",
          "text": [
            "Secondly, 38 users have purchased, however 92.1% users purchased less than 3 times\n"
          ]
        }
      ],
      "source": [
        "print(f\"Secondly, {len(users_38_user)} users have purchased, however 92.1% users purchased less than 3 times\")"
      ],
      "id": "Mmhaq5TOEEAa"
    },
    {
      "cell_type": "code",
      "execution_count": null,
      "metadata": {
        "id": "DGT4eviWEEAb",
        "outputId": "3ffa21ab-b0fc-4803-8778-11c4bdc856c0"
      },
      "outputs": [
        {
          "data": {
            "image/png": "[encoded data removed]",
            "text/plain": [
              "<Figure size 432x288 with 1 Axes>"
            ]
          },
          "metadata": {},
          "output_type": "display_data"
        }
      ],
      "source": [
        "colors = sns.color_palette(\"BuGn\")[:5]\n",
        "ax = users_38_df['count'].value_counts().plot(kind='pie',autopct='%.1f%%',\n",
        "       wedgeprops={'linewidth': 3.0, 'edgecolor': 'white'}, colors=colors)\n",
        "ax.set_title('The distribution of 38 users past purchase history', fontsize=12)\n",
        "plt.tight_layout()"
      ],
      "id": "DGT4eviWEEAb"
    },
    {
      "cell_type": "code",
      "execution_count": null,
      "metadata": {
        "id": "hyGmKoRaEEAb",
        "outputId": "d460ca3e-b194-4691-bbac-912ecd6bc15d"
      },
      "outputs": [
        {
          "name": "stdout",
          "output_type": "stream",
          "text": [
            "Therefore, only 3 users have recommendations, but score is 0.0, which doesn't perform well.\n"
          ]
        }
      ],
      "source": [
        "print(f\"Therefore, only {len(users_38_df[users_38_df['count']>2]['reviewerID'])} users have recommendations, but score is {score}, which doesn't perform well.\")\n"
      ],
      "id": "hyGmKoRaEEAb"
    },
    {
      "cell_type": "markdown",
      "metadata": {
        "id": "HCfeGg0-EEAb"
      },
      "source": [
        "## Conclusion"
      ],
      "id": "HCfeGg0-EEAb"
    },
    {
      "cell_type": "markdown",
      "metadata": {
        "id": "bL_q2X7KEEAb"
      },
      "source": [
        "* User-based推薦準度為0%\n",
        "* 多數使用者購買次數主要落在3次以下，導致過濾排除購買次數小於3項的使用者時，多數使用者會被排除掉，同時也導致有成功被推薦的使用者，其產品推薦難達到10個商品推薦數，造成使用user-based無法有較佳成效\n"
      ],
      "id": "bL_q2X7KEEAb"
    }
  ],
  "metadata": {
    "colab": {
      "name": "week3_1_cf_used_based.ipynb",
      "provenance": [],
      "include_colab_link": true
    },
    "kernelspec": {
      "display_name": "Python 3",
      "language": "python",
      "name": "python3"
    },
    "language_info": {
      "codemirror_mode": {
        "name": "ipython",
        "version": 3
      },
      "file_extension": ".py",
      "mimetype": "text/x-python",
      "name": "python",
      "nbconvert_exporter": "python",
      "pygments_lexer": "ipython3",
      "version": "3.8.5"
    }
  },
  "nbformat": 4,
  "nbformat_minor": 5
}
