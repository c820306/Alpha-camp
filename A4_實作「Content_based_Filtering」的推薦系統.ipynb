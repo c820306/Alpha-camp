{
  "cells": [
    {
      "cell_type": "markdown",
      "metadata": {
        "id": "view-in-github",
        "colab_type": "text"
      },
      "source": [
        "<a href=\"https://colab.research.google.com/github/c820306/Alpha_camp_recommentation/blob/main/A4_%E5%AF%A6%E4%BD%9C%E3%80%8CContent_based_Filtering%E3%80%8D%E7%9A%84%E6%8E%A8%E8%96%A6%E7%B3%BB%E7%B5%B1.ipynb\" target=\"_parent\"><img src=\"https://colab.research.google.com/assets/colab-badge.svg\" alt=\"Open In Colab\"/></a>"
      ]
    },
    {
      "cell_type": "markdown",
      "metadata": {
        "id": "yDpu0kCu3wRX"
      },
      "source": [
        "## 1.匯入資料"
      ]
    },
    {
      "cell_type": "code",
      "execution_count": null,
      "metadata": {
        "id": "9sFnLOVW3wRZ"
      },
      "outputs": [],
      "source": [
        "import re\n",
        "import numpy as np\n",
        "import matplotlib.pyplot as plt\n",
        "import seaborn as sns\n",
        "sns.set_theme(style=\"darkgrid\")"
      ]
    },
    {
      "cell_type": "code",
      "execution_count": null,
      "metadata": {
        "id": "fi1SenBw3wRb"
      },
      "outputs": [],
      "source": [
        "import pandas as pd\n",
        "import gzip, json\n",
        "def parse(path):\n",
        "    g = gzip.open(path, 'rb')\n",
        "    for l in g:\n",
        "        yield json.loads(l)\n",
        "def getDF(path):\n",
        "    i = 0\n",
        "    df = {}\n",
        "    for d in parse(path):\n",
        "        df[i] = d\n",
        "        i += 1\n",
        "    return pd.DataFrame.from_dict(df, orient='index')"
      ]
    },
    {
      "cell_type": "markdown",
      "metadata": {
        "id": "KyAHlXSm3wRc"
      },
      "source": [
        "## 2.載入資料"
      ]
    },
    {
      "cell_type": "code",
      "execution_count": null,
      "metadata": {
        "id": "zI4BSUri3wRd"
      },
      "outputs": [],
      "source": [
        "!wget http://deepyeti.ucsd.edu/jianmo/amazon/categoryFilesSmall/All_Beauty.csv\n",
        "!wget http://deepyeti.ucsd.edu/jianmo/amazon/metaFiles2/meta_All_Beauty.json.gz"
      ]
    },
    {
      "cell_type": "code",
      "execution_count": null,
      "metadata": {
        "id": "-z7eYoB03wRe"
      },
      "outputs": [],
      "source": [
        "metadata = getDF('/content/meta_All_Beauty.json.gz')\n",
        "ratings = pd.read_csv('/content/All_Beauty.csv', names=['asin', 'reviewerID', 'overall', 'unixReviewTime'], header=None)"
      ]
    },
    {
      "cell_type": "code",
      "execution_count": null,
      "metadata": {
        "id": "jXtanekw3wRf"
      },
      "outputs": [],
      "source": [
        "metadata = getDF('./meta_All_Beauty.json.gz')\n",
        "ratings = pd.read_csv('./All_Beauty.csv', names=['asin', 'reviewerID', 'overall', 'unixReviewTime'], header=None)"
      ]
    },
    {
      "cell_type": "code",
      "execution_count": null,
      "metadata": {
        "id": "uEx8wwOu3wRf",
        "outputId": "8011a161-80fe-4595-94db-b50cc5ba2067"
      },
      "outputs": [
        {
          "data": {
            "text/html": [
              "<div>\n",
              "<style scoped>\n",
              "    .dataframe tbody tr th:only-of-type {\n",
              "        vertical-align: middle;\n",
              "    }\n",
              "\n",
              "    .dataframe tbody tr th {\n",
              "        vertical-align: top;\n",
              "    }\n",
              "\n",
              "    .dataframe thead th {\n",
              "        text-align: right;\n",
              "    }\n",
              "</style>\n",
              "<table border=\"1\" class=\"dataframe\">\n",
              "  <thead>\n",
              "    <tr style=\"text-align: right;\">\n",
              "      <th></th>\n",
              "      <th>asin</th>\n",
              "      <th>reviewerID</th>\n",
              "      <th>overall</th>\n",
              "      <th>unixReviewTime</th>\n",
              "    </tr>\n",
              "  </thead>\n",
              "  <tbody>\n",
              "    <tr>\n",
              "      <th>0</th>\n",
              "      <td>0143026860</td>\n",
              "      <td>A1V6B6TNIC10QE</td>\n",
              "      <td>1.0</td>\n",
              "      <td>1424304000</td>\n",
              "    </tr>\n",
              "    <tr>\n",
              "      <th>1</th>\n",
              "      <td>0143026860</td>\n",
              "      <td>A2F5GHSXFQ0W6J</td>\n",
              "      <td>4.0</td>\n",
              "      <td>1418860800</td>\n",
              "    </tr>\n",
              "    <tr>\n",
              "      <th>2</th>\n",
              "      <td>0143026860</td>\n",
              "      <td>A1572GUYS7DGSR</td>\n",
              "      <td>4.0</td>\n",
              "      <td>1407628800</td>\n",
              "    </tr>\n",
              "  </tbody>\n",
              "</table>\n",
              "</div>"
            ],
            "text/plain": [
              "         asin      reviewerID  overall  unixReviewTime\n",
              "0  0143026860  A1V6B6TNIC10QE      1.0      1424304000\n",
              "1  0143026860  A2F5GHSXFQ0W6J      4.0      1418860800\n",
              "2  0143026860  A1572GUYS7DGSR      4.0      1407628800"
            ]
          },
          "execution_count": 5,
          "metadata": {},
          "output_type": "execute_result"
        }
      ],
      "source": [
        "ratings.head(3)"
      ]
    },
    {
      "cell_type": "code",
      "execution_count": null,
      "metadata": {
        "scrolled": true,
        "id": "rE5I_2nB3wRh",
        "outputId": "e7443637-c3b1-4c84-df59-91383fb37f51"
      },
      "outputs": [
        {
          "data": {
            "text/html": [
              "<div>\n",
              "<style scoped>\n",
              "    .dataframe tbody tr th:only-of-type {\n",
              "        vertical-align: middle;\n",
              "    }\n",
              "\n",
              "    .dataframe tbody tr th {\n",
              "        vertical-align: top;\n",
              "    }\n",
              "\n",
              "    .dataframe thead th {\n",
              "        text-align: right;\n",
              "    }\n",
              "</style>\n",
              "<table border=\"1\" class=\"dataframe\">\n",
              "  <thead>\n",
              "    <tr style=\"text-align: right;\">\n",
              "      <th></th>\n",
              "      <th>category</th>\n",
              "      <th>tech1</th>\n",
              "      <th>description</th>\n",
              "      <th>fit</th>\n",
              "      <th>title</th>\n",
              "      <th>also_buy</th>\n",
              "      <th>tech2</th>\n",
              "      <th>brand</th>\n",
              "      <th>feature</th>\n",
              "      <th>rank</th>\n",
              "      <th>also_view</th>\n",
              "      <th>details</th>\n",
              "      <th>main_cat</th>\n",
              "      <th>similar_item</th>\n",
              "      <th>date</th>\n",
              "      <th>price</th>\n",
              "      <th>asin</th>\n",
              "      <th>imageURL</th>\n",
              "      <th>imageURLHighRes</th>\n",
              "    </tr>\n",
              "  </thead>\n",
              "  <tbody>\n",
              "    <tr>\n",
              "      <th>0</th>\n",
              "      <td>[]</td>\n",
              "      <td></td>\n",
              "      <td>[Loud 'N Clear Personal Sound Amplifier allows...</td>\n",
              "      <td></td>\n",
              "      <td>Loud 'N Clear&amp;trade; Personal Sound Amplifier</td>\n",
              "      <td>[]</td>\n",
              "      <td></td>\n",
              "      <td>idea village</td>\n",
              "      <td>[]</td>\n",
              "      <td>2,938,573 in Beauty &amp; Personal Care (</td>\n",
              "      <td>[]</td>\n",
              "      <td>{'ASIN: ': '6546546450'}</td>\n",
              "      <td>All Beauty</td>\n",
              "      <td></td>\n",
              "      <td></td>\n",
              "      <td></td>\n",
              "      <td>6546546450</td>\n",
              "      <td>[]</td>\n",
              "      <td>[]</td>\n",
              "    </tr>\n",
              "    <tr>\n",
              "      <th>1</th>\n",
              "      <td>[]</td>\n",
              "      <td></td>\n",
              "      <td>[No7 Lift &amp; Luminate Triple Action Serum 50ml ...</td>\n",
              "      <td></td>\n",
              "      <td>No7 Lift &amp;amp; Luminate Triple Action Serum 50...</td>\n",
              "      <td>[B01E7LCSL6, B008X5RVME]</td>\n",
              "      <td></td>\n",
              "      <td></td>\n",
              "      <td>[]</td>\n",
              "      <td>872,854 in Beauty &amp; Personal Care (</td>\n",
              "      <td>[]</td>\n",
              "      <td>{'Shipping Weight:': '0.3 ounces (', 'ASIN: ':...</td>\n",
              "      <td>All Beauty</td>\n",
              "      <td>class=\"a-bordered a-horizontal-stripes  a-spa...</td>\n",
              "      <td></td>\n",
              "      <td>$44.99</td>\n",
              "      <td>7178680776</td>\n",
              "      <td>[]</td>\n",
              "      <td>[]</td>\n",
              "    </tr>\n",
              "    <tr>\n",
              "      <th>2</th>\n",
              "      <td>[]</td>\n",
              "      <td></td>\n",
              "      <td>[No7 Stay Perfect Foundation now stays perfect...</td>\n",
              "      <td></td>\n",
              "      <td>No7 Stay Perfect Foundation Cool Vanilla by No7</td>\n",
              "      <td>[]</td>\n",
              "      <td></td>\n",
              "      <td>No7</td>\n",
              "      <td>[]</td>\n",
              "      <td>956,696 in Beauty &amp; Personal Care (</td>\n",
              "      <td>[B01B8BR0O8, B01B8BR0NO, B014MHXXM8]</td>\n",
              "      <td>{'Shipping Weight:': '3.5 ounces (', 'ASIN: ':...</td>\n",
              "      <td>All Beauty</td>\n",
              "      <td></td>\n",
              "      <td></td>\n",
              "      <td>$28.76</td>\n",
              "      <td>7250468162</td>\n",
              "      <td>[]</td>\n",
              "      <td>[]</td>\n",
              "    </tr>\n",
              "  </tbody>\n",
              "</table>\n",
              "</div>"
            ],
            "text/plain": [
              "  category tech1                                        description fit  \\\n",
              "0       []        [Loud 'N Clear Personal Sound Amplifier allows...       \n",
              "1       []        [No7 Lift & Luminate Triple Action Serum 50ml ...       \n",
              "2       []        [No7 Stay Perfect Foundation now stays perfect...       \n",
              "\n",
              "                                               title  \\\n",
              "0      Loud 'N Clear&trade; Personal Sound Amplifier   \n",
              "1  No7 Lift &amp; Luminate Triple Action Serum 50...   \n",
              "2    No7 Stay Perfect Foundation Cool Vanilla by No7   \n",
              "\n",
              "                   also_buy tech2         brand feature  \\\n",
              "0                        []        idea village      []   \n",
              "1  [B01E7LCSL6, B008X5RVME]                          []   \n",
              "2                        []                 No7      []   \n",
              "\n",
              "                                    rank  \\\n",
              "0  2,938,573 in Beauty & Personal Care (   \n",
              "1    872,854 in Beauty & Personal Care (   \n",
              "2    956,696 in Beauty & Personal Care (   \n",
              "\n",
              "                              also_view  \\\n",
              "0                                    []   \n",
              "1                                    []   \n",
              "2  [B01B8BR0O8, B01B8BR0NO, B014MHXXM8]   \n",
              "\n",
              "                                             details    main_cat  \\\n",
              "0                           {'ASIN: ': '6546546450'}  All Beauty   \n",
              "1  {'Shipping Weight:': '0.3 ounces (', 'ASIN: ':...  All Beauty   \n",
              "2  {'Shipping Weight:': '3.5 ounces (', 'ASIN: ':...  All Beauty   \n",
              "\n",
              "                                        similar_item date   price        asin  \\\n",
              "0                                                                  6546546450   \n",
              "1   class=\"a-bordered a-horizontal-stripes  a-spa...       $44.99  7178680776   \n",
              "2                                                          $28.76  7250468162   \n",
              "\n",
              "  imageURL imageURLHighRes  \n",
              "0       []              []  \n",
              "1       []              []  \n",
              "2       []              []  "
            ]
          },
          "execution_count": 6,
          "metadata": {},
          "output_type": "execute_result"
        }
      ],
      "source": [
        "metadata.head(3)"
      ]
    },
    {
      "cell_type": "code",
      "execution_count": null,
      "metadata": {
        "id": "gDkFlizo3wRi",
        "outputId": "42d846d5-e6b4-4085-fc32-f875707073a5"
      },
      "outputs": [
        {
          "name": "stdout",
          "output_type": "stream",
          "text": [
            "(32892, 19)\n",
            "(371345, 4)\n"
          ]
        }
      ],
      "source": [
        "print(metadata.shape)\n",
        "print(ratings.shape)"
      ]
    },
    {
      "cell_type": "markdown",
      "metadata": {
        "id": "7cBBSF0b3wRj"
      },
      "source": [
        " ## 3.資料清洗與EDA"
      ]
    },
    {
      "cell_type": "code",
      "execution_count": null,
      "metadata": {
        "id": "6nCVRNqt3wRj"
      },
      "outputs": [],
      "source": [
        "##去除重複資料\n",
        "metadata = metadata.loc[metadata.astype(str).drop_duplicates().index]"
      ]
    },
    {
      "cell_type": "code",
      "execution_count": null,
      "metadata": {
        "scrolled": true,
        "id": "bYUvt-Do3wRk"
      },
      "outputs": [],
      "source": [
        "metadata_clean = metadata.drop(['category','tech1','fit','tech2','imageURL','imageURLHighRes','main_cat'],axis=1)"
      ]
    },
    {
      "cell_type": "code",
      "execution_count": null,
      "metadata": {
        "id": "wgSBOYTd3wRk",
        "outputId": "2fa9b6df-2e13-48ac-e909-c196bcb1e988"
      },
      "outputs": [
        {
          "data": {
            "text/plain": [
              "(32488, 12)"
            ]
          },
          "execution_count": 10,
          "metadata": {},
          "output_type": "execute_result"
        }
      ],
      "source": [
        "metadata_clean.shape"
      ]
    },
    {
      "cell_type": "code",
      "execution_count": null,
      "metadata": {
        "id": "E29jcDnh3wRk"
      },
      "outputs": [],
      "source": [
        "metadata_clean['ranking'] = metadata_clean['rank'].str.split(expand=True)[0]\n",
        "metadata_clean['ranking'] = pd.to_numeric(metadata_clean['ranking'].str.replace(',',''))\n",
        "# metadata_clean.loc[metadata_clean['ranking'].isnull().index, ['ranking']] = np.nan"
      ]
    },
    {
      "cell_type": "code",
      "execution_count": null,
      "metadata": {
        "scrolled": true,
        "id": "mYT7mI243wRl"
      },
      "outputs": [],
      "source": [
        "metadata_clean['sub_catagory'] = metadata_clean['rank'].str.split('in').str[1]\n",
        "metadata_clean['sub_catagory'] = metadata_clean['sub_catagory'].str.replace(r'(','', regex=True)\n",
        "metadata_clean['sub_catagory'] = metadata_clean['sub_catagory'].str.replace(r'&.*;','', regex=True)\n",
        "metadata_clean['sub_catagory'] = metadata_clean['sub_catagory'].str.replace(r'&','', regex=True)"
      ]
    },
    {
      "cell_type": "code",
      "execution_count": null,
      "metadata": {
        "id": "4_RHbjKM3wRl",
        "outputId": "ee274ccb-ab03-4689-b902-a005ca16bd5d"
      },
      "outputs": [
        {
          "data": {
            "text/plain": [
              " Beauty  Personal Care       32015\n",
              " Grocery  Gourmet Food          37\n",
              " Health  Household              21\n",
              " Toys  Games                     3\n",
              " Sports  Outdoors                3\n",
              " Baby                            2\n",
              " Cloth                           2\n",
              " Tools  Home Improvement         1\n",
              " Automotive                      1\n",
              " Home  Kitchen                   1\n",
              "Name: sub_catagory, dtype: int64"
            ]
          },
          "execution_count": 13,
          "metadata": {},
          "output_type": "execute_result"
        }
      ],
      "source": [
        "# 檢視各子分類數量\n",
        "metadata_clean['sub_catagory'].value_counts()"
      ]
    },
    {
      "cell_type": "code",
      "execution_count": null,
      "metadata": {
        "id": "LY8Aqh7A3wRm"
      },
      "outputs": [],
      "source": [
        "# 僅Beauty  Personal Care數量最多，只保留 Beauty Personal Care \n",
        "metadata_clean = metadata_clean[metadata_clean['sub_catagory'] ==' Beauty  Personal Care ']\n",
        "metadata_clean.reset_index(inplace=True, drop=True)"
      ]
    },
    {
      "cell_type": "code",
      "execution_count": null,
      "metadata": {
        "id": "ItK-W3F23wRm"
      },
      "outputs": [],
      "source": [
        "# 清洗 metadata_clean['price']\n",
        "metadata_clean['price_n'] = metadata_clean['price'].str.split('$', expand=True)[1]\n",
        "metadata_clean['price_n'] = metadata_clean['price_n'].str.replace(',','')\n",
        "metadata_clean['price_n'] = metadata_clean['price_n'].astype(float)"
      ]
    },
    {
      "cell_type": "code",
      "execution_count": null,
      "metadata": {
        "id": "Sr0hzOs23wRm",
        "outputId": "9af71eac-ee1f-47a5-80e9-8c269dd653b8"
      },
      "outputs": [
        {
          "data": {
            "text/plain": [
              "<seaborn.axisgrid.FacetGrid at 0x7ff299a72880>"
            ]
          },
          "execution_count": 16,
          "metadata": {},
          "output_type": "execute_result"
        },
        {
          "data": {
            "image/png": "[encoded data removed]",
            "text/plain": [
              "<Figure size 360x360 with 1 Axes>"
            ]
          },
          "metadata": {},
          "output_type": "display_data"
        }
      ],
      "source": [
        "# check the distribution of price, \n",
        "sns.displot(\n",
        "    metadata_clean[metadata_clean['price_n']<100]['price_n'], bins = 3)"
      ]
    },
    {
      "cell_type": "code",
      "execution_count": null,
      "metadata": {
        "id": "i7FybnN33wRn"
      },
      "outputs": [],
      "source": [
        "# 將價格分類作為特徵值\n",
        "def price_catagory(x):\n",
        "    if np.isnan(x):\n",
        "        return 'No_price'\n",
        "    elif x <= 20:\n",
        "        return 'Low'\n",
        "    elif x > 20 and x <=40:\n",
        "        return 'Middle'\n",
        "    else:\n",
        "        return 'High'\n",
        "metadata_clean['price_catagory'] = metadata_clean['price_n'].apply(price_catagory)"
      ]
    },
    {
      "cell_type": "code",
      "execution_count": null,
      "metadata": {
        "scrolled": true,
        "id": "EFXcsMCB3wRn",
        "outputId": "e0daa6fe-cb3e-4fcb-dde2-34c2cefc0267"
      },
      "outputs": [
        {
          "data": {
            "text/plain": [
              "<AxesSubplot:>"
            ]
          },
          "execution_count": 18,
          "metadata": {},
          "output_type": "execute_result"
        },
        {
          "data": {
            "image/png": "[encoded data removed]",
            "text/plain": [
              "<Figure size 720x864 with 1 Axes>"
            ]
          },
          "metadata": {},
          "output_type": "display_data"
        }
      ],
      "source": [
        "# 檢視各品牌資料量\n",
        "metadata_clean['brand'].value_counts(ascending=True).iloc[-40:-1].to_frame().plot(kind='barh',figsize=(10,12))"
      ]
    },
    {
      "cell_type": "code",
      "execution_count": null,
      "metadata": {
        "scrolled": true,
        "id": "5YL2cAGh3wRn",
        "outputId": "373b4a10-03dd-44d5-86c1-7d37ba54bfd9"
      },
      "outputs": [
        {
          "name": "stdout",
          "output_type": "stream",
          "text": [
            "number of empty brand:  15388\n"
          ]
        }
      ],
      "source": [
        "# 檢查brand空值\n",
        "print(\"number of empty brand: \", len(metadata_clean[metadata_clean['brand']== '']))\n",
        "# brand空值補值\n",
        "metadata_clean.loc[metadata_clean[metadata_clean['brand']== ''].index, 'brand'] = 'no_brand'"
      ]
    },
    {
      "cell_type": "code",
      "execution_count": null,
      "metadata": {
        "id": "miElYIvw3wRo"
      },
      "outputs": [],
      "source": [
        "from sklearn.preprocessing import LabelEncoder\n",
        "labelencoder = LabelEncoder()\n",
        "metadata_clean['brand_n'] = labelencoder.fit_transform(metadata_clean['brand'])"
      ]
    },
    {
      "cell_type": "code",
      "execution_count": null,
      "metadata": {
        "id": "PAUosncY3wRo"
      },
      "outputs": [],
      "source": [
        "ratings['DATE'] = pd.to_datetime(ratings['unixReviewTime'], unit='s')"
      ]
    },
    {
      "cell_type": "code",
      "execution_count": null,
      "metadata": {
        "id": "UbDL5oy23wRp",
        "outputId": "8cbaffa3-bbfc-4109-c3a7-d69f8e0bee2f"
      },
      "outputs": [
        {
          "name": "stdout",
          "output_type": "stream",
          "text": [
            "date range of rating:  2000-01-10 00:00:00 2018-10-02 00:00:00\n"
          ]
        }
      ],
      "source": [
        "print(\"date range of rating: \", ratings['DATE'].min(),ratings['DATE'].max())"
      ]
    },
    {
      "cell_type": "code",
      "execution_count": null,
      "metadata": {
        "id": "URMdwTho3wRp"
      },
      "outputs": [],
      "source": [
        "ratings['YYYYMM'] = ratings['DATE'].apply(lambda x : x.strftime(\"%Y-%m\"))"
      ]
    },
    {
      "cell_type": "code",
      "execution_count": null,
      "metadata": {
        "id": "GFiOT_J53wRq",
        "outputId": "97fde79c-6d6f-4bed-ccce-f783e3909125"
      },
      "outputs": [
        {
          "data": {
            "text/plain": [
              "<AxesSubplot:xlabel='YYYYMM'>"
            ]
          },
          "execution_count": 24,
          "metadata": {},
          "output_type": "execute_result"
        },
        {
          "data": {
            "image/png": "[encoded data removed]",
            "text/plain": [
              "<Figure size 432x288 with 1 Axes>"
            ]
          },
          "metadata": {},
          "output_type": "display_data"
        }
      ],
      "source": [
        "## 每月銷售量有減少跡象\n",
        "ratings.groupby(['YYYYMM']).agg(count =('asin','count')).plot()"
      ]
    },
    {
      "cell_type": "code",
      "execution_count": null,
      "metadata": {
        "id": "c_He5Giu3wRq",
        "outputId": "bce73bf5-de04-4276-9442-4b818f1498d3"
      },
      "outputs": [
        {
          "data": {
            "text/html": [
              "<div>\n",
              "<style scoped>\n",
              "    .dataframe tbody tr th:only-of-type {\n",
              "        vertical-align: middle;\n",
              "    }\n",
              "\n",
              "    .dataframe tbody tr th {\n",
              "        vertical-align: top;\n",
              "    }\n",
              "\n",
              "    .dataframe thead th {\n",
              "        text-align: right;\n",
              "    }\n",
              "</style>\n",
              "<table border=\"1\" class=\"dataframe\">\n",
              "  <thead>\n",
              "    <tr style=\"text-align: right;\">\n",
              "      <th>YYYYMM</th>\n",
              "      <th>2000-01</th>\n",
              "      <th>2000-05</th>\n",
              "      <th>2000-06</th>\n",
              "      <th>2000-10</th>\n",
              "      <th>2000-11</th>\n",
              "      <th>2000-12</th>\n",
              "      <th>2001-01</th>\n",
              "      <th>2001-02</th>\n",
              "      <th>2001-03</th>\n",
              "      <th>2001-04</th>\n",
              "      <th>...</th>\n",
              "      <th>2018-01</th>\n",
              "      <th>2018-02</th>\n",
              "      <th>2018-03</th>\n",
              "      <th>2018-04</th>\n",
              "      <th>2018-05</th>\n",
              "      <th>2018-06</th>\n",
              "      <th>2018-07</th>\n",
              "      <th>2018-08</th>\n",
              "      <th>2018-09</th>\n",
              "      <th>2018-10</th>\n",
              "    </tr>\n",
              "  </thead>\n",
              "  <tbody>\n",
              "    <tr>\n",
              "      <th>count</th>\n",
              "      <td>1</td>\n",
              "      <td>1</td>\n",
              "      <td>1</td>\n",
              "      <td>1</td>\n",
              "      <td>4</td>\n",
              "      <td>5</td>\n",
              "      <td>3</td>\n",
              "      <td>4</td>\n",
              "      <td>4</td>\n",
              "      <td>4</td>\n",
              "      <td>...</td>\n",
              "      <td>4870</td>\n",
              "      <td>4470</td>\n",
              "      <td>4966</td>\n",
              "      <td>4644</td>\n",
              "      <td>3807</td>\n",
              "      <td>2978</td>\n",
              "      <td>2387</td>\n",
              "      <td>1662</td>\n",
              "      <td>590</td>\n",
              "      <td>3</td>\n",
              "    </tr>\n",
              "  </tbody>\n",
              "</table>\n",
              "<p>1 rows × 220 columns</p>\n",
              "</div>"
            ],
            "text/plain": [
              "YYYYMM  2000-01  2000-05  2000-06  2000-10  2000-11  2000-12  2001-01  \\\n",
              "count         1        1        1        1        4        5        3   \n",
              "\n",
              "YYYYMM  2001-02  2001-03  2001-04  ...  2018-01  2018-02  2018-03  2018-04  \\\n",
              "count         4        4        4  ...     4870     4470     4966     4644   \n",
              "\n",
              "YYYYMM  2018-05  2018-06  2018-07  2018-08  2018-09  2018-10  \n",
              "count      3807     2978     2387     1662      590        3  \n",
              "\n",
              "[1 rows x 220 columns]"
            ]
          },
          "execution_count": 25,
          "metadata": {},
          "output_type": "execute_result"
        }
      ],
      "source": [
        "ratings.groupby(['YYYYMM']).agg(count =('asin','count')).T"
      ]
    },
    {
      "cell_type": "markdown",
      "metadata": {
        "id": "NZxjUO8z3wRr"
      },
      "source": [
        "## TF/IDF處理"
      ]
    },
    {
      "cell_type": "code",
      "execution_count": null,
      "metadata": {
        "id": "a6J0uGjZ3wRr",
        "outputId": "977c52cb-6511-44ce-8add-df13abf31b09"
      },
      "outputs": [
        {
          "name": "stderr",
          "output_type": "stream",
          "text": [
            "[nltk_data] Downloading package punkt to /Users/c820306/nltk_data...\n",
            "[nltk_data]   Package punkt is already up-to-date!\n"
          ]
        }
      ],
      "source": [
        "import nltk\n",
        "from nltk.corpus import stopwords\n",
        "from sklearn.feature_extraction.text import TfidfVectorizer\n",
        "# nltk.download(\"stopwords\")\n",
        "nltk.download('punkt')\n",
        "stopword = stopwords.words('english')"
      ]
    },
    {
      "cell_type": "code",
      "execution_count": null,
      "metadata": {
        "scrolled": true,
        "id": "N0Oy3edB3wRr",
        "outputId": "926750e3-10a2-4496-c68d-499d3d28588e"
      },
      "outputs": [
        {
          "name": "stdout",
          "output_type": "stream",
          "text": [
            "the number of stopword:  179\n",
            "['i', 'me', 'my', 'myself', 'we', 'our', 'ours', 'ourselves', 'you', \"you're\"]\n"
          ]
        }
      ],
      "source": [
        "print(\"the number of stopword: \",len(stopword))\n",
        "print(stopword[:10])"
      ]
    },
    {
      "cell_type": "code",
      "execution_count": null,
      "metadata": {
        "id": "2LXJFygB3wRs"
      },
      "outputs": [],
      "source": [
        "# 合併 title / description/ brand/ price 當作特徵值\n",
        "def txt_clean(x):\n",
        "    words = f'{x[\"title\"]}, {\" \".join(x[\"description\"])}, {\"\".join(str(x[\"brand\"]))}, {\"\".join(x[\"price_catagory\"])}'\n",
        "    words = words.lower()\n",
        "    tokens = nltk.word_tokenize(words)  # --> return list\n",
        "#     print(\"tokens\", tokens)\n",
        "    word_filter = [token for token in tokens if token not in stopword]\n",
        "    #排除重複文字\n",
        "    word_filter = list(set(word_filter))\n",
        "    word_filter = \" \".join(word_filter)\n",
        "    return word_filter"
      ]
    },
    {
      "cell_type": "code",
      "execution_count": null,
      "metadata": {
        "scrolled": true,
        "id": "GruyG_N83wRs"
      },
      "outputs": [],
      "source": [
        "metadata_clean['title_description'] = metadata_clean.apply(txt_clean, axis =1)"
      ]
    },
    {
      "cell_type": "code",
      "execution_count": null,
      "metadata": {
        "scrolled": true,
        "id": "JF1_H_xw3wRs"
      },
      "outputs": [],
      "source": [
        "# 計算商品用標題所表示的 tfidf 矩陣\n",
        "vectorizer = TfidfVectorizer(min_df = 100) ## min_df = 100 限制字頻>100\n",
        "tfidf_matrix = vectorizer.fit_transform(metadata_clean['title_description'])"
      ]
    },
    {
      "cell_type": "code",
      "execution_count": null,
      "metadata": {
        "id": "Hr7D1i-m3wRt",
        "outputId": "3f481f39-6bea-4ae0-a820-50d7eb8480eb"
      },
      "outputs": [
        {
          "data": {
            "text/plain": [
              "(32015, 1503)"
            ]
          },
          "execution_count": 31,
          "metadata": {},
          "output_type": "execute_result"
        }
      ],
      "source": [
        "tfidf_matrix.shape"
      ]
    },
    {
      "cell_type": "markdown",
      "metadata": {
        "id": "nOO7Gve63wRt"
      },
      "source": [
        "## 4.切割資料"
      ]
    },
    {
      "cell_type": "code",
      "execution_count": null,
      "metadata": {
        "id": "g4EDgFHb3wRt",
        "outputId": "12666bad-3787-478b-9feb-eee4500bd3c3"
      },
      "outputs": [
        {
          "name": "stdout",
          "output_type": "stream",
          "text": [
            "ratings_trainings1: (370752, 6)\n",
            "ratings_testings: (590, 6)\n"
          ]
        }
      ],
      "source": [
        "ratings_trainings = ratings[(ratings['DATE'] < '2018-09-01')]\n",
        "ratings_testings = ratings[(ratings['DATE'] >= '2018-09-01') &  (ratings['DATE'] <= '2018-09-30')]\n",
        "\n",
        "print(\"ratings_trainings1:\", ratings_trainings.shape)\n",
        "print(\"ratings_testings:\", ratings_testings.shape)"
      ]
    },
    {
      "cell_type": "markdown",
      "metadata": {
        "id": "pyWvrWyP3wRt"
      },
      "source": [
        "## 5.計算相似度"
      ]
    },
    {
      "cell_type": "code",
      "execution_count": null,
      "metadata": {
        "scrolled": true,
        "id": "UeyB7ecM3wRt"
      },
      "outputs": [],
      "source": [
        "from sklearn.metrics.pairwise import cosine_similarity\n",
        "similarity_matrix = cosine_similarity(tfidf_matrix)"
      ]
    },
    {
      "cell_type": "markdown",
      "metadata": {
        "id": "gBTTfeea3wRu"
      },
      "source": [
        "## 6.推薦系統"
      ]
    },
    {
      "cell_type": "markdown",
      "metadata": {
        "id": "mdu6O1BF3wRu"
      },
      "source": [
        "### A. Content-based"
      ]
    },
    {
      "cell_type": "markdown",
      "metadata": {
        "id": "t720PbBS3wRu"
      },
      "source": [
        "使用Content_based分析，將各testing user過去產品推薦k個商品，比較recall"
      ]
    },
    {
      "cell_type": "code",
      "execution_count": null,
      "metadata": {
        "scrolled": true,
        "id": "g4fB5qkz3wRu"
      },
      "outputs": [],
      "source": [
        "asin2index_mapping = pd.Series(metadata_clean.index,index = metadata_clean['asin'])  # title -> index, metadata_clean.index -> column"
      ]
    },
    {
      "cell_type": "code",
      "execution_count": null,
      "metadata": {
        "scrolled": true,
        "id": "t0FlC7653wRu",
        "outputId": "96f32660-9b2d-41b7-c50c-deba9fabed12"
      },
      "outputs": [
        {
          "name": "stdout",
          "output_type": "stream",
          "text": [
            "【每個商品找最相似2個...】\n",
            "產出每個客戶推薦名單中...\n",
            "產出每個客戶推薦名單：已完成\n",
            "評估結果中...\n",
            "評估結果：已完成\n",
            "\n",
            "【每個商品找最相似5個...】\n",
            "產出每個客戶推薦名單中...\n",
            "產出每個客戶推薦名單：已完成\n",
            "評估結果中...\n",
            "評估結果：已完成\n",
            "\n",
            "【每個商品找最相似10個...】\n",
            "產出每個客戶推薦名單中...\n",
            "產出每個客戶推薦名單：已完成\n",
            "評估結果中...\n",
            "評估結果：已完成\n",
            "\n",
            "【每個商品找最相似15個...】\n",
            "產出每個客戶推薦名單中...\n",
            "產出每個客戶推薦名單：已完成\n",
            "評估結果中...\n",
            "評估結果：已完成\n",
            "\n",
            "【每個商品找最相似20個...】\n",
            "產出每個客戶推薦名單中...\n",
            "產出每個客戶推薦名單：已完成\n",
            "評估結果中...\n",
            "評估結果：已完成\n",
            "\n",
            "【每個商品找最相似25個...】\n",
            "產出每個客戶推薦名單中...\n",
            "產出每個客戶推薦名單：已完成\n",
            "評估結果中...\n",
            "評估結果：已完成\n",
            "\n",
            "【每個商品找最相似30個...】\n",
            "產出每個客戶推薦名單中...\n",
            "產出每個客戶推薦名單：已完成\n",
            "評估結果中...\n",
            "評估結果：已完成\n",
            "\n"
          ]
        }
      ],
      "source": [
        "# 產生資料\n",
        "def create_ratings_data():\n",
        "    \n",
        "    ratings_trainings = ratings[(ratings['DATE'] < '2018-09-01')]\n",
        "    ratings_testings = ratings[(ratings['DATE'] >= '2018-09-01') &  (ratings['DATE'] <= '2018-09-30')]\n",
        "    ratings_testings_by_user = ratings_testings.groupby('reviewerID').agg(list).reset_index()[['reviewerID', 'asin']].to_dict('records') #‘records’ : list like [{column -> value}, … , {column -> value}]\n",
        "    ratings_testings_by_user = { rating['reviewerID']: rating['asin'] for rating in ratings_testings_by_user }\n",
        "    testings_users = list(ratings_testings_by_user.keys())\n",
        "    \n",
        "    return ratings_trainings, ratings_testings, ratings_testings_by_user, testings_users\n",
        "\n",
        "\n",
        "# 推薦相似產品\n",
        "def recommend_similar_item(asin, k=2):\n",
        "    \n",
        "    try:\n",
        "        item_index = asin2index_mapping[asin]\n",
        "        # print(\"asin\", asin)\n",
        "        similarity_score = list(enumerate(similarity_matrix[item_index]))  \n",
        "        similarity_score = sorted(similarity_score, key=lambda x: x[1], reverse=True)\n",
        "        similarity_score = similarity_score[:k]\n",
        "        # print(\"similarity_score\", similarity_score)\n",
        "        item_indices = [i[0] for i in similarity_score]\n",
        "\n",
        "        return (metadata_clean['asin'].iloc[item_indices].tolist())\n",
        "        \n",
        "    except:\n",
        "        return []\n",
        "\n",
        "# 每個客戶的推薦產品清單\n",
        "def recommender(testings_users, ratings_trainings, k):\n",
        "    \n",
        "    recommend_dict_by_user = {}\n",
        "    for user in testings_users:\n",
        "        recommend_list_by_user = []\n",
        "        # 找出測試集客戶過去有買的產品有哪些，藉此依據過去消費商品特徵推薦產品\n",
        "        purchase_record_asin_list = metadata_clean[metadata_clean['asin'].isin(ratings_trainings[ratings_trainings['reviewerID']== user]['asin'].tolist())]['asin'].to_list()\n",
        "        for asin in purchase_record_asin_list:\n",
        "            recommend_list_by_user.extend(recommend_similar_item(asin, k))\n",
        "        # print(user, recommend_list_by_user)\n",
        "        recommend_dict_by_user[user] = recommend_list_by_user\n",
        "    \n",
        "    return recommend_dict_by_user\n",
        "\n",
        "\n",
        "def evaluate(ratings_testings_by_user={}, recommend_dict_by_user={}):\n",
        "\n",
        "    total = 0\n",
        "    for d in ratings_testings_by_user:\n",
        "        if d in recommend_dict_by_user:\n",
        "            total += len(set(recommend_dict_by_user[d]) & set(ratings_testings_by_user[d]))\n",
        "\n",
        "    score = total / len(ratings_testings)\n",
        "    \n",
        "    return score\n",
        "\n",
        "recommendation_nums = [2, 5, 10, 15, 20, 25, 30]\n",
        "\n",
        "score_result_dict = {}\n",
        "\n",
        "for k in recommendation_nums:\n",
        "    score_result = []\n",
        "    \n",
        "    print(f\"【每個商品找最相似{ k }個...】\")\n",
        "    ratings_trainings, ratings_testings, ratings_testings_by_user, testings_users = create_ratings_data()\n",
        "    \n",
        "    print(\"產出每個客戶推薦名單中...\")\n",
        "    recommend_dict_by_user = recommender(testings_users, ratings_trainings, k)\n",
        "    print(\"產出每個客戶推薦名單：已完成\")\n",
        "    \n",
        "    print(\"評估結果中...\")\n",
        "    score_result.append(evaluate(ratings_testings_by_user, recommend_dict_by_user))\n",
        "    print(f\"評估結果：已完成\\n\")\n",
        "    score_result_dict[k] = score_result\n",
        "\n",
        "score_result_df = pd.DataFrame(data = score_result_dict)\n"
      ]
    },
    {
      "cell_type": "code",
      "execution_count": null,
      "metadata": {
        "id": "22WJ1-vd3wRv",
        "outputId": "55cb31bc-c967-4d27-a537-4e7239fd94de"
      },
      "outputs": [
        {
          "data": {
            "text/html": [
              "<div>\n",
              "<style scoped>\n",
              "    .dataframe tbody tr th:only-of-type {\n",
              "        vertical-align: middle;\n",
              "    }\n",
              "\n",
              "    .dataframe tbody tr th {\n",
              "        vertical-align: top;\n",
              "    }\n",
              "\n",
              "    .dataframe thead th {\n",
              "        text-align: right;\n",
              "    }\n",
              "</style>\n",
              "<table border=\"1\" class=\"dataframe\">\n",
              "  <thead>\n",
              "    <tr style=\"text-align: right;\">\n",
              "      <th></th>\n",
              "      <th>2</th>\n",
              "      <th>5</th>\n",
              "      <th>10</th>\n",
              "      <th>15</th>\n",
              "      <th>20</th>\n",
              "      <th>25</th>\n",
              "      <th>30</th>\n",
              "    </tr>\n",
              "  </thead>\n",
              "  <tbody>\n",
              "    <tr>\n",
              "      <th>0</th>\n",
              "      <td>0.001695</td>\n",
              "      <td>0.001695</td>\n",
              "      <td>0.005085</td>\n",
              "      <td>0.005085</td>\n",
              "      <td>0.005085</td>\n",
              "      <td>0.005085</td>\n",
              "      <td>0.005085</td>\n",
              "    </tr>\n",
              "  </tbody>\n",
              "</table>\n",
              "</div>"
            ],
            "text/plain": [
              "         2         5         10        15        20        25        30\n",
              "0  0.001695  0.001695  0.005085  0.005085  0.005085  0.005085  0.005085"
            ]
          },
          "execution_count": 43,
          "metadata": {},
          "output_type": "execute_result"
        }
      ],
      "source": [
        "score_result_df"
      ]
    },
    {
      "cell_type": "markdown",
      "metadata": {
        "id": "EF301hSx3wRv"
      },
      "source": [
        "### B. Content-based + Rule-based"
      ]
    },
    {
      "cell_type": "markdown",
      "metadata": {
        "id": "gplPWUS_3wRv"
      },
      "source": [
        "#### 確認Ruled-based最合適參數"
      ]
    },
    {
      "cell_type": "code",
      "execution_count": null,
      "metadata": {
        "scrolled": true,
        "id": "ug6A0c-d3wRv",
        "outputId": "d48d398c-3d04-475b-93ce-a14a8ea229bc"
      },
      "outputs": [
        {
          "name": "stdout",
          "output_type": "stream",
          "text": [
            "【每個商品找最相似2個...】\n"
          ]
        },
        {
          "name": "stderr",
          "output_type": "stream",
          "text": [
            "<ipython-input-37-1ebfe81b5207>:30: FutureWarning: The pandas.datetime class is deprecated and will be removed from pandas in a future version. Import from datetime module instead.\n",
            "  end = pd.datetime(2018, 9, 1).strftime(\"%Y-%m-%d\")\n",
            "<ipython-input-37-1ebfe81b5207>:31: FutureWarning: The pandas.datetime class is deprecated and will be removed from pandas in a future version. Import from datetime module instead.\n",
            "  start_list = [(pd.datetime(2018, 9, 1)- relativedelta(months= month)).strftime(\"%Y-%m-%d\") for month in month_ranges]\n"
          ]
        },
        {
          "name": "stdout",
          "output_type": "stream",
          "text": [
            "【每個商品找最相似5個...】\n",
            "【每個商品找最相似10個...】\n",
            "【每個商品找最相似15個...】\n",
            "【每個商品找最相似20個...】\n",
            "【每個商品找最相似25個...】\n",
            "【每個商品找最相似30個...】\n"
          ]
        }
      ],
      "source": [
        " # 依時間區間產生資料區間，觀察推薦成效\n",
        "def create_ratings_data_RB(start, end):\n",
        "    \n",
        "    ratings_trainings = ratings[(ratings['DATE'] >= start) & (ratings['DATE'] < end)]\n",
        "    ratings_testings = ratings[(ratings['DATE'] >= '2018-09-01') &  (ratings['DATE'] <= '2018-09-30')]\n",
        "    ratings_testings_by_user = ratings_testings.groupby('reviewerID').agg(list).reset_index()[['reviewerID', 'asin']].to_dict('records') #‘records’ : list like [{column -> value}, … , {column -> value}]\n",
        "    ratings_testings_by_user = { rating['reviewerID']: rating['asin'] for rating in ratings_testings_by_user }\n",
        "    testings_users = list(ratings_testings_by_user.keys())\n",
        "    \n",
        "    return ratings_trainings, ratings_testings, ratings_testings_by_user, testings_users\n",
        "\n",
        "# 產出推薦商品\n",
        "def recommender_RB(ratings_trainings, k):    \n",
        "    ## product_count\n",
        "    ratings_compare = ratings_trainings.groupby(['asin'], as_index=False).agg(product_count=(\"asin\", 'count'),avg_rating=(\"overall\", 'mean'), nearest_date=('DATE','max'))\n",
        "    rating_sorting = ratings_compare.sort_values(by=['product_count'], ascending=(False))\n",
        "    rating_sorting['ranking'] = rating_sorting['product_count'].rank(ascending=False)\n",
        "    rating_sorting.reset_index(drop=True, inplace=True)\n",
        "    recom = rating_sorting['asin'].tolist()[:k]\n",
        "    return recom\n",
        "\n",
        "# 計算recall\n",
        "def evaluate_RB(recom , recommend_dict_by_user={}): \n",
        "\n",
        "    total = 0\n",
        "    for d in ratings_testings_by_user.keys():\n",
        "        total += len(set(recom)& set(ratings_testings_by_user[d]))\n",
        "    score = total / len(ratings_testings)    \n",
        "    return score\n",
        "\n",
        "\n",
        "from dateutil.relativedelta import relativedelta\n",
        "\n",
        "month_ranges = [1 if i == 0 else i*3 for i in range(0,13)]\n",
        "end = pd.datetime(2018, 9, 1).strftime(\"%Y-%m-%d\")\n",
        "start_list = [(pd.datetime(2018, 9, 1)- relativedelta(months= month)).strftime(\"%Y-%m-%d\") for month in month_ranges]\n",
        "period_range = [[start, end] for start in start_list]\n",
        "\n",
        "recommendation_nums = [2, 5, 10, 15, 20, 25, 30]\n",
        "score_result_dict = {}\n",
        "\n",
        "for k in recommendation_nums:\n",
        "    print(f\"【每個商品找最相似{ k }個...】\")\n",
        "    score_result = []\n",
        "    for period in period_range:\n",
        "#         print(f\"檢視{period}區間\\n\")\n",
        "        ratings_trainings, ratings_testings, ratings_testings_by_user, testings_users = create_ratings_data_RB(period[0], period[1])\n",
        "        recom = recommender_RB(ratings_trainings, k)\n",
        "        score_result.append(evaluate_RB(recom , recommend_dict_by_user))\n",
        "#         print(f\"評估結果：已完成, score: {evaluate_RB(recom , recommend_dict_by_user)}\\n\")\n",
        "        \n",
        "    score_result_dict[k] = score_result\n",
        "        \n",
        "score_result_df = pd.DataFrame(data = score_result_dict ,index= [f'{period[0]} - {period[1]}' for period in period_range])\n",
        "\n"
      ]
    },
    {
      "cell_type": "code",
      "execution_count": null,
      "metadata": {
        "id": "UWwWu_HF3wRw",
        "outputId": "4d1d2694-d5fe-469b-80fc-de5f353ebfb8"
      },
      "outputs": [
        {
          "data": {
            "text/html": [
              "<div>\n",
              "<style scoped>\n",
              "    .dataframe tbody tr th:only-of-type {\n",
              "        vertical-align: middle;\n",
              "    }\n",
              "\n",
              "    .dataframe tbody tr th {\n",
              "        vertical-align: top;\n",
              "    }\n",
              "\n",
              "    .dataframe thead th {\n",
              "        text-align: right;\n",
              "    }\n",
              "</style>\n",
              "<table border=\"1\" class=\"dataframe\">\n",
              "  <thead>\n",
              "    <tr style=\"text-align: right;\">\n",
              "      <th></th>\n",
              "      <th>2</th>\n",
              "      <th>5</th>\n",
              "      <th>10</th>\n",
              "      <th>15</th>\n",
              "      <th>20</th>\n",
              "      <th>25</th>\n",
              "      <th>30</th>\n",
              "    </tr>\n",
              "  </thead>\n",
              "  <tbody>\n",
              "    <tr>\n",
              "      <th>2018-08-01 - 2018-09-01</th>\n",
              "      <td>0.083051</td>\n",
              "      <td>0.088136</td>\n",
              "      <td>0.154237</td>\n",
              "      <td>0.169492</td>\n",
              "      <td>0.193220</td>\n",
              "      <td>0.235593</td>\n",
              "      <td>0.264407</td>\n",
              "    </tr>\n",
              "    <tr>\n",
              "      <th>2018-06-01 - 2018-09-01</th>\n",
              "      <td>0.083051</td>\n",
              "      <td>0.098305</td>\n",
              "      <td>0.133898</td>\n",
              "      <td>0.154237</td>\n",
              "      <td>0.203390</td>\n",
              "      <td>0.216949</td>\n",
              "      <td>0.249153</td>\n",
              "    </tr>\n",
              "    <tr>\n",
              "      <th>2018-03-01 - 2018-09-01</th>\n",
              "      <td>0.083051</td>\n",
              "      <td>0.096610</td>\n",
              "      <td>0.096610</td>\n",
              "      <td>0.116949</td>\n",
              "      <td>0.123729</td>\n",
              "      <td>0.150847</td>\n",
              "      <td>0.150847</td>\n",
              "    </tr>\n",
              "    <tr>\n",
              "      <th>2017-12-01 - 2018-09-01</th>\n",
              "      <td>0.083051</td>\n",
              "      <td>0.096610</td>\n",
              "      <td>0.098305</td>\n",
              "      <td>0.115254</td>\n",
              "      <td>0.123729</td>\n",
              "      <td>0.123729</td>\n",
              "      <td>0.130508</td>\n",
              "    </tr>\n",
              "    <tr>\n",
              "      <th>2017-09-01 - 2018-09-01</th>\n",
              "      <td>0.083051</td>\n",
              "      <td>0.096610</td>\n",
              "      <td>0.098305</td>\n",
              "      <td>0.098305</td>\n",
              "      <td>0.105085</td>\n",
              "      <td>0.127119</td>\n",
              "      <td>0.130508</td>\n",
              "    </tr>\n",
              "    <tr>\n",
              "      <th>2017-06-01 - 2018-09-01</th>\n",
              "      <td>0.083051</td>\n",
              "      <td>0.083051</td>\n",
              "      <td>0.098305</td>\n",
              "      <td>0.098305</td>\n",
              "      <td>0.098305</td>\n",
              "      <td>0.123729</td>\n",
              "      <td>0.140678</td>\n",
              "    </tr>\n",
              "    <tr>\n",
              "      <th>2017-03-01 - 2018-09-01</th>\n",
              "      <td>0.083051</td>\n",
              "      <td>0.083051</td>\n",
              "      <td>0.096610</td>\n",
              "      <td>0.098305</td>\n",
              "      <td>0.100000</td>\n",
              "      <td>0.108475</td>\n",
              "      <td>0.125424</td>\n",
              "    </tr>\n",
              "    <tr>\n",
              "      <th>2016-12-01 - 2018-09-01</th>\n",
              "      <td>0.083051</td>\n",
              "      <td>0.083051</td>\n",
              "      <td>0.096610</td>\n",
              "      <td>0.098305</td>\n",
              "      <td>0.098305</td>\n",
              "      <td>0.100000</td>\n",
              "      <td>0.125424</td>\n",
              "    </tr>\n",
              "    <tr>\n",
              "      <th>2016-09-01 - 2018-09-01</th>\n",
              "      <td>0.083051</td>\n",
              "      <td>0.083051</td>\n",
              "      <td>0.083051</td>\n",
              "      <td>0.098305</td>\n",
              "      <td>0.098305</td>\n",
              "      <td>0.100000</td>\n",
              "      <td>0.113559</td>\n",
              "    </tr>\n",
              "    <tr>\n",
              "      <th>2016-06-01 - 2018-09-01</th>\n",
              "      <td>0.083051</td>\n",
              "      <td>0.083051</td>\n",
              "      <td>0.083051</td>\n",
              "      <td>0.096610</td>\n",
              "      <td>0.098305</td>\n",
              "      <td>0.098305</td>\n",
              "      <td>0.106780</td>\n",
              "    </tr>\n",
              "    <tr>\n",
              "      <th>2016-03-01 - 2018-09-01</th>\n",
              "      <td>0.083051</td>\n",
              "      <td>0.083051</td>\n",
              "      <td>0.083051</td>\n",
              "      <td>0.096610</td>\n",
              "      <td>0.096610</td>\n",
              "      <td>0.098305</td>\n",
              "      <td>0.098305</td>\n",
              "    </tr>\n",
              "    <tr>\n",
              "      <th>2015-12-01 - 2018-09-01</th>\n",
              "      <td>0.083051</td>\n",
              "      <td>0.083051</td>\n",
              "      <td>0.083051</td>\n",
              "      <td>0.096610</td>\n",
              "      <td>0.096610</td>\n",
              "      <td>0.096610</td>\n",
              "      <td>0.098305</td>\n",
              "    </tr>\n",
              "    <tr>\n",
              "      <th>2015-09-01 - 2018-09-01</th>\n",
              "      <td>0.083051</td>\n",
              "      <td>0.083051</td>\n",
              "      <td>0.083051</td>\n",
              "      <td>0.096610</td>\n",
              "      <td>0.096610</td>\n",
              "      <td>0.105085</td>\n",
              "      <td>0.105085</td>\n",
              "    </tr>\n",
              "  </tbody>\n",
              "</table>\n",
              "</div>"
            ],
            "text/plain": [
              "                               2         5         10        15        20  \\\n",
              "2018-08-01 - 2018-09-01  0.083051  0.088136  0.154237  0.169492  0.193220   \n",
              "2018-06-01 - 2018-09-01  0.083051  0.098305  0.133898  0.154237  0.203390   \n",
              "2018-03-01 - 2018-09-01  0.083051  0.096610  0.096610  0.116949  0.123729   \n",
              "2017-12-01 - 2018-09-01  0.083051  0.096610  0.098305  0.115254  0.123729   \n",
              "2017-09-01 - 2018-09-01  0.083051  0.096610  0.098305  0.098305  0.105085   \n",
              "2017-06-01 - 2018-09-01  0.083051  0.083051  0.098305  0.098305  0.098305   \n",
              "2017-03-01 - 2018-09-01  0.083051  0.083051  0.096610  0.098305  0.100000   \n",
              "2016-12-01 - 2018-09-01  0.083051  0.083051  0.096610  0.098305  0.098305   \n",
              "2016-09-01 - 2018-09-01  0.083051  0.083051  0.083051  0.098305  0.098305   \n",
              "2016-06-01 - 2018-09-01  0.083051  0.083051  0.083051  0.096610  0.098305   \n",
              "2016-03-01 - 2018-09-01  0.083051  0.083051  0.083051  0.096610  0.096610   \n",
              "2015-12-01 - 2018-09-01  0.083051  0.083051  0.083051  0.096610  0.096610   \n",
              "2015-09-01 - 2018-09-01  0.083051  0.083051  0.083051  0.096610  0.096610   \n",
              "\n",
              "                               25        30  \n",
              "2018-08-01 - 2018-09-01  0.235593  0.264407  \n",
              "2018-06-01 - 2018-09-01  0.216949  0.249153  \n",
              "2018-03-01 - 2018-09-01  0.150847  0.150847  \n",
              "2017-12-01 - 2018-09-01  0.123729  0.130508  \n",
              "2017-09-01 - 2018-09-01  0.127119  0.130508  \n",
              "2017-06-01 - 2018-09-01  0.123729  0.140678  \n",
              "2017-03-01 - 2018-09-01  0.108475  0.125424  \n",
              "2016-12-01 - 2018-09-01  0.100000  0.125424  \n",
              "2016-09-01 - 2018-09-01  0.100000  0.113559  \n",
              "2016-06-01 - 2018-09-01  0.098305  0.106780  \n",
              "2016-03-01 - 2018-09-01  0.098305  0.098305  \n",
              "2015-12-01 - 2018-09-01  0.096610  0.098305  \n",
              "2015-09-01 - 2018-09-01  0.105085  0.105085  "
            ]
          },
          "execution_count": 38,
          "metadata": {},
          "output_type": "execute_result"
        }
      ],
      "source": [
        "score_result_df"
      ]
    },
    {
      "cell_type": "markdown",
      "metadata": {
        "id": "Pm5whTox3wRw"
      },
      "source": [
        "結論： rule-based的時間區間與推薦數， 選擇時間區間：'2018-08-01 - 2018-09-01' 、 k=30"
      ]
    },
    {
      "cell_type": "markdown",
      "metadata": {
        "id": "ikYWESMf3wRx"
      },
      "source": [
        "#### 製作兩者content_based 與 rule_based之推薦系統"
      ]
    },
    {
      "cell_type": "code",
      "execution_count": null,
      "metadata": {
        "id": "kh_dfsVX3wRx"
      },
      "outputs": [],
      "source": [
        "def rule_based(start= '2018-08-01',end ='2018-09-01', k=30):\n",
        "    \n",
        "    ratings_trainings = ratings[(ratings['DATE'] >= start) & (ratings['DATE'] < end)]\n",
        "    ratings_testings = ratings[(ratings['DATE'] >= '2018-09-01') &  (ratings['DATE'] <= '2018-09-30')]\n",
        "    ratings_testings_by_user = ratings_testings.groupby('reviewerID').agg(list).reset_index()[['reviewerID', 'asin']].to_dict('records') #‘records’ : list like [{column -> value}, … , {column -> value}]\n",
        "    ratings_testings_by_user = { rating['reviewerID']: rating['asin'] for rating in ratings_testings_by_user }\n",
        "    testings_users = list(ratings_testings_by_user.keys())\n",
        "        \n",
        "    ## product_count\n",
        "    ratings_compare = ratings_trainings.groupby(['asin'], as_index=False).agg(product_count=(\"asin\", 'count'),avg_rating=(\"overall\", 'mean'), nearest_date=('DATE','max'))\n",
        "    rating_sorting = ratings_compare.sort_values(by=['product_count'], ascending=(False))\n",
        "    rating_sorting['ranking'] = rating_sorting['product_count'].rank(ascending=False)\n",
        "    rating_sorting.reset_index(drop=True, inplace=True)\n",
        "    recom = rating_sorting['asin'].tolist()[:k]\n",
        "    return recom\n"
      ]
    },
    {
      "cell_type": "code",
      "execution_count": null,
      "metadata": {
        "scrolled": true,
        "id": "9hTnwjI73wRx",
        "outputId": "14c1f9e1-ba46-4611-9187-1b1e3ae486b5"
      },
      "outputs": [
        {
          "name": "stdout",
          "output_type": "stream",
          "text": [
            "【每個商品找最相似2個...】\n",
            "產出每個客戶推薦名單中...\n",
            "產出每個客戶推薦名單：已完成\n",
            "評估結果中...\n",
            "評估結果：已完成\n",
            "\n",
            "【每個商品找最相似5個...】\n",
            "產出每個客戶推薦名單中...\n",
            "產出每個客戶推薦名單：已完成\n",
            "評估結果中...\n",
            "評估結果：已完成\n",
            "\n",
            "【每個商品找最相似10個...】\n",
            "產出每個客戶推薦名單中...\n",
            "產出每個客戶推薦名單：已完成\n",
            "評估結果中...\n",
            "評估結果：已完成\n",
            "\n",
            "【每個商品找最相似15個...】\n",
            "產出每個客戶推薦名單中...\n",
            "產出每個客戶推薦名單：已完成\n",
            "評估結果中...\n",
            "評估結果：已完成\n",
            "\n",
            "【每個商品找最相似20個...】\n",
            "產出每個客戶推薦名單中...\n",
            "產出每個客戶推薦名單：已完成\n",
            "評估結果中...\n",
            "評估結果：已完成\n",
            "\n",
            "【每個商品找最相似25個...】\n",
            "產出每個客戶推薦名單中...\n",
            "產出每個客戶推薦名單：已完成\n",
            "評估結果中...\n",
            "評估結果：已完成\n",
            "\n",
            "【每個商品找最相似30個...】\n",
            "產出每個客戶推薦名單中...\n",
            "產出每個客戶推薦名單：已完成\n",
            "評估結果中...\n",
            "評估結果：已完成\n",
            "\n"
          ]
        }
      ],
      "source": [
        "# 產生資料\n",
        "def create_ratings_data():\n",
        "    \n",
        "    ratings_trainings = ratings[(ratings['DATE'] < '2018-09-01')]\n",
        "    ratings_testings = ratings[(ratings['DATE'] >= '2018-09-01') &  (ratings['DATE'] <= '2018-09-30')]\n",
        "    ratings_testings_by_user = ratings_testings.groupby('reviewerID').agg(list).reset_index()[['reviewerID', 'asin']].to_dict('records') #‘records’ : list like [{column -> value}, … , {column -> value}]\n",
        "    ratings_testings_by_user = { rating['reviewerID']: rating['asin'] for rating in ratings_testings_by_user }\n",
        "    testings_users = list(ratings_testings_by_user.keys())\n",
        "    \n",
        "    return ratings_trainings, ratings_testings, ratings_testings_by_user, testings_users\n",
        "\n",
        "\n",
        "# 推薦相似產品\n",
        "def recommend_similar_item(asin, k=2):\n",
        "    \n",
        "    try:\n",
        "        item_index = asin2index_mapping[asin]\n",
        "        # print(\"asin\", asin)\n",
        "        similarity_score = list(enumerate(similarity_matrix[item_index]))  \n",
        "        similarity_score = sorted(similarity_score, key=lambda x: x[1], reverse=True)\n",
        "        similarity_score = similarity_score[:k]\n",
        "        # print(\"similarity_score\", similarity_score)\n",
        "        item_indices = [i[0] for i in similarity_score]\n",
        "\n",
        "        return (metadata_clean['asin'].iloc[item_indices].tolist())\n",
        "        \n",
        "    except:\n",
        "        return []\n",
        "\n",
        "# 每個客戶的推薦產品清單\n",
        "def recommender(testings_users, ratings_trainings, k):\n",
        "    \n",
        "    recommend_dict_by_user = {}\n",
        "    for user in testings_users:\n",
        "        recommend_list_by_user = []\n",
        "        \n",
        "        # 找出測試集客戶過去有買的產品有哪些，藉此依據過去消費商品特徵推薦產品\n",
        "        purchase_record_asin_list = metadata_clean[metadata_clean['asin'].isin(ratings_trainings[ratings_trainings['reviewerID']== user]['asin'].tolist())]['asin'].to_list()\n",
        "        for asin in purchase_record_asin_list:\n",
        "            recommend_list_by_user.extend(recommend_similar_item(asin, k))\n",
        "        \n",
        "        if recommend_list_by_user == []: # content-based \n",
        "            recom = rule_based(start= '2018-08-01',end ='2018-09-01', k=30)\n",
        "            recommend_dict_by_user[user] = recom\n",
        "        else:  # rule-based \n",
        "            recommend_dict_by_user[user] = recommend_list_by_user\n",
        "    \n",
        "    return recommend_dict_by_user\n",
        "\n",
        "# 計算recall\n",
        "def evaluate(ratings_testings_by_user={}, recommend_dict_by_user={}):\n",
        "\n",
        "    total = 0\n",
        "    for d in ratings_testings_by_user:\n",
        "        if d in recommend_dict_by_user:\n",
        "            total += len(set(recommend_dict_by_user[d]) & set(ratings_testings_by_user[d]))\n",
        "\n",
        "    score = total / len(ratings_testings)\n",
        "    \n",
        "    return score\n",
        "\n",
        "\n",
        "recommendation_nums = [2, 5, 10, 15, 20, 25, 30]\n",
        "score_result_dict = {}\n",
        "\n",
        "for k in recommendation_nums:\n",
        "    score_result = []\n",
        "    \n",
        "    print(f\"【每個商品找最相似{ k }個...】\")\n",
        "    ratings_trainings, ratings_testings, ratings_testings_by_user, testings_users = create_ratings_data()\n",
        "    \n",
        "    print(\"產出每個客戶推薦名單中...\")\n",
        "    recommend_dict_by_user = recommender(testings_users, ratings_trainings, k)\n",
        "    print(\"產出每個客戶推薦名單：已完成\")\n",
        "    \n",
        "    print(\"評估結果中...\")\n",
        "    score_result.append(evaluate(ratings_testings_by_user, recommend_dict_by_user))\n",
        "    print(f\"評估結果：已完成\\n\")\n",
        "    score_result_dict[k] = score_result\n",
        "\n",
        "score_result_df = pd.DataFrame(data = score_result_dict)\n"
      ]
    },
    {
      "cell_type": "code",
      "execution_count": null,
      "metadata": {
        "id": "cDgqbap93wRy",
        "outputId": "0c54d54b-4f7d-46a0-d870-e9a671ea4cf1"
      },
      "outputs": [
        {
          "data": {
            "text/html": [
              "<div>\n",
              "<style scoped>\n",
              "    .dataframe tbody tr th:only-of-type {\n",
              "        vertical-align: middle;\n",
              "    }\n",
              "\n",
              "    .dataframe tbody tr th {\n",
              "        vertical-align: top;\n",
              "    }\n",
              "\n",
              "    .dataframe thead th {\n",
              "        text-align: right;\n",
              "    }\n",
              "</style>\n",
              "<table border=\"1\" class=\"dataframe\">\n",
              "  <thead>\n",
              "    <tr style=\"text-align: right;\">\n",
              "      <th></th>\n",
              "      <th>2</th>\n",
              "      <th>5</th>\n",
              "      <th>10</th>\n",
              "      <th>15</th>\n",
              "      <th>20</th>\n",
              "      <th>25</th>\n",
              "      <th>30</th>\n",
              "    </tr>\n",
              "  </thead>\n",
              "  <tbody>\n",
              "    <tr>\n",
              "      <th>0</th>\n",
              "      <td>0.252542</td>\n",
              "      <td>0.252542</td>\n",
              "      <td>0.255932</td>\n",
              "      <td>0.255932</td>\n",
              "      <td>0.255932</td>\n",
              "      <td>0.255932</td>\n",
              "      <td>0.255932</td>\n",
              "    </tr>\n",
              "  </tbody>\n",
              "</table>\n",
              "</div>"
            ],
            "text/plain": [
              "         2         5         10        15        20        25        30\n",
              "0  0.252542  0.252542  0.255932  0.255932  0.255932  0.255932  0.255932"
            ]
          },
          "execution_count": 45,
          "metadata": {},
          "output_type": "execute_result"
        }
      ],
      "source": [
        "score_result_df"
      ]
    },
    {
      "cell_type": "markdown",
      "metadata": {
        "id": "sfFVq1qf3wRy"
      },
      "source": [
        "## 7. Conclusion"
      ]
    },
    {
      "cell_type": "markdown",
      "metadata": {
        "id": "gg2N1tH73wRy"
      },
      "source": [
        ">1. 僅38位於9月前有購買產品，若單純以conten-based去做推薦，最好的recall分數僅為 0.005085，因此決定結合rule-based做推薦\n",
        "\n",
        ">2. rule-based先透過時間/推薦產品數雙維度找出最適參數測試，選出時間區間：'2018-08-01 - 2018-09-01' 、 k=30，其recall表現最佳，可達 0.264407\n",
        "\n",
        ">3. conten-based & rule-based 結果中， conten-based從不同產品數推薦的recall中，差異不大，主要落在0.252542~ 0.255932，整體表現也比第一次作業佳。"
      ]
    }
  ],
  "metadata": {
    "kernelspec": {
      "display_name": "Python 3",
      "language": "python",
      "name": "python3"
    },
    "language_info": {
      "codemirror_mode": {
        "name": "ipython",
        "version": 3
      },
      "file_extension": ".py",
      "mimetype": "text/x-python",
      "name": "python",
      "nbconvert_exporter": "python",
      "pygments_lexer": "ipython3",
      "version": "3.8.5"
    },
    "colab": {
      "name": "A4.實作「Content-based Filtering」的推薦系統.ipynb",
      "provenance": [],
      "collapsed_sections": [
        "NZxjUO8z3wRr"
      ],
      "include_colab_link": true
    }
  },
  "nbformat": 4,
  "nbformat_minor": 0
}