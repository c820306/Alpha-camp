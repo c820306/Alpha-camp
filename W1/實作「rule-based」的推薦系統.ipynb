{
  "cells": [
    {
      "cell_type": "markdown",
      "metadata": {
        "id": "view-in-github",
        "colab_type": "text"
      },
      "source": [
        "<a href=\"https://colab.research.google.com/github/c820306/Alpha-camp/blob/main/A2_%E5%AF%A6%E4%BD%9C%E3%80%8Crule_based%E3%80%8D%E7%9A%84%E6%8E%A8%E8%96%A6%E7%B3%BB%E7%B5%B1.ipynb\" target=\"_parent\"><img src=\"https://colab.research.google.com/assets/colab-badge.svg\" alt=\"Open In Colab\"/></a>"
      ]
    },
    {
      "cell_type": "markdown",
      "metadata": {
        "id": "KkdzZXoq_fdS"
      },
      "source": [
        "# Sample Code"
      ],
      "id": "KkdzZXoq_fdS"
    },
    {
      "cell_type": "markdown",
      "metadata": {
        "id": "qrEO7esl_fdW"
      },
      "source": [
        "## 1.匯入資料"
      ],
      "id": "qrEO7esl_fdW"
    },
    {
      "cell_type": "code",
      "execution_count": 1,
      "metadata": {
        "scrolled": true,
        "id": "SqAsiS7Q_fdX"
      },
      "outputs": [],
      "source": [
        "import pandas as pd\n",
        "import gzip, json\n",
        "\n",
        "def parse(path):\n",
        "    g = gzip.open(path, 'rb')\n",
        "    for l in g:\n",
        "        yield json.loads(l)\n",
        "\n",
        "def getDF(path):\n",
        "    i = 0\n",
        "    df = {}\n",
        "    for d in parse(path):\n",
        "        df[i] = d\n",
        "        i += 1\n",
        "    return pd.DataFrame.from_dict(df, orient='index')"
      ],
      "id": "SqAsiS7Q_fdX"
    },
    {
      "cell_type": "markdown",
      "metadata": {
        "id": "XLdzkeDH_fda"
      },
      "source": [
        "## 載入資料"
      ],
      "id": "XLdzkeDH_fda"
    },
    {
      "cell_type": "code",
      "execution_count": 2,
      "metadata": {
        "colab": {
          "base_uri": "https://localhost:8080/"
        },
        "id": "6pVE0gq0_fda",
        "outputId": "30c62645-1541-4706-92d8-7e00bbb607eb"
      },
      "outputs": [
        {
          "output_type": "stream",
          "name": "stdout",
          "text": [
            "--2021-12-25 02:05:22--  http://deepyeti.ucsd.edu/jianmo/amazon/categoryFilesSmall/All_Beauty.csv\n",
            "Resolving deepyeti.ucsd.edu (deepyeti.ucsd.edu)... 169.228.63.50\n",
            "Connecting to deepyeti.ucsd.edu (deepyeti.ucsd.edu)|169.228.63.50|:80... connected.\n",
            "HTTP request sent, awaiting response... 200 OK\n",
            "Length: 15499476 (15M) [application/octet-stream]\n",
            "Saving to: ‘All_Beauty.csv’\n",
            "\n",
            "All_Beauty.csv      100%[===================>]  14.78M  8.88MB/s    in 1.7s    \n",
            "\n",
            "2021-12-25 02:05:24 (8.88 MB/s) - ‘All_Beauty.csv’ saved [15499476/15499476]\n",
            "\n",
            "--2021-12-25 02:05:24--  http://deepyeti.ucsd.edu/jianmo/amazon/metaFiles2/meta_All_Beauty.json.gz\n",
            "Resolving deepyeti.ucsd.edu (deepyeti.ucsd.edu)... 169.228.63.50\n",
            "Connecting to deepyeti.ucsd.edu (deepyeti.ucsd.edu)|169.228.63.50|:80... connected.\n",
            "HTTP request sent, awaiting response... 200 OK\n",
            "Length: 10329961 (9.9M) [application/octet-stream]\n",
            "Saving to: ‘meta_All_Beauty.json.gz’\n",
            "\n",
            "meta_All_Beauty.jso 100%[===================>]   9.85M  6.63MB/s    in 1.5s    \n",
            "\n",
            "2021-12-25 02:05:26 (6.63 MB/s) - ‘meta_All_Beauty.json.gz’ saved [10329961/10329961]\n",
            "\n"
          ]
        }
      ],
      "source": [
        "!wget http://deepyeti.ucsd.edu/jianmo/amazon/categoryFilesSmall/All_Beauty.csv\n",
        "!wget http://deepyeti.ucsd.edu/jianmo/amazon/metaFiles2/meta_All_Beauty.json.gz"
      ],
      "id": "6pVE0gq0_fda"
    },
    {
      "cell_type": "code",
      "execution_count": 3,
      "metadata": {
        "id": "0MCTQDmE_fdb"
      },
      "outputs": [],
      "source": [
        "metadata = getDF('/content/meta_All_Beauty.json.gz')\n",
        "ratings = pd.read_csv('/content/All_Beauty.csv', names=['asin', 'reviewerID', 'overall', 'unixReviewTime'], header=None)"
      ],
      "id": "0MCTQDmE_fdb"
    },
    {
      "cell_type": "code",
      "execution_count": 4,
      "metadata": {
        "id": "Q-LfEA_8_fdd",
        "outputId": "31cbc5e6-9fbb-4934-8fba-9ca5bcc3f915",
        "colab": {
          "base_uri": "https://localhost:8080/",
          "height": 378
        }
      },
      "outputs": [
        {
          "output_type": "execute_result",
          "data": {
            "text/html": [
              "\n",
              "  <div id=\"df-76465729-6be7-407f-b50f-ddb4817a7cb5\">\n",
              "    <div class=\"colab-df-container\">\n",
              "      <div>\n",
              "<style scoped>\n",
              "    .dataframe tbody tr th:only-of-type {\n",
              "        vertical-align: middle;\n",
              "    }\n",
              "\n",
              "    .dataframe tbody tr th {\n",
              "        vertical-align: top;\n",
              "    }\n",
              "\n",
              "    .dataframe thead th {\n",
              "        text-align: right;\n",
              "    }\n",
              "</style>\n",
              "<table border=\"1\" class=\"dataframe\">\n",
              "  <thead>\n",
              "    <tr style=\"text-align: right;\">\n",
              "      <th></th>\n",
              "      <th>category</th>\n",
              "      <th>tech1</th>\n",
              "      <th>description</th>\n",
              "      <th>fit</th>\n",
              "      <th>title</th>\n",
              "      <th>also_buy</th>\n",
              "      <th>tech2</th>\n",
              "      <th>brand</th>\n",
              "      <th>feature</th>\n",
              "      <th>rank</th>\n",
              "      <th>also_view</th>\n",
              "      <th>details</th>\n",
              "      <th>main_cat</th>\n",
              "      <th>similar_item</th>\n",
              "      <th>date</th>\n",
              "      <th>price</th>\n",
              "      <th>asin</th>\n",
              "      <th>imageURL</th>\n",
              "      <th>imageURLHighRes</th>\n",
              "    </tr>\n",
              "  </thead>\n",
              "  <tbody>\n",
              "    <tr>\n",
              "      <th>0</th>\n",
              "      <td>[]</td>\n",
              "      <td></td>\n",
              "      <td>[Loud 'N Clear Personal Sound Amplifier allows...</td>\n",
              "      <td></td>\n",
              "      <td>Loud 'N Clear&amp;trade; Personal Sound Amplifier</td>\n",
              "      <td>[]</td>\n",
              "      <td></td>\n",
              "      <td>idea village</td>\n",
              "      <td>[]</td>\n",
              "      <td>2,938,573 in Beauty &amp; Personal Care (</td>\n",
              "      <td>[]</td>\n",
              "      <td>{'ASIN: ': '6546546450'}</td>\n",
              "      <td>All Beauty</td>\n",
              "      <td></td>\n",
              "      <td></td>\n",
              "      <td></td>\n",
              "      <td>6546546450</td>\n",
              "      <td>[]</td>\n",
              "      <td>[]</td>\n",
              "    </tr>\n",
              "    <tr>\n",
              "      <th>1</th>\n",
              "      <td>[]</td>\n",
              "      <td></td>\n",
              "      <td>[No7 Lift &amp; Luminate Triple Action Serum 50ml ...</td>\n",
              "      <td></td>\n",
              "      <td>No7 Lift &amp;amp; Luminate Triple Action Serum 50...</td>\n",
              "      <td>[B01E7LCSL6, B008X5RVME]</td>\n",
              "      <td></td>\n",
              "      <td></td>\n",
              "      <td>[]</td>\n",
              "      <td>872,854 in Beauty &amp; Personal Care (</td>\n",
              "      <td>[]</td>\n",
              "      <td>{'Shipping Weight:': '0.3 ounces (', 'ASIN: ':...</td>\n",
              "      <td>All Beauty</td>\n",
              "      <td>class=\"a-bordered a-horizontal-stripes  a-spa...</td>\n",
              "      <td></td>\n",
              "      <td>$44.99</td>\n",
              "      <td>7178680776</td>\n",
              "      <td>[]</td>\n",
              "      <td>[]</td>\n",
              "    </tr>\n",
              "    <tr>\n",
              "      <th>2</th>\n",
              "      <td>[]</td>\n",
              "      <td></td>\n",
              "      <td>[No7 Stay Perfect Foundation now stays perfect...</td>\n",
              "      <td></td>\n",
              "      <td>No7 Stay Perfect Foundation Cool Vanilla by No7</td>\n",
              "      <td>[]</td>\n",
              "      <td></td>\n",
              "      <td>No7</td>\n",
              "      <td>[]</td>\n",
              "      <td>956,696 in Beauty &amp; Personal Care (</td>\n",
              "      <td>[B01B8BR0O8, B01B8BR0NO, B014MHXXM8]</td>\n",
              "      <td>{'Shipping Weight:': '3.5 ounces (', 'ASIN: ':...</td>\n",
              "      <td>All Beauty</td>\n",
              "      <td></td>\n",
              "      <td></td>\n",
              "      <td>$28.76</td>\n",
              "      <td>7250468162</td>\n",
              "      <td>[]</td>\n",
              "      <td>[]</td>\n",
              "    </tr>\n",
              "  </tbody>\n",
              "</table>\n",
              "</div>\n",
              "      <button class=\"colab-df-convert\" onclick=\"convertToInteractive('df-76465729-6be7-407f-b50f-ddb4817a7cb5')\"\n",
              "              title=\"Convert this dataframe to an interactive table.\"\n",
              "              style=\"display:none;\">\n",
              "        \n",
              "  <svg xmlns=\"http://www.w3.org/2000/svg\" height=\"24px\"viewBox=\"0 0 24 24\"\n",
              "       width=\"24px\">\n",
              "    <path d=\"M0 0h24v24H0V0z\" fill=\"none\"/>\n",
              "    <path d=\"M18.56 5.44l.94 2.06.94-2.06 2.06-.94-2.06-.94-.94-2.06-.94 2.06-2.06.94zm-11 1L8.5 8.5l.94-2.06 2.06-.94-2.06-.94L8.5 2.5l-.94 2.06-2.06.94zm10 10l.94 2.06.94-2.06 2.06-.94-2.06-.94-.94-2.06-.94 2.06-2.06.94z\"/><path d=\"M17.41 7.96l-1.37-1.37c-.4-.4-.92-.59-1.43-.59-.52 0-1.04.2-1.43.59L10.3 9.45l-7.72 7.72c-.78.78-.78 2.05 0 2.83L4 21.41c.39.39.9.59 1.41.59.51 0 1.02-.2 1.41-.59l7.78-7.78 2.81-2.81c.8-.78.8-2.07 0-2.86zM5.41 20L4 18.59l7.72-7.72 1.47 1.35L5.41 20z\"/>\n",
              "  </svg>\n",
              "      </button>\n",
              "      \n",
              "  <style>\n",
              "    .colab-df-container {\n",
              "      display:flex;\n",
              "      flex-wrap:wrap;\n",
              "      gap: 12px;\n",
              "    }\n",
              "\n",
              "    .colab-df-convert {\n",
              "      background-color: #E8F0FE;\n",
              "      border: none;\n",
              "      border-radius: 50%;\n",
              "      cursor: pointer;\n",
              "      display: none;\n",
              "      fill: #1967D2;\n",
              "      height: 32px;\n",
              "      padding: 0 0 0 0;\n",
              "      width: 32px;\n",
              "    }\n",
              "\n",
              "    .colab-df-convert:hover {\n",
              "      background-color: #E2EBFA;\n",
              "      box-shadow: 0px 1px 2px rgba(60, 64, 67, 0.3), 0px 1px 3px 1px rgba(60, 64, 67, 0.15);\n",
              "      fill: #174EA6;\n",
              "    }\n",
              "\n",
              "    [theme=dark] .colab-df-convert {\n",
              "      background-color: #3B4455;\n",
              "      fill: #D2E3FC;\n",
              "    }\n",
              "\n",
              "    [theme=dark] .colab-df-convert:hover {\n",
              "      background-color: #434B5C;\n",
              "      box-shadow: 0px 1px 3px 1px rgba(0, 0, 0, 0.15);\n",
              "      filter: drop-shadow(0px 1px 2px rgba(0, 0, 0, 0.3));\n",
              "      fill: #FFFFFF;\n",
              "    }\n",
              "  </style>\n",
              "\n",
              "      <script>\n",
              "        const buttonEl =\n",
              "          document.querySelector('#df-76465729-6be7-407f-b50f-ddb4817a7cb5 button.colab-df-convert');\n",
              "        buttonEl.style.display =\n",
              "          google.colab.kernel.accessAllowed ? 'block' : 'none';\n",
              "\n",
              "        async function convertToInteractive(key) {\n",
              "          const element = document.querySelector('#df-76465729-6be7-407f-b50f-ddb4817a7cb5');\n",
              "          const dataTable =\n",
              "            await google.colab.kernel.invokeFunction('convertToInteractive',\n",
              "                                                     [key], {});\n",
              "          if (!dataTable) return;\n",
              "\n",
              "          const docLinkHtml = 'Like what you see? Visit the ' +\n",
              "            '<a target=\"_blank\" href=https://colab.research.google.com/notebooks/data_table.ipynb>data table notebook</a>'\n",
              "            + ' to learn more about interactive tables.';\n",
              "          element.innerHTML = '';\n",
              "          dataTable['output_type'] = 'display_data';\n",
              "          await google.colab.output.renderOutput(dataTable, element);\n",
              "          const docLink = document.createElement('div');\n",
              "          docLink.innerHTML = docLinkHtml;\n",
              "          element.appendChild(docLink);\n",
              "        }\n",
              "      </script>\n",
              "    </div>\n",
              "  </div>\n",
              "  "
            ],
            "text/plain": [
              "  category tech1  ... imageURL imageURLHighRes\n",
              "0       []        ...       []              []\n",
              "1       []        ...       []              []\n",
              "2       []        ...       []              []\n",
              "\n",
              "[3 rows x 19 columns]"
            ]
          },
          "metadata": {},
          "execution_count": 4
        }
      ],
      "source": [
        "metadata.head(3)"
      ],
      "id": "Q-LfEA_8_fdd"
    },
    {
      "cell_type": "code",
      "execution_count": 5,
      "metadata": {
        "id": "t0GiS_1j_fdd",
        "outputId": "4bd4c48e-908a-4184-8a1e-7a108caa8980",
        "colab": {
          "base_uri": "https://localhost:8080/",
          "height": 138
        }
      },
      "outputs": [
        {
          "output_type": "execute_result",
          "data": {
            "text/html": [
              "\n",
              "  <div id=\"df-b3531416-09bf-427e-98c4-d0ff6ca39159\">\n",
              "    <div class=\"colab-df-container\">\n",
              "      <div>\n",
              "<style scoped>\n",
              "    .dataframe tbody tr th:only-of-type {\n",
              "        vertical-align: middle;\n",
              "    }\n",
              "\n",
              "    .dataframe tbody tr th {\n",
              "        vertical-align: top;\n",
              "    }\n",
              "\n",
              "    .dataframe thead th {\n",
              "        text-align: right;\n",
              "    }\n",
              "</style>\n",
              "<table border=\"1\" class=\"dataframe\">\n",
              "  <thead>\n",
              "    <tr style=\"text-align: right;\">\n",
              "      <th></th>\n",
              "      <th>asin</th>\n",
              "      <th>reviewerID</th>\n",
              "      <th>overall</th>\n",
              "      <th>unixReviewTime</th>\n",
              "    </tr>\n",
              "  </thead>\n",
              "  <tbody>\n",
              "    <tr>\n",
              "      <th>0</th>\n",
              "      <td>0143026860</td>\n",
              "      <td>A1V6B6TNIC10QE</td>\n",
              "      <td>1.0</td>\n",
              "      <td>1424304000</td>\n",
              "    </tr>\n",
              "    <tr>\n",
              "      <th>1</th>\n",
              "      <td>0143026860</td>\n",
              "      <td>A2F5GHSXFQ0W6J</td>\n",
              "      <td>4.0</td>\n",
              "      <td>1418860800</td>\n",
              "    </tr>\n",
              "    <tr>\n",
              "      <th>2</th>\n",
              "      <td>0143026860</td>\n",
              "      <td>A1572GUYS7DGSR</td>\n",
              "      <td>4.0</td>\n",
              "      <td>1407628800</td>\n",
              "    </tr>\n",
              "  </tbody>\n",
              "</table>\n",
              "</div>\n",
              "      <button class=\"colab-df-convert\" onclick=\"convertToInteractive('df-b3531416-09bf-427e-98c4-d0ff6ca39159')\"\n",
              "              title=\"Convert this dataframe to an interactive table.\"\n",
              "              style=\"display:none;\">\n",
              "        \n",
              "  <svg xmlns=\"http://www.w3.org/2000/svg\" height=\"24px\"viewBox=\"0 0 24 24\"\n",
              "       width=\"24px\">\n",
              "    <path d=\"M0 0h24v24H0V0z\" fill=\"none\"/>\n",
              "    <path d=\"M18.56 5.44l.94 2.06.94-2.06 2.06-.94-2.06-.94-.94-2.06-.94 2.06-2.06.94zm-11 1L8.5 8.5l.94-2.06 2.06-.94-2.06-.94L8.5 2.5l-.94 2.06-2.06.94zm10 10l.94 2.06.94-2.06 2.06-.94-2.06-.94-.94-2.06-.94 2.06-2.06.94z\"/><path d=\"M17.41 7.96l-1.37-1.37c-.4-.4-.92-.59-1.43-.59-.52 0-1.04.2-1.43.59L10.3 9.45l-7.72 7.72c-.78.78-.78 2.05 0 2.83L4 21.41c.39.39.9.59 1.41.59.51 0 1.02-.2 1.41-.59l7.78-7.78 2.81-2.81c.8-.78.8-2.07 0-2.86zM5.41 20L4 18.59l7.72-7.72 1.47 1.35L5.41 20z\"/>\n",
              "  </svg>\n",
              "      </button>\n",
              "      \n",
              "  <style>\n",
              "    .colab-df-container {\n",
              "      display:flex;\n",
              "      flex-wrap:wrap;\n",
              "      gap: 12px;\n",
              "    }\n",
              "\n",
              "    .colab-df-convert {\n",
              "      background-color: #E8F0FE;\n",
              "      border: none;\n",
              "      border-radius: 50%;\n",
              "      cursor: pointer;\n",
              "      display: none;\n",
              "      fill: #1967D2;\n",
              "      height: 32px;\n",
              "      padding: 0 0 0 0;\n",
              "      width: 32px;\n",
              "    }\n",
              "\n",
              "    .colab-df-convert:hover {\n",
              "      background-color: #E2EBFA;\n",
              "      box-shadow: 0px 1px 2px rgba(60, 64, 67, 0.3), 0px 1px 3px 1px rgba(60, 64, 67, 0.15);\n",
              "      fill: #174EA6;\n",
              "    }\n",
              "\n",
              "    [theme=dark] .colab-df-convert {\n",
              "      background-color: #3B4455;\n",
              "      fill: #D2E3FC;\n",
              "    }\n",
              "\n",
              "    [theme=dark] .colab-df-convert:hover {\n",
              "      background-color: #434B5C;\n",
              "      box-shadow: 0px 1px 3px 1px rgba(0, 0, 0, 0.15);\n",
              "      filter: drop-shadow(0px 1px 2px rgba(0, 0, 0, 0.3));\n",
              "      fill: #FFFFFF;\n",
              "    }\n",
              "  </style>\n",
              "\n",
              "      <script>\n",
              "        const buttonEl =\n",
              "          document.querySelector('#df-b3531416-09bf-427e-98c4-d0ff6ca39159 button.colab-df-convert');\n",
              "        buttonEl.style.display =\n",
              "          google.colab.kernel.accessAllowed ? 'block' : 'none';\n",
              "\n",
              "        async function convertToInteractive(key) {\n",
              "          const element = document.querySelector('#df-b3531416-09bf-427e-98c4-d0ff6ca39159');\n",
              "          const dataTable =\n",
              "            await google.colab.kernel.invokeFunction('convertToInteractive',\n",
              "                                                     [key], {});\n",
              "          if (!dataTable) return;\n",
              "\n",
              "          const docLinkHtml = 'Like what you see? Visit the ' +\n",
              "            '<a target=\"_blank\" href=https://colab.research.google.com/notebooks/data_table.ipynb>data table notebook</a>'\n",
              "            + ' to learn more about interactive tables.';\n",
              "          element.innerHTML = '';\n",
              "          dataTable['output_type'] = 'display_data';\n",
              "          await google.colab.output.renderOutput(dataTable, element);\n",
              "          const docLink = document.createElement('div');\n",
              "          docLink.innerHTML = docLinkHtml;\n",
              "          element.appendChild(docLink);\n",
              "        }\n",
              "      </script>\n",
              "    </div>\n",
              "  </div>\n",
              "  "
            ],
            "text/plain": [
              "         asin      reviewerID  overall  unixReviewTime\n",
              "0  0143026860  A1V6B6TNIC10QE      1.0      1424304000\n",
              "1  0143026860  A2F5GHSXFQ0W6J      4.0      1418860800\n",
              "2  0143026860  A1572GUYS7DGSR      4.0      1407628800"
            ]
          },
          "metadata": {},
          "execution_count": 5
        }
      ],
      "source": [
        "ratings.head(3)"
      ],
      "id": "t0GiS_1j_fdd"
    },
    {
      "cell_type": "markdown",
      "metadata": {
        "id": "0R-C_BG5_fde"
      },
      "source": [
        "## 3.資料整理"
      ],
      "id": "0R-C_BG5_fde"
    },
    {
      "cell_type": "code",
      "execution_count": 6,
      "metadata": {
        "id": "EDLwEZWu_fdf"
      },
      "outputs": [],
      "source": [
        "ratings['DATE'] = pd.to_datetime(ratings['unixReviewTime'], unit='s')"
      ],
      "id": "EDLwEZWu_fdf"
    },
    {
      "cell_type": "markdown",
      "metadata": {
        "id": "hCPYkeSg_fdg"
      },
      "source": [
        "## 4.資料切分"
      ],
      "id": "hCPYkeSg_fdg"
    },
    {
      "cell_type": "code",
      "source": [
        "ratings_trainings1 = ratings[(ratings['DATE'] < '2018-09-01')]\n",
        "ratings_trainings2 = ratings[(ratings['DATE'] >= '2018-06-01') & (ratings['DATE'] < '2018-09-01')]\n",
        "ratings_testings = ratings[(ratings['DATE'] >= '2018-09-01') &  (ratings['DATE'] <= '2018-09-30')]\n",
        "\n",
        "print(\"ratings_trainings1:\", ratings_trainings1.shape)\n",
        "print(\"ratings_trainings2:\", ratings_trainings2.shape)\n",
        "print(\"ratings_testings:\", ratings_testings.shape)"
      ],
      "metadata": {
        "colab": {
          "base_uri": "https://localhost:8080/"
        },
        "id": "NXYHu-dnQ1Su",
        "outputId": "f6326df0-49a7-400a-e286-51838a3a6702"
      },
      "id": "NXYHu-dnQ1Su",
      "execution_count": 22,
      "outputs": [
        {
          "output_type": "stream",
          "name": "stdout",
          "text": [
            "ratings_trainings1: (370752, 5)\n",
            "ratings_trainings2: (7027, 5)\n",
            "ratings_testings: (590, 5)\n"
          ]
        }
      ]
    },
    {
      "cell_type": "code",
      "source": [
        "ratings_testings_by_user = ratings_testings.groupby('reviewerID').agg(list).reset_index()[['reviewerID', 'asin']].to_dict('records') #‘records’ : list like [{column -> value}, … , {column -> value}]"
      ],
      "metadata": {
        "id": "dXpbEH5RREyZ"
      },
      "id": "dXpbEH5RREyZ",
      "execution_count": 23,
      "outputs": []
    },
    {
      "cell_type": "code",
      "execution_count": 24,
      "metadata": {
        "id": "5hcb1OtT_fdg"
      },
      "outputs": [],
      "source": [
        "ratings_testings_by_user = { rating['reviewerID']: rating['asin'] for rating in ratings_testings_by_user }"
      ],
      "id": "5hcb1OtT_fdg"
    },
    {
      "cell_type": "markdown",
      "metadata": {
        "id": "7zXqbsf__fdh"
      },
      "source": [
        "## 4.產生推薦"
      ],
      "id": "7zXqbsf__fdh"
    },
    {
      "cell_type": "code",
      "execution_count": 25,
      "metadata": {
        "id": "rX2fLtds_fdh"
      },
      "outputs": [],
      "source": [
        "def recommender(ratings_trainings1, ratings_trainings2, k=15):\n",
        "    '''\n",
        "    * training_data: dataframe 輸入的訓練資料集（2018-09-01 以前資料）\n",
        "    * k: int 每個使用者需要推薦的商品數\n",
        "    * recommendations: list  [推薦商品一, 推薦商品二, ...]\n",
        "    '''\n",
        "    \n",
        "    ratings_compare = ratings_trainings1.groupby(['asin'], as_index=False).agg(product_count=(\"asin\", 'count'),avg_rating=(\"overall\", 'mean'), nearest_date=('DATE','max'))\n",
        "    \n",
        "    ## method 1: product_count\n",
        "    rating_sorting = ratings_compare.sort_values(by=['product_count'], ascending=(False))\n",
        "    rating_sorting['ranking'] = rating_sorting['product_count'].rank(ascending=False)\n",
        "    rating_sorting.reset_index(drop=True, inplace=True)\n",
        "    recom6= rating_sorting['asin'].tolist()[:k]\n",
        "    \n",
        "    ## method 2: avg_rating\n",
        "    rating_sorting = ratings_compare.sort_values(by=['avg_rating'], ascending=(False))\n",
        "    rating_sorting['ranking'] = rating_sorting['avg_rating'].rank(ascending=False)\n",
        "    rating_sorting.reset_index(drop=True, inplace=True)\n",
        "    recom2= rating_sorting['asin'].tolist()[:k]\n",
        "    \n",
        "    ## method 3: product_count>avg_rating\n",
        "    rating_sorting = ratings_compare.sort_values(by=['product_count','avg_rating'], ascending=(False,False))\n",
        "    rating_sorting['ranking'] = rating_sorting['product_count'].rank(ascending=False)\n",
        "    rating_sorting.reset_index(drop=True, inplace=True)\n",
        "    recom3= rating_sorting['asin'].tolist()[:k]\n",
        "    \n",
        "    ## method 4: avg_rating>product_count\n",
        "    rating_sorting = ratings_compare.sort_values(by=['avg_rating','product_count'], ascending=(False,False))\n",
        "    rating_sorting['ranking'] = rating_sorting['avg_rating'].rank(ascending=False)\n",
        "    rating_sorting.reset_index(drop=True, inplace=True)\n",
        "    recom4= rating_sorting['asin'].tolist()[:k]\n",
        "    \n",
        "    '''\n",
        "    * 分析近三個月爆品\n",
        "    * training_data: dataframe 輸入的訓練資料集（2018-09-01~2018-09-01）\n",
        "    * k: int 每個使用者需要推薦的商品數\n",
        "    * recommendations: list  [推薦商品一, 推薦商品二, ...]\n",
        "    '''\n",
        "    ratings_compare = ratings_trainings2.groupby(['asin'], as_index=False).agg(product_count=(\"asin\", 'count'),avg_rating=(\"overall\", 'mean'), nearest_date=('DATE','max'))\n",
        "\n",
        "    ## method 5: recent_popular: product_count\n",
        "    rating_sorting = ratings_compare.sort_values(by=['product_count'], ascending=(False))\n",
        "    rating_sorting['ranking'] = rating_sorting['product_count'].rank(ascending=False)\n",
        "    rating_sorting.reset_index(drop=True, inplace=True)\n",
        "    recom5= rating_sorting['asin'].tolist()[:k]\n",
        "    \n",
        "    ## method 6: recent_popular: avg_rating\n",
        "    rating_sorting = ratings_compare.sort_values(by=['avg_rating'], ascending=(False))\n",
        "    rating_sorting['ranking'] = rating_sorting['avg_rating'].rank(ascending=False)\n",
        "    rating_sorting.reset_index(drop=True, inplace=True)\n",
        "    recom6= rating_sorting['asin'].tolist()[:k]\n",
        "\n",
        "    \n",
        "    return recom1, recom2,recom3,recom4,recom5,recom6\n",
        "\n",
        "recom1, recom2,recom3,recom4,recom5,recom6 = recommender(ratings_trainings1, ratings_trainings2)\n"
      ],
      "id": "rX2fLtds_fdh"
    },
    {
      "cell_type": "markdown",
      "metadata": {
        "id": "oLNK1BhC_fdi"
      },
      "source": [
        "## 5.結果評估"
      ],
      "id": "oLNK1BhC_fdi"
    },
    {
      "cell_type": "code",
      "execution_count": 41,
      "metadata": {
        "id": "3329kO-B_fdi",
        "outputId": "6543c131-bb10-46bc-c6d8-d376caddd5f5",
        "colab": {
          "base_uri": "https://localhost:8080/"
        }
      },
      "outputs": [
        {
          "output_type": "stream",
          "name": "stdout",
          "text": [
            "Evaluation result: \n",
            "\n",
            "product_count : 8.31 %\n",
            "\n",
            "avg_rating : 0.0 %\n",
            "\n",
            "product_count> avg_rating : 8.31 %\n",
            "\n",
            "avg_rating> product_count : 0.0 %\n",
            "\n",
            "product_count(recently 3_months) : 15.42 %\n",
            "\n",
            "avg_rating(recently 3_months) : 0.17 %\n",
            "\n"
          ]
        }
      ],
      "source": [
        "evaluate_group ={\"product_count\":recom1,\n",
        "                 \"avg_rating\":recom2,\n",
        "                 \"product_count> avg_rating\":recom3,\n",
        "                 \"avg_rating> product_count\":recom4,\n",
        "                 \"product_count(recently 3_months)\":recom5,\n",
        "                 \"avg_rating(recently 3_months)\":recom6\n",
        "                }\n",
        "\n",
        "def evaluate(ratings_testings_by_user, evaluate_group):\n",
        "    '''\n",
        "    * 評估各方法前Ｎ大推薦商品，與測試集實際銷售交集數量，即可得出個方法推薦命中率\n",
        "    * ratings_testings_by_user ： dict  {user1: [asin1,asin2], user2:[asin1], ....}\n",
        "    * evaluate_group : dict  {method1: recommendation list, method2: recommendation list,...}\n",
        "    * score: %\n",
        "    '''\n",
        "    print(\"Evaluation result: \\n\")\n",
        "    for group, recommendations in evaluate_group.items():\n",
        "        total = 0\n",
        "        for d in ratings_testings_by_user.keys():\n",
        "            total += len(set(evaluate_group[group])& set(ratings_testings_by_user[d]))\n",
        "        score = total / len(ratings_testings)\n",
        "        \n",
        "        print(group,\":\", round(score*100,2),\"%\\n\")\n",
        "evaluate(ratings_testings_by_user, evaluate_group)"
      ],
      "id": "3329kO-B_fdi"
    },
    {
      "cell_type": "code",
      "execution_count": null,
      "metadata": {
        "id": "oUaMyFlj_fdj"
      },
      "outputs": [],
      "source": [
        ""
      ],
      "id": "oUaMyFlj_fdj"
    }
  ],
  "metadata": {
    "kernelspec": {
      "display_name": "Python 3",
      "language": "python",
      "name": "python3"
    },
    "language_info": {
      "codemirror_mode": {
        "name": "ipython",
        "version": 3
      },
      "file_extension": ".py",
      "mimetype": "text/x-python",
      "name": "python",
      "nbconvert_exporter": "python",
      "pygments_lexer": "ipython3",
      "version": "3.6.5"
    },
    "colab": {
      "name": "A2: 實作「rule-based」的推薦系統",
      "provenance": [],
      "collapsed_sections": [],
      "include_colab_link": true
    },
    "accelerator": "GPU"
  },
  "nbformat": 4,
  "nbformat_minor": 5
}
